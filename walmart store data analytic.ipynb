{
 "cells": [
  {
   "cell_type": "markdown",
   "metadata": {},
   "source": [
    "#### The exercise you are about to study is centered on walmart store analysis. It majorly analyze the profit of the store and tried to see the reason behind the loss that were incur. Which product type i.e. Segment, Sub-Category etc. do really have the highest or more loss thn the others. In order to get better insight and see how thing or decision could be made to better improve the profit generation of the store transactions. These and many more were the thing done I hope you enjoy as you go through it."
   ]
  },
  {
   "cell_type": "markdown",
   "metadata": {},
   "source": [
    "# import libraries"
   ]
  },
  {
   "cell_type": "code",
   "execution_count": 1,
   "metadata": {},
   "outputs": [],
   "source": [
    "import numpy as np\n",
    "import pandas as pd\n",
    "import matplotlib.pyplot as plt\n",
    "\n",
    "%matplotlib inline"
   ]
  },
  {
   "cell_type": "markdown",
   "metadata": {},
   "source": [
    "# Load Your Data"
   ]
  },
  {
   "cell_type": "code",
   "execution_count": 2,
   "metadata": {},
   "outputs": [],
   "source": [
    "walmart_df = pd.read_excel(\"Walmart-Superstore.xls\")"
   ]
  },
  {
   "cell_type": "markdown",
   "metadata": {},
   "source": [
    "# Examine the table"
   ]
  },
  {
   "cell_type": "code",
   "execution_count": 3,
   "metadata": {},
   "outputs": [
    {
     "data": {
      "text/html": [
       "<div>\n",
       "<style scoped>\n",
       "    .dataframe tbody tr th:only-of-type {\n",
       "        vertical-align: middle;\n",
       "    }\n",
       "\n",
       "    .dataframe tbody tr th {\n",
       "        vertical-align: top;\n",
       "    }\n",
       "\n",
       "    .dataframe thead th {\n",
       "        text-align: right;\n",
       "    }\n",
       "</style>\n",
       "<table border=\"1\" class=\"dataframe\">\n",
       "  <thead>\n",
       "    <tr style=\"text-align: right;\">\n",
       "      <th></th>\n",
       "      <th>Row ID</th>\n",
       "      <th>Order ID</th>\n",
       "      <th>Order Date</th>\n",
       "      <th>Ship Date</th>\n",
       "      <th>Ship Mode</th>\n",
       "      <th>Customer ID</th>\n",
       "      <th>Customer Name</th>\n",
       "      <th>Segment</th>\n",
       "      <th>Country</th>\n",
       "      <th>City</th>\n",
       "      <th>...</th>\n",
       "      <th>Postal Code</th>\n",
       "      <th>Region</th>\n",
       "      <th>Product ID</th>\n",
       "      <th>Category</th>\n",
       "      <th>Sub-Category</th>\n",
       "      <th>Product Name</th>\n",
       "      <th>Sales</th>\n",
       "      <th>Quantity</th>\n",
       "      <th>Discount</th>\n",
       "      <th>Profit</th>\n",
       "    </tr>\n",
       "  </thead>\n",
       "  <tbody>\n",
       "    <tr>\n",
       "      <th>0</th>\n",
       "      <td>9976</td>\n",
       "      <td>US-2016-103674</td>\n",
       "      <td>2016-12-06</td>\n",
       "      <td>2016-12-10</td>\n",
       "      <td>Standard Class</td>\n",
       "      <td>AP-10720</td>\n",
       "      <td>Anne Pryor</td>\n",
       "      <td>Home Office</td>\n",
       "      <td>United States</td>\n",
       "      <td>Los Angeles</td>\n",
       "      <td>...</td>\n",
       "      <td>90032</td>\n",
       "      <td>West</td>\n",
       "      <td>OFF-PA-10000743</td>\n",
       "      <td>Office Supplies</td>\n",
       "      <td>Paper</td>\n",
       "      <td>Xerox 1977</td>\n",
       "      <td>13.360</td>\n",
       "      <td>2</td>\n",
       "      <td>0.0</td>\n",
       "      <td>6.4128</td>\n",
       "    </tr>\n",
       "    <tr>\n",
       "      <th>1</th>\n",
       "      <td>9977</td>\n",
       "      <td>US-2016-103674</td>\n",
       "      <td>2016-12-06</td>\n",
       "      <td>2016-12-10</td>\n",
       "      <td>Standard Class</td>\n",
       "      <td>AP-10720</td>\n",
       "      <td>Anne Pryor</td>\n",
       "      <td>Home Office</td>\n",
       "      <td>United States</td>\n",
       "      <td>Los Angeles</td>\n",
       "      <td>...</td>\n",
       "      <td>90032</td>\n",
       "      <td>West</td>\n",
       "      <td>TEC-PH-10002496</td>\n",
       "      <td>Technology</td>\n",
       "      <td>Phones</td>\n",
       "      <td>Cisco SPA301</td>\n",
       "      <td>249.584</td>\n",
       "      <td>2</td>\n",
       "      <td>0.2</td>\n",
       "      <td>31.1980</td>\n",
       "    </tr>\n",
       "    <tr>\n",
       "      <th>2</th>\n",
       "      <td>9978</td>\n",
       "      <td>US-2016-103674</td>\n",
       "      <td>2016-12-06</td>\n",
       "      <td>2016-12-10</td>\n",
       "      <td>Standard Class</td>\n",
       "      <td>AP-10720</td>\n",
       "      <td>Anne Pryor</td>\n",
       "      <td>Home Office</td>\n",
       "      <td>United States</td>\n",
       "      <td>Los Angeles</td>\n",
       "      <td>...</td>\n",
       "      <td>90032</td>\n",
       "      <td>West</td>\n",
       "      <td>OFF-FA-10003467</td>\n",
       "      <td>Office Supplies</td>\n",
       "      <td>Fasteners</td>\n",
       "      <td>Alliance Big Bands Rubber Bands, 12/Pack</td>\n",
       "      <td>13.860</td>\n",
       "      <td>7</td>\n",
       "      <td>0.0</td>\n",
       "      <td>0.0000</td>\n",
       "    </tr>\n",
       "    <tr>\n",
       "      <th>3</th>\n",
       "      <td>9979</td>\n",
       "      <td>US-2016-103674</td>\n",
       "      <td>2016-12-06</td>\n",
       "      <td>2016-12-10</td>\n",
       "      <td>Standard Class</td>\n",
       "      <td>AP-10720</td>\n",
       "      <td>Anne Pryor</td>\n",
       "      <td>Home Office</td>\n",
       "      <td>United States</td>\n",
       "      <td>Los Angeles</td>\n",
       "      <td>...</td>\n",
       "      <td>90032</td>\n",
       "      <td>West</td>\n",
       "      <td>OFF-BI-10003727</td>\n",
       "      <td>Office Supplies</td>\n",
       "      <td>Binders</td>\n",
       "      <td>Avery Durable Slant Ring Binders With Label Ho...</td>\n",
       "      <td>13.376</td>\n",
       "      <td>4</td>\n",
       "      <td>0.2</td>\n",
       "      <td>4.6816</td>\n",
       "    </tr>\n",
       "    <tr>\n",
       "      <th>4</th>\n",
       "      <td>9980</td>\n",
       "      <td>US-2016-103674</td>\n",
       "      <td>2016-12-06</td>\n",
       "      <td>2016-12-10</td>\n",
       "      <td>Standard Class</td>\n",
       "      <td>AP-10720</td>\n",
       "      <td>Anne Pryor</td>\n",
       "      <td>Home Office</td>\n",
       "      <td>United States</td>\n",
       "      <td>Los Angeles</td>\n",
       "      <td>...</td>\n",
       "      <td>90032</td>\n",
       "      <td>West</td>\n",
       "      <td>OFF-BI-10002026</td>\n",
       "      <td>Office Supplies</td>\n",
       "      <td>Binders</td>\n",
       "      <td>Ibico Recycled Linen-Style Covers</td>\n",
       "      <td>437.472</td>\n",
       "      <td>14</td>\n",
       "      <td>0.2</td>\n",
       "      <td>153.1152</td>\n",
       "    </tr>\n",
       "  </tbody>\n",
       "</table>\n",
       "<p>5 rows × 21 columns</p>\n",
       "</div>"
      ],
      "text/plain": [
       "   Row ID        Order ID Order Date  Ship Date       Ship Mode Customer ID  \\\n",
       "0    9976  US-2016-103674 2016-12-06 2016-12-10  Standard Class    AP-10720   \n",
       "1    9977  US-2016-103674 2016-12-06 2016-12-10  Standard Class    AP-10720   \n",
       "2    9978  US-2016-103674 2016-12-06 2016-12-10  Standard Class    AP-10720   \n",
       "3    9979  US-2016-103674 2016-12-06 2016-12-10  Standard Class    AP-10720   \n",
       "4    9980  US-2016-103674 2016-12-06 2016-12-10  Standard Class    AP-10720   \n",
       "\n",
       "  Customer Name      Segment        Country         City  ... Postal Code  \\\n",
       "0    Anne Pryor  Home Office  United States  Los Angeles  ...       90032   \n",
       "1    Anne Pryor  Home Office  United States  Los Angeles  ...       90032   \n",
       "2    Anne Pryor  Home Office  United States  Los Angeles  ...       90032   \n",
       "3    Anne Pryor  Home Office  United States  Los Angeles  ...       90032   \n",
       "4    Anne Pryor  Home Office  United States  Los Angeles  ...       90032   \n",
       "\n",
       "   Region       Product ID         Category Sub-Category  \\\n",
       "0    West  OFF-PA-10000743  Office Supplies        Paper   \n",
       "1    West  TEC-PH-10002496       Technology       Phones   \n",
       "2    West  OFF-FA-10003467  Office Supplies    Fasteners   \n",
       "3    West  OFF-BI-10003727  Office Supplies      Binders   \n",
       "4    West  OFF-BI-10002026  Office Supplies      Binders   \n",
       "\n",
       "                                        Product Name    Sales  Quantity  \\\n",
       "0                                         Xerox 1977   13.360         2   \n",
       "1                                       Cisco SPA301  249.584         2   \n",
       "2           Alliance Big Bands Rubber Bands, 12/Pack   13.860         7   \n",
       "3  Avery Durable Slant Ring Binders With Label Ho...   13.376         4   \n",
       "4                  Ibico Recycled Linen-Style Covers  437.472        14   \n",
       "\n",
       "   Discount    Profit  \n",
       "0       0.0    6.4128  \n",
       "1       0.2   31.1980  \n",
       "2       0.0    0.0000  \n",
       "3       0.2    4.6816  \n",
       "4       0.2  153.1152  \n",
       "\n",
       "[5 rows x 21 columns]"
      ]
     },
     "execution_count": 3,
     "metadata": {},
     "output_type": "execute_result"
    }
   ],
   "source": [
    "walmart_df.head()"
   ]
  },
  {
   "cell_type": "markdown",
   "metadata": {},
   "source": [
    "# Data exploration "
   ]
  },
  {
   "cell_type": "code",
   "execution_count": 4,
   "metadata": {},
   "outputs": [
    {
     "data": {
      "text/plain": [
       "(9994, 21)"
      ]
     },
     "execution_count": 4,
     "metadata": {},
     "output_type": "execute_result"
    }
   ],
   "source": [
    "walmart_df.shape"
   ]
  },
  {
   "cell_type": "markdown",
   "metadata": {},
   "source": [
    "#### We could see that the columns consist of object types majorly. This gives us a clue of what kind of variables we would be working with that are int and datatime data types. which are fewer compared to object data type."
   ]
  },
  {
   "cell_type": "code",
   "execution_count": 5,
   "metadata": {},
   "outputs": [
    {
     "name": "stdout",
     "output_type": "stream",
     "text": [
      "<class 'pandas.core.frame.DataFrame'>\n",
      "RangeIndex: 9994 entries, 0 to 9993\n",
      "Data columns (total 21 columns):\n",
      " #   Column         Non-Null Count  Dtype         \n",
      "---  ------         --------------  -----         \n",
      " 0   Row ID         9994 non-null   int64         \n",
      " 1   Order ID       9994 non-null   object        \n",
      " 2   Order Date     9994 non-null   datetime64[ns]\n",
      " 3   Ship Date      9994 non-null   datetime64[ns]\n",
      " 4   Ship Mode      9994 non-null   object        \n",
      " 5   Customer ID    9994 non-null   object        \n",
      " 6   Customer Name  9994 non-null   object        \n",
      " 7   Segment        9994 non-null   object        \n",
      " 8   Country        9994 non-null   object        \n",
      " 9   City           9994 non-null   object        \n",
      " 10  State          9994 non-null   object        \n",
      " 11  Postal Code    9994 non-null   int64         \n",
      " 12  Region         9994 non-null   object        \n",
      " 13  Product ID     9994 non-null   object        \n",
      " 14  Category       9994 non-null   object        \n",
      " 15  Sub-Category   9994 non-null   object        \n",
      " 16  Product Name   9994 non-null   object        \n",
      " 17  Sales          9994 non-null   float64       \n",
      " 18  Quantity       9994 non-null   int64         \n",
      " 19  Discount       9994 non-null   float64       \n",
      " 20  Profit         9994 non-null   float64       \n",
      "dtypes: datetime64[ns](2), float64(3), int64(3), object(13)\n",
      "memory usage: 1.6+ MB\n"
     ]
    }
   ],
   "source": [
    "walmart_df.info()"
   ]
  },
  {
   "cell_type": "code",
   "execution_count": 6,
   "metadata": {},
   "outputs": [
    {
     "data": {
      "text/html": [
       "<div>\n",
       "<style scoped>\n",
       "    .dataframe tbody tr th:only-of-type {\n",
       "        vertical-align: middle;\n",
       "    }\n",
       "\n",
       "    .dataframe tbody tr th {\n",
       "        vertical-align: top;\n",
       "    }\n",
       "\n",
       "    .dataframe thead th {\n",
       "        text-align: right;\n",
       "    }\n",
       "</style>\n",
       "<table border=\"1\" class=\"dataframe\">\n",
       "  <thead>\n",
       "    <tr style=\"text-align: right;\">\n",
       "      <th></th>\n",
       "      <th>Row ID</th>\n",
       "      <th>Postal Code</th>\n",
       "      <th>Sales</th>\n",
       "      <th>Quantity</th>\n",
       "      <th>Discount</th>\n",
       "      <th>Profit</th>\n",
       "    </tr>\n",
       "  </thead>\n",
       "  <tbody>\n",
       "    <tr>\n",
       "      <th>count</th>\n",
       "      <td>9994.000000</td>\n",
       "      <td>9994.000000</td>\n",
       "      <td>9994.000000</td>\n",
       "      <td>9994.000000</td>\n",
       "      <td>9994.000000</td>\n",
       "      <td>9994.000000</td>\n",
       "    </tr>\n",
       "    <tr>\n",
       "      <th>mean</th>\n",
       "      <td>5016.463878</td>\n",
       "      <td>55190.379428</td>\n",
       "      <td>229.858001</td>\n",
       "      <td>3.789574</td>\n",
       "      <td>0.156203</td>\n",
       "      <td>28.656896</td>\n",
       "    </tr>\n",
       "    <tr>\n",
       "      <th>std</th>\n",
       "      <td>2885.101298</td>\n",
       "      <td>32063.693350</td>\n",
       "      <td>623.245101</td>\n",
       "      <td>2.225110</td>\n",
       "      <td>0.206452</td>\n",
       "      <td>234.260108</td>\n",
       "    </tr>\n",
       "    <tr>\n",
       "      <th>min</th>\n",
       "      <td>20.000000</td>\n",
       "      <td>1040.000000</td>\n",
       "      <td>0.444000</td>\n",
       "      <td>1.000000</td>\n",
       "      <td>0.000000</td>\n",
       "      <td>-6599.978000</td>\n",
       "    </tr>\n",
       "    <tr>\n",
       "      <th>25%</th>\n",
       "      <td>2518.250000</td>\n",
       "      <td>23223.000000</td>\n",
       "      <td>17.280000</td>\n",
       "      <td>2.000000</td>\n",
       "      <td>0.000000</td>\n",
       "      <td>1.728750</td>\n",
       "    </tr>\n",
       "    <tr>\n",
       "      <th>50%</th>\n",
       "      <td>5016.500000</td>\n",
       "      <td>56430.500000</td>\n",
       "      <td>54.490000</td>\n",
       "      <td>3.000000</td>\n",
       "      <td>0.200000</td>\n",
       "      <td>8.666500</td>\n",
       "    </tr>\n",
       "    <tr>\n",
       "      <th>75%</th>\n",
       "      <td>7514.750000</td>\n",
       "      <td>90008.000000</td>\n",
       "      <td>209.940000</td>\n",
       "      <td>5.000000</td>\n",
       "      <td>0.200000</td>\n",
       "      <td>29.364000</td>\n",
       "    </tr>\n",
       "    <tr>\n",
       "      <th>max</th>\n",
       "      <td>9994.000000</td>\n",
       "      <td>99301.000000</td>\n",
       "      <td>22638.480000</td>\n",
       "      <td>14.000000</td>\n",
       "      <td>0.800000</td>\n",
       "      <td>8399.976000</td>\n",
       "    </tr>\n",
       "  </tbody>\n",
       "</table>\n",
       "</div>"
      ],
      "text/plain": [
       "            Row ID   Postal Code         Sales     Quantity     Discount  \\\n",
       "count  9994.000000   9994.000000   9994.000000  9994.000000  9994.000000   \n",
       "mean   5016.463878  55190.379428    229.858001     3.789574     0.156203   \n",
       "std    2885.101298  32063.693350    623.245101     2.225110     0.206452   \n",
       "min      20.000000   1040.000000      0.444000     1.000000     0.000000   \n",
       "25%    2518.250000  23223.000000     17.280000     2.000000     0.000000   \n",
       "50%    5016.500000  56430.500000     54.490000     3.000000     0.200000   \n",
       "75%    7514.750000  90008.000000    209.940000     5.000000     0.200000   \n",
       "max    9994.000000  99301.000000  22638.480000    14.000000     0.800000   \n",
       "\n",
       "            Profit  \n",
       "count  9994.000000  \n",
       "mean     28.656896  \n",
       "std     234.260108  \n",
       "min   -6599.978000  \n",
       "25%       1.728750  \n",
       "50%       8.666500  \n",
       "75%      29.364000  \n",
       "max    8399.976000  "
      ]
     },
     "execution_count": 6,
     "metadata": {},
     "output_type": "execute_result"
    }
   ],
   "source": [
    "walmart_df.describe()"
   ]
  },
  {
   "cell_type": "markdown",
   "metadata": {},
   "source": [
    "#### Lookng at the table and its contents, it shows us that statistical properties that walmart store data consists. Especially that int data type of the column features."
   ]
  },
  {
   "cell_type": "markdown",
   "metadata": {},
   "source": [
    "### Numerial analysis and visualization"
   ]
  },
  {
   "cell_type": "code",
   "execution_count": 7,
   "metadata": {},
   "outputs": [
    {
     "data": {
      "text/plain": [
       "229.8580008304936"
      ]
     },
     "execution_count": 7,
     "metadata": {},
     "output_type": "execute_result"
    }
   ],
   "source": [
    "walmart_df[\"Sales\"].mean()"
   ]
  },
  {
   "cell_type": "code",
   "execution_count": 8,
   "metadata": {},
   "outputs": [
    {
     "data": {
      "text/plain": [
       "623.2451005086818"
      ]
     },
     "execution_count": 8,
     "metadata": {},
     "output_type": "execute_result"
    }
   ],
   "source": [
    "walmart_df[\"Sales\"].std()"
   ]
  },
  {
   "cell_type": "code",
   "execution_count": 9,
   "metadata": {},
   "outputs": [
    {
     "data": {
      "text/plain": [
       "0.15620272163298934"
      ]
     },
     "execution_count": 9,
     "metadata": {},
     "output_type": "execute_result"
    }
   ],
   "source": [
    "walmart_df[\"Discount\"].mean()"
   ]
  },
  {
   "cell_type": "code",
   "execution_count": 10,
   "metadata": {},
   "outputs": [
    {
     "data": {
      "text/plain": [
       "0.2064519678256986"
      ]
     },
     "execution_count": 10,
     "metadata": {},
     "output_type": "execute_result"
    }
   ],
   "source": [
    "walmart_df[\"Discount\"].std()"
   ]
  },
  {
   "cell_type": "code",
   "execution_count": 11,
   "metadata": {},
   "outputs": [
    {
     "data": {
      "text/plain": [
       "28.6568963077848"
      ]
     },
     "execution_count": 11,
     "metadata": {},
     "output_type": "execute_result"
    }
   ],
   "source": [
    "walmart_df[\"Profit\"].mean()"
   ]
  },
  {
   "cell_type": "code",
   "execution_count": 12,
   "metadata": {},
   "outputs": [
    {
     "data": {
      "text/plain": [
       "0.2064519678256986"
      ]
     },
     "execution_count": 12,
     "metadata": {},
     "output_type": "execute_result"
    }
   ],
   "source": [
    "walmart_df[\"Discount\"].std()"
   ]
  },
  {
   "cell_type": "code",
   "execution_count": 13,
   "metadata": {},
   "outputs": [
    {
     "data": {
      "text/plain": [
       "3.789573744246548"
      ]
     },
     "execution_count": 13,
     "metadata": {},
     "output_type": "execute_result"
    }
   ],
   "source": [
    "walmart_df[\"Quantity\"].mean()"
   ]
  },
  {
   "cell_type": "code",
   "execution_count": 14,
   "metadata": {},
   "outputs": [
    {
     "data": {
      "text/plain": [
       "2.2251096911414274"
      ]
     },
     "execution_count": 14,
     "metadata": {},
     "output_type": "execute_result"
    }
   ],
   "source": [
    "walmart_df[\"Quantity\"].std()"
   ]
  },
  {
   "cell_type": "code",
   "execution_count": 15,
   "metadata": {},
   "outputs": [
    {
     "data": {
      "text/plain": [
       "234.2601076909576"
      ]
     },
     "execution_count": 15,
     "metadata": {},
     "output_type": "execute_result"
    }
   ],
   "source": [
    "walmart_df[\"Profit\"].std()"
   ]
  },
  {
   "cell_type": "markdown",
   "metadata": {},
   "source": [
    "#### We checked for the mean and standard deviatiation of the some key statistcal variables, such as sales, profit, quantity ... Just to view their numerical figureat a glance"
   ]
  },
  {
   "cell_type": "code",
   "execution_count": 16,
   "metadata": {},
   "outputs": [
    {
     "data": {
      "text/plain": [
       "count    9994.000000\n",
       "mean       28.656896\n",
       "std       234.260108\n",
       "min     -6599.978000\n",
       "25%         1.728750\n",
       "50%         8.666500\n",
       "75%        29.364000\n",
       "max      8399.976000\n",
       "Name: Profit, dtype: float64"
      ]
     },
     "execution_count": 16,
     "metadata": {},
     "output_type": "execute_result"
    }
   ],
   "source": [
    "walmart_df[\"Profit\"].describe()"
   ]
  },
  {
   "cell_type": "markdown",
   "metadata": {},
   "source": [
    "#### We used the describe function to overview the statistical properties of \"Profit\" variable in the table.\n"
   ]
  },
  {
   "cell_type": "code",
   "execution_count": 17,
   "metadata": {},
   "outputs": [
    {
     "data": {
      "text/plain": [
       "8.666499999999996"
      ]
     },
     "execution_count": 17,
     "metadata": {},
     "output_type": "execute_result"
    }
   ],
   "source": [
    "walmart_df[\"Profit\"].median()"
   ]
  },
  {
   "cell_type": "markdown",
   "metadata": {},
   "source": [
    "### Okay! now is the time for the visualization of data, and we begin with Profit, using a boxplot to visualize it property "
   ]
  },
  {
   "cell_type": "code",
   "execution_count": 18,
   "metadata": {},
   "outputs": [
    {
     "data": {
      "text/plain": [
       "<matplotlib.axes._subplots.AxesSubplot at 0x1c425be8148>"
      ]
     },
     "execution_count": 18,
     "metadata": {},
     "output_type": "execute_result"
    },
    {
     "data": {
      "image/png": "[encoded data removed]",
      "text/plain": [
       "<Figure size 1008x432 with 1 Axes>"
      ]
     },
     "metadata": {
      "needs_background": "light"
     },
     "output_type": "display_data"
    }
   ],
   "source": [
    "walmart_df[\"Profit\"].plot(kind=\"box\", vert=False, figsize=(14, 6))"
   ]
  },
  {
   "cell_type": "markdown",
   "metadata": {},
   "source": [
    "#### From the above visualizaton, we could see that that are outliers both at the positive and negatives ends of the line along the horizontal axis"
   ]
  },
  {
   "cell_type": "code",
   "execution_count": 19,
   "metadata": {},
   "outputs": [
    {
     "data": {
      "text/plain": [
       "<matplotlib.axes._subplots.AxesSubplot at 0x1c425af7ac8>"
      ]
     },
     "execution_count": 19,
     "metadata": {},
     "output_type": "execute_result"
    },
    {
     "data": {
      "image/png": "[encoded data removed]",
      "text/plain": [
       "<Figure size 1008x432 with 1 Axes>"
      ]
     },
     "metadata": {
      "needs_background": "light"
     },
     "output_type": "display_data"
    }
   ],
   "source": [
    "walmart_df[\"Profit\"].plot(kind=\"density\", figsize=(14, 6))"
   ]
  },
  {
   "cell_type": "code",
   "execution_count": 20,
   "metadata": {},
   "outputs": [
    {
     "data": {
      "text/plain": [
       "Text(0.5, 0, 'Dollars')"
      ]
     },
     "execution_count": 20,
     "metadata": {},
     "output_type": "execute_result"
    },
    {
     "data": {
      "image/png": "[encoded data removed]",
      "text/plain": [
       "<Figure size 1008x432 with 1 Axes>"
      ]
     },
     "metadata": {
      "needs_background": "light"
     },
     "output_type": "display_data"
    }
   ],
   "source": [
    "ax = walmart_df['Profit'].plot(kind=\"hist\", figsize=(14,6))\n",
    "ax.set_ylabel(\"Number of Profit\")\n",
    "ax.set_xlabel(\"Dollars\")"
   ]
  },
  {
   "cell_type": "markdown",
   "metadata": {},
   "source": [
    "#### The above visualization display the same as the previous, just that the kind of display is different. The latter makes use of histogram"
   ]
  },
  {
   "cell_type": "code",
   "execution_count": 21,
   "metadata": {},
   "outputs": [
    {
     "data": {
      "text/plain": [
       "(Office Supplies    6026\n",
       " Furniture          2121\n",
       " Technology         1847\n",
       " Name: Category, dtype: int64,\n",
       " <matplotlib.axes._subplots.AxesSubplot at 0x1c427e645c8>)"
      ]
     },
     "execution_count": 21,
     "metadata": {},
     "output_type": "execute_result"
    },
    {
     "data": {
      "image/png": "[encoded data removed]",
      "text/plain": [
       "<Figure size 432x432 with 1 Axes>"
      ]
     },
     "metadata": {},
     "output_type": "display_data"
    }
   ],
   "source": [
    "walmart_df[\"Category\"].value_counts(), walmart_df[\"Category\"].value_counts().plot(kind=\"pie\", figsize=(6,6))"
   ]
  },
  {
   "cell_type": "markdown",
   "metadata": {},
   "source": [
    "#### The above visualization was done to show the proportion of the categorical variable under column feature called \"Category\" we could see that subtype under that very same column appears to be the one with the largest proportion."
   ]
  },
  {
   "cell_type": "code",
   "execution_count": 22,
   "metadata": {},
   "outputs": [
    {
     "data": {
      "text/plain": [
       "(Binders        1523\n",
       " Paper          1370\n",
       " Furnishings     957\n",
       " Phones          889\n",
       " Storage         846\n",
       " Art             796\n",
       " Accessories     775\n",
       " Chairs          617\n",
       " Appliances      466\n",
       " Labels          364\n",
       " Tables          319\n",
       " Envelopes       254\n",
       " Bookcases       228\n",
       " Fasteners       217\n",
       " Supplies        190\n",
       " Machines        115\n",
       " Copiers          68\n",
       " Name: Sub-Category, dtype: int64,)"
      ]
     },
     "execution_count": 22,
     "metadata": {},
     "output_type": "execute_result"
    }
   ],
   "source": [
    "walmart_df[\"Sub-Category\"].value_counts(),"
   ]
  },
  {
   "cell_type": "code",
   "execution_count": 23,
   "metadata": {},
   "outputs": [
    {
     "data": {
      "text/plain": [
       "<matplotlib.axes._subplots.AxesSubplot at 0x1c427efa648>"
      ]
     },
     "execution_count": 23,
     "metadata": {},
     "output_type": "execute_result"
    },
    {
     "data": {
      "image/png": "[encoded data removed]",
      "text/plain": [
       "<Figure size 432x432 with 1 Axes>"
      ]
     },
     "metadata": {},
     "output_type": "display_data"
    }
   ],
   "source": [
    " walmart_df[\"Sub-Category\"].value_counts().plot(kind=\"pie\", figsize=(6,6))"
   ]
  },
  {
   "cell_type": "markdown",
   "metadata": {},
   "source": [
    "#### The same thing is beng replicate here, we use a particular column, \"Sub-Category\" for the display of the products under itself and view the proportion of each of them how large or how small they are."
   ]
  },
  {
   "cell_type": "code",
   "execution_count": 24,
   "metadata": {},
   "outputs": [
    {
     "data": {
      "text/plain": [
       "<matplotlib.axes._subplots.AxesSubplot at 0x1c427f81b08>"
      ]
     },
     "execution_count": 24,
     "metadata": {},
     "output_type": "execute_result"
    },
    {
     "data": {
      "image/png": "[encoded data removed]",
      "text/plain": [
       "<Figure size 432x432 with 1 Axes>"
      ]
     },
     "metadata": {},
     "output_type": "display_data"
    }
   ],
   "source": [
    "walmart_df[\"Segment\"].value_counts().plot(kind=\"pie\", figsize=(6, 6))"
   ]
  },
  {
   "cell_type": "code",
   "execution_count": 25,
   "metadata": {},
   "outputs": [
    {
     "data": {
      "text/plain": [
       "Consumer       5191\n",
       "Corporate      3020\n",
       "Home Office    1783\n",
       "Name: Segment, dtype: int64"
      ]
     },
     "execution_count": 25,
     "metadata": {},
     "output_type": "execute_result"
    }
   ],
   "source": [
    "walmart_df[\"Segment\"].value_counts()\n"
   ]
  },
  {
   "cell_type": "markdown",
   "metadata": {},
   "source": [
    "#### Let's view the structure of a column \"Segment\" and see the eight of each of them using histogram"
   ]
  },
  {
   "cell_type": "raw",
   "metadata": {},
   "source": [
    "ax = walmart_df[\"Segment\"].value_counts().plot(kind=\"bar\", figsize=(7, 6))\n",
    "ax.set_label(\"Number of Each Sales Segment\")"
   ]
  },
  {
   "cell_type": "markdown",
   "metadata": {},
   "source": [
    "#### From the above visualization we could tell that Consumer, a subtype of the variable under watch was the largest by occupying the highest space in the walmart store data "
   ]
  },
  {
   "cell_type": "markdown",
   "metadata": {},
   "source": [
    "#### We would like to see the correlation table table of the columns that are have statistical propertes"
   ]
  },
  {
   "cell_type": "code",
   "execution_count": 26,
   "metadata": {},
   "outputs": [
    {
     "data": {
      "text/html": [
       "<div>\n",
       "<style scoped>\n",
       "    .dataframe tbody tr th:only-of-type {\n",
       "        vertical-align: middle;\n",
       "    }\n",
       "\n",
       "    .dataframe tbody tr th {\n",
       "        vertical-align: top;\n",
       "    }\n",
       "\n",
       "    .dataframe thead th {\n",
       "        text-align: right;\n",
       "    }\n",
       "</style>\n",
       "<table border=\"1\" class=\"dataframe\">\n",
       "  <thead>\n",
       "    <tr style=\"text-align: right;\">\n",
       "      <th></th>\n",
       "      <th>Row ID</th>\n",
       "      <th>Postal Code</th>\n",
       "      <th>Sales</th>\n",
       "      <th>Quantity</th>\n",
       "      <th>Discount</th>\n",
       "      <th>Profit</th>\n",
       "    </tr>\n",
       "  </thead>\n",
       "  <tbody>\n",
       "    <tr>\n",
       "      <th>Row ID</th>\n",
       "      <td>1.000000</td>\n",
       "      <td>0.013268</td>\n",
       "      <td>0.000063</td>\n",
       "      <td>-0.003395</td>\n",
       "      <td>0.014288</td>\n",
       "      <td>0.012025</td>\n",
       "    </tr>\n",
       "    <tr>\n",
       "      <th>Postal Code</th>\n",
       "      <td>0.013268</td>\n",
       "      <td>1.000000</td>\n",
       "      <td>-0.023854</td>\n",
       "      <td>0.012761</td>\n",
       "      <td>0.058443</td>\n",
       "      <td>-0.029961</td>\n",
       "    </tr>\n",
       "    <tr>\n",
       "      <th>Sales</th>\n",
       "      <td>0.000063</td>\n",
       "      <td>-0.023854</td>\n",
       "      <td>1.000000</td>\n",
       "      <td>0.200795</td>\n",
       "      <td>-0.028190</td>\n",
       "      <td>0.479064</td>\n",
       "    </tr>\n",
       "    <tr>\n",
       "      <th>Quantity</th>\n",
       "      <td>-0.003395</td>\n",
       "      <td>0.012761</td>\n",
       "      <td>0.200795</td>\n",
       "      <td>1.000000</td>\n",
       "      <td>0.008623</td>\n",
       "      <td>0.066253</td>\n",
       "    </tr>\n",
       "    <tr>\n",
       "      <th>Discount</th>\n",
       "      <td>0.014288</td>\n",
       "      <td>0.058443</td>\n",
       "      <td>-0.028190</td>\n",
       "      <td>0.008623</td>\n",
       "      <td>1.000000</td>\n",
       "      <td>-0.219487</td>\n",
       "    </tr>\n",
       "    <tr>\n",
       "      <th>Profit</th>\n",
       "      <td>0.012025</td>\n",
       "      <td>-0.029961</td>\n",
       "      <td>0.479064</td>\n",
       "      <td>0.066253</td>\n",
       "      <td>-0.219487</td>\n",
       "      <td>1.000000</td>\n",
       "    </tr>\n",
       "  </tbody>\n",
       "</table>\n",
       "</div>"
      ],
      "text/plain": [
       "               Row ID  Postal Code     Sales  Quantity  Discount    Profit\n",
       "Row ID       1.000000     0.013268  0.000063 -0.003395  0.014288  0.012025\n",
       "Postal Code  0.013268     1.000000 -0.023854  0.012761  0.058443 -0.029961\n",
       "Sales        0.000063    -0.023854  1.000000  0.200795 -0.028190  0.479064\n",
       "Quantity    -0.003395     0.012761  0.200795  1.000000  0.008623  0.066253\n",
       "Discount     0.014288     0.058443 -0.028190  0.008623  1.000000 -0.219487\n",
       "Profit       0.012025    -0.029961  0.479064  0.066253 -0.219487  1.000000"
      ]
     },
     "execution_count": 26,
     "metadata": {},
     "output_type": "execute_result"
    }
   ],
   "source": [
    "corr = walmart_df.corr()\n",
    "corr"
   ]
  },
  {
   "cell_type": "markdown",
   "metadata": {},
   "source": [
    "#### So from the above table you could see that the mostly weak relationship among the variable under investigation. The only relationship that seems to be a bit high was between Proft and Sales. Still it shows a sort of weak relationship."
   ]
  },
  {
   "cell_type": "code",
   "execution_count": 27,
   "metadata": {},
   "outputs": [
    {
     "data": {
      "image/png": "[encoded data removed]",
      "text/plain": [
       "<Figure size 864x576 with 1 Axes>"
      ]
     },
     "metadata": {
      "needs_background": "light"
     },
     "output_type": "display_data"
    }
   ],
   "source": [
    "fig = plt.figure(figsize=(12, 8))\n",
    "plt.matshow(corr, cmap=\"RdBu\", fignum=fig.number)\n",
    "plt.xticks(range(len(corr.columns)),corr.columns, rotation=\"vertical\");\n",
    "plt.yticks(range(len(corr.columns)), corr.columns);"
   ]
  },
  {
   "cell_type": "code",
   "execution_count": 28,
   "metadata": {},
   "outputs": [
    {
     "data": {
      "text/plain": [
       "<matplotlib.axes._subplots.AxesSubplot at 0x1c425dd5648>"
      ]
     },
     "execution_count": 28,
     "metadata": {},
     "output_type": "execute_result"
    },
    {
     "data": {
      "image/png": "[encoded data removed]",
      "text/plain": [
       "<Figure size 432x432 with 1 Axes>"
      ]
     },
     "metadata": {
      "needs_background": "light"
     },
     "output_type": "display_data"
    }
   ],
   "source": [
    "walmart_df.plot(kind=\"scatter\", x=\"Profit\", y=\"Sales\", figsize=(6,6))"
   ]
  },
  {
   "cell_type": "markdown",
   "metadata": {},
   "source": [
    "#### Then we want to use scatter graph to show relationships between two varables"
   ]
  },
  {
   "cell_type": "code",
   "execution_count": 29,
   "metadata": {},
   "outputs": [
    {
     "data": {
      "text/plain": [
       "<matplotlib.axes._subplots.AxesSubplot at 0x1c428309b08>"
      ]
     },
     "execution_count": 29,
     "metadata": {},
     "output_type": "execute_result"
    },
    {
     "data": {
      "image/png": "[encoded data removed]",
      "text/plain": [
       "<Figure size 432x432 with 1 Axes>"
      ]
     },
     "metadata": {
      "needs_background": "light"
     },
     "output_type": "display_data"
    }
   ],
   "source": [
    "walmart_df.plot(kind=\"scatter\", x=\"Profit\", y=\"Discount\", figsize=(6,6))"
   ]
  },
  {
   "cell_type": "markdown",
   "metadata": {},
   "source": [
    "##### From the above graph we could tell that clearly their is a negative relation between \"Profit\" and \"Discount\". The higher the increase in the number of discount being given the lesser the profit, the store gien will get from each product sold and higher the chance of running into loss."
   ]
  },
  {
   "cell_type": "markdown",
   "metadata": {},
   "source": [
    "##### We use boxplot to do the same analysis, checking the relationship between two variables but more importantly lookng out for outliers  "
   ]
  },
  {
   "cell_type": "code",
   "execution_count": 30,
   "metadata": {},
   "outputs": [
    {
     "name": "stderr",
     "output_type": "stream",
     "text": [
      "C:\\anaconda\\lib\\site-packages\\numpy\\core\\_asarray.py:83: VisibleDeprecationWarning: Creating an ndarray from ragged nested sequences (which is a list-or-tuple of lists-or-tuples-or ndarrays with different lengths or shapes) is deprecated. If you meant to do this, you must specify 'dtype=object' when creating the ndarray\n",
      "  return array(a, dtype, copy=False, order=order)\n"
     ]
    },
    {
     "data": {
      "image/png": "[encoded data removed]",
      "text/plain": [
       "<Figure size 432x432 with 1 Axes>"
      ]
     },
     "metadata": {
      "needs_background": "light"
     },
     "output_type": "display_data"
    }
   ],
   "source": [
    "ax=walmart_df[[\"Profit\", \"Segment\"]].boxplot(by=\"Segment\", figsize=(6, 6))\n",
    "ax.set_label(\"Segment\")"
   ]
  },
  {
   "cell_type": "markdown",
   "metadata": {},
   "source": [
    "##### Also in the like manner of the previous analysis, we use boxplot to check for the relationships, with the interest of knowing the rate of profit on each product undersub-category. And as well looking the outliers  variances in each of the product category."
   ]
  },
  {
   "cell_type": "code",
   "execution_count": 31,
   "metadata": {},
   "outputs": [
    {
     "name": "stderr",
     "output_type": "stream",
     "text": [
      "C:\\anaconda\\lib\\site-packages\\numpy\\core\\_asarray.py:83: VisibleDeprecationWarning: Creating an ndarray from ragged nested sequences (which is a list-or-tuple of lists-or-tuples-or ndarrays with different lengths or shapes) is deprecated. If you meant to do this, you must specify 'dtype=object' when creating the ndarray\n",
      "  return array(a, dtype, copy=False, order=order)\n"
     ]
    },
    {
     "data": {
      "image/png": "[encoded data removed]",
      "text/plain": [
       "<Figure size 1296x432 with 1 Axes>"
      ]
     },
     "metadata": {
      "needs_background": "light"
     },
     "output_type": "display_data"
    }
   ],
   "source": [
    "ax=walmart_df[[\"Profit\", \"Sub-Category\"]].boxplot(by=\"Sub-Category\", figsize=(18, 6))\n",
    "ax.set_label(\"Sub-Category\")"
   ]
  },
  {
   "cell_type": "code",
   "execution_count": 32,
   "metadata": {},
   "outputs": [
    {
     "name": "stderr",
     "output_type": "stream",
     "text": [
      "C:\\anaconda\\lib\\site-packages\\numpy\\core\\_asarray.py:83: VisibleDeprecationWarning: Creating an ndarray from ragged nested sequences (which is a list-or-tuple of lists-or-tuples-or ndarrays with different lengths or shapes) is deprecated. If you meant to do this, you must specify 'dtype=object' when creating the ndarray\n",
      "  return array(a, dtype, copy=False, order=order)\n"
     ]
    },
    {
     "data": {
      "image/png": "[encoded data removed]",
      "text/plain": [
       "<Figure size 1296x432 with 1 Axes>"
      ]
     },
     "metadata": {
      "needs_background": "light"
     },
     "output_type": "display_data"
    }
   ],
   "source": [
    "ax=walmart_df[[\"Profit\", \"Category\"]].boxplot(by=\"Category\", figsize=(18, 6))\n",
    "ax.set_label(\"Category\")"
   ]
  },
  {
   "cell_type": "markdown",
   "metadata": {},
   "source": [
    "##### Using boxplot visualiization to check for outliers in Profit, Sales, Quantity, Discount and Segment."
   ]
  },
  {
   "cell_type": "code",
   "execution_count": 33,
   "metadata": {},
   "outputs": [
    {
     "data": {
      "text/plain": [
       "Profit         AxesSubplot(0.125,0.536818;0.352273x0.343182)\n",
       "Sales       AxesSubplot(0.547727,0.536818;0.352273x0.343182)\n",
       "Quantity          AxesSubplot(0.125,0.125;0.352273x0.343182)\n",
       "Discount       AxesSubplot(0.547727,0.125;0.352273x0.343182)\n",
       "dtype: object"
      ]
     },
     "execution_count": 33,
     "metadata": {},
     "output_type": "execute_result"
    },
    {
     "data": {
      "image/png": "[encoded data removed]",
      "text/plain": [
       "<Figure size 864x432 with 4 Axes>"
      ]
     },
     "metadata": {
      "needs_background": "light"
     },
     "output_type": "display_data"
    }
   ],
   "source": [
    "boxplot_cols = [\"Profit\", \"Sales\", \"Quantity\", \"Discount\", \"Segment\"]\n",
    "\n",
    "walmart_df[boxplot_cols].plot(kind=\"box\", subplots=True, layout=(2, 2), figsize=(12,6))"
   ]
  },
  {
   "cell_type": "code",
   "execution_count": 34,
   "metadata": {},
   "outputs": [
    {
     "data": {
      "text/html": [
       "<div>\n",
       "<style scoped>\n",
       "    .dataframe tbody tr th:only-of-type {\n",
       "        vertical-align: middle;\n",
       "    }\n",
       "\n",
       "    .dataframe tbody tr th {\n",
       "        vertical-align: top;\n",
       "    }\n",
       "\n",
       "    .dataframe thead th {\n",
       "        text-align: right;\n",
       "    }\n",
       "</style>\n",
       "<table border=\"1\" class=\"dataframe\">\n",
       "  <thead>\n",
       "    <tr style=\"text-align: right;\">\n",
       "      <th></th>\n",
       "      <th>Row ID</th>\n",
       "      <th>Order ID</th>\n",
       "      <th>Order Date</th>\n",
       "      <th>Ship Date</th>\n",
       "      <th>Ship Mode</th>\n",
       "      <th>Customer ID</th>\n",
       "      <th>Customer Name</th>\n",
       "      <th>Segment</th>\n",
       "      <th>Country</th>\n",
       "      <th>City</th>\n",
       "      <th>...</th>\n",
       "      <th>Postal Code</th>\n",
       "      <th>Region</th>\n",
       "      <th>Product ID</th>\n",
       "      <th>Category</th>\n",
       "      <th>Sub-Category</th>\n",
       "      <th>Product Name</th>\n",
       "      <th>Sales</th>\n",
       "      <th>Quantity</th>\n",
       "      <th>Discount</th>\n",
       "      <th>Profit</th>\n",
       "    </tr>\n",
       "  </thead>\n",
       "  <tbody>\n",
       "    <tr>\n",
       "      <th>0</th>\n",
       "      <td>9976</td>\n",
       "      <td>US-2016-103674</td>\n",
       "      <td>2016-12-06</td>\n",
       "      <td>2016-12-10</td>\n",
       "      <td>Standard Class</td>\n",
       "      <td>AP-10720</td>\n",
       "      <td>Anne Pryor</td>\n",
       "      <td>Home Office</td>\n",
       "      <td>United States</td>\n",
       "      <td>Los Angeles</td>\n",
       "      <td>...</td>\n",
       "      <td>90032</td>\n",
       "      <td>West</td>\n",
       "      <td>OFF-PA-10000743</td>\n",
       "      <td>Office Supplies</td>\n",
       "      <td>Paper</td>\n",
       "      <td>Xerox 1977</td>\n",
       "      <td>13.360</td>\n",
       "      <td>2</td>\n",
       "      <td>0.0</td>\n",
       "      <td>6.4128</td>\n",
       "    </tr>\n",
       "    <tr>\n",
       "      <th>1</th>\n",
       "      <td>9977</td>\n",
       "      <td>US-2016-103674</td>\n",
       "      <td>2016-12-06</td>\n",
       "      <td>2016-12-10</td>\n",
       "      <td>Standard Class</td>\n",
       "      <td>AP-10720</td>\n",
       "      <td>Anne Pryor</td>\n",
       "      <td>Home Office</td>\n",
       "      <td>United States</td>\n",
       "      <td>Los Angeles</td>\n",
       "      <td>...</td>\n",
       "      <td>90032</td>\n",
       "      <td>West</td>\n",
       "      <td>TEC-PH-10002496</td>\n",
       "      <td>Technology</td>\n",
       "      <td>Phones</td>\n",
       "      <td>Cisco SPA301</td>\n",
       "      <td>249.584</td>\n",
       "      <td>2</td>\n",
       "      <td>0.2</td>\n",
       "      <td>31.1980</td>\n",
       "    </tr>\n",
       "    <tr>\n",
       "      <th>2</th>\n",
       "      <td>9978</td>\n",
       "      <td>US-2016-103674</td>\n",
       "      <td>2016-12-06</td>\n",
       "      <td>2016-12-10</td>\n",
       "      <td>Standard Class</td>\n",
       "      <td>AP-10720</td>\n",
       "      <td>Anne Pryor</td>\n",
       "      <td>Home Office</td>\n",
       "      <td>United States</td>\n",
       "      <td>Los Angeles</td>\n",
       "      <td>...</td>\n",
       "      <td>90032</td>\n",
       "      <td>West</td>\n",
       "      <td>OFF-FA-10003467</td>\n",
       "      <td>Office Supplies</td>\n",
       "      <td>Fasteners</td>\n",
       "      <td>Alliance Big Bands Rubber Bands, 12/Pack</td>\n",
       "      <td>13.860</td>\n",
       "      <td>7</td>\n",
       "      <td>0.0</td>\n",
       "      <td>0.0000</td>\n",
       "    </tr>\n",
       "    <tr>\n",
       "      <th>3</th>\n",
       "      <td>9979</td>\n",
       "      <td>US-2016-103674</td>\n",
       "      <td>2016-12-06</td>\n",
       "      <td>2016-12-10</td>\n",
       "      <td>Standard Class</td>\n",
       "      <td>AP-10720</td>\n",
       "      <td>Anne Pryor</td>\n",
       "      <td>Home Office</td>\n",
       "      <td>United States</td>\n",
       "      <td>Los Angeles</td>\n",
       "      <td>...</td>\n",
       "      <td>90032</td>\n",
       "      <td>West</td>\n",
       "      <td>OFF-BI-10003727</td>\n",
       "      <td>Office Supplies</td>\n",
       "      <td>Binders</td>\n",
       "      <td>Avery Durable Slant Ring Binders With Label Ho...</td>\n",
       "      <td>13.376</td>\n",
       "      <td>4</td>\n",
       "      <td>0.2</td>\n",
       "      <td>4.6816</td>\n",
       "    </tr>\n",
       "    <tr>\n",
       "      <th>4</th>\n",
       "      <td>9980</td>\n",
       "      <td>US-2016-103674</td>\n",
       "      <td>2016-12-06</td>\n",
       "      <td>2016-12-10</td>\n",
       "      <td>Standard Class</td>\n",
       "      <td>AP-10720</td>\n",
       "      <td>Anne Pryor</td>\n",
       "      <td>Home Office</td>\n",
       "      <td>United States</td>\n",
       "      <td>Los Angeles</td>\n",
       "      <td>...</td>\n",
       "      <td>90032</td>\n",
       "      <td>West</td>\n",
       "      <td>OFF-BI-10002026</td>\n",
       "      <td>Office Supplies</td>\n",
       "      <td>Binders</td>\n",
       "      <td>Ibico Recycled Linen-Style Covers</td>\n",
       "      <td>437.472</td>\n",
       "      <td>14</td>\n",
       "      <td>0.2</td>\n",
       "      <td>153.1152</td>\n",
       "    </tr>\n",
       "  </tbody>\n",
       "</table>\n",
       "<p>5 rows × 21 columns</p>\n",
       "</div>"
      ],
      "text/plain": [
       "   Row ID        Order ID Order Date  Ship Date       Ship Mode Customer ID  \\\n",
       "0    9976  US-2016-103674 2016-12-06 2016-12-10  Standard Class    AP-10720   \n",
       "1    9977  US-2016-103674 2016-12-06 2016-12-10  Standard Class    AP-10720   \n",
       "2    9978  US-2016-103674 2016-12-06 2016-12-10  Standard Class    AP-10720   \n",
       "3    9979  US-2016-103674 2016-12-06 2016-12-10  Standard Class    AP-10720   \n",
       "4    9980  US-2016-103674 2016-12-06 2016-12-10  Standard Class    AP-10720   \n",
       "\n",
       "  Customer Name      Segment        Country         City  ... Postal Code  \\\n",
       "0    Anne Pryor  Home Office  United States  Los Angeles  ...       90032   \n",
       "1    Anne Pryor  Home Office  United States  Los Angeles  ...       90032   \n",
       "2    Anne Pryor  Home Office  United States  Los Angeles  ...       90032   \n",
       "3    Anne Pryor  Home Office  United States  Los Angeles  ...       90032   \n",
       "4    Anne Pryor  Home Office  United States  Los Angeles  ...       90032   \n",
       "\n",
       "   Region       Product ID         Category Sub-Category  \\\n",
       "0    West  OFF-PA-10000743  Office Supplies        Paper   \n",
       "1    West  TEC-PH-10002496       Technology       Phones   \n",
       "2    West  OFF-FA-10003467  Office Supplies    Fasteners   \n",
       "3    West  OFF-BI-10003727  Office Supplies      Binders   \n",
       "4    West  OFF-BI-10002026  Office Supplies      Binders   \n",
       "\n",
       "                                        Product Name    Sales  Quantity  \\\n",
       "0                                         Xerox 1977   13.360         2   \n",
       "1                                       Cisco SPA301  249.584         2   \n",
       "2           Alliance Big Bands Rubber Bands, 12/Pack   13.860         7   \n",
       "3  Avery Durable Slant Ring Binders With Label Ho...   13.376         4   \n",
       "4                  Ibico Recycled Linen-Style Covers  437.472        14   \n",
       "\n",
       "   Discount    Profit  \n",
       "0       0.0    6.4128  \n",
       "1       0.2   31.1980  \n",
       "2       0.0    0.0000  \n",
       "3       0.2    4.6816  \n",
       "4       0.2  153.1152  \n",
       "\n",
       "[5 rows x 21 columns]"
      ]
     },
     "execution_count": 34,
     "metadata": {},
     "output_type": "execute_result"
    }
   ],
   "source": [
    "walmart_df.head()"
   ]
  },
  {
   "cell_type": "markdown",
   "metadata": {},
   "source": [
    "##### Join columns to form a single single and checking for the statistical properties as well as visualizing them."
   ]
  },
  {
   "cell_type": "code",
   "execution_count": 35,
   "metadata": {},
   "outputs": [],
   "source": [
    "walmart_df[\"Profit_per_quantity\"] = walmart_df[\"Profit\"] / walmart_df[\"Quantity\"]"
   ]
  },
  {
   "cell_type": "code",
   "execution_count": 36,
   "metadata": {},
   "outputs": [
    {
     "data": {
      "text/plain": [
       "0     3.2064\n",
       "1    15.5990\n",
       "2     0.0000\n",
       "3     1.1704\n",
       "4    10.9368\n",
       "Name: Profit_per_quantity, dtype: float64"
      ]
     },
     "execution_count": 36,
     "metadata": {},
     "output_type": "execute_result"
    }
   ],
   "source": [
    "walmart_df[\"Profit_per_quantity\"].head()"
   ]
  },
  {
   "cell_type": "code",
   "execution_count": 37,
   "metadata": {},
   "outputs": [
    {
     "data": {
      "text/plain": [
       "<matplotlib.axes._subplots.AxesSubplot at 0x1c4297362c8>"
      ]
     },
     "execution_count": 37,
     "metadata": {},
     "output_type": "execute_result"
    },
    {
     "data": {
      "image/png": "[encoded data removed]",
      "text/plain": [
       "<Figure size 864x432 with 1 Axes>"
      ]
     },
     "metadata": {
      "needs_background": "light"
     },
     "output_type": "display_data"
    }
   ],
   "source": [
    "walmart_df[\"Profit_per_quantity\"].plot(kind=\"density\", figsize=(12,6))"
   ]
  },
  {
   "cell_type": "code",
   "execution_count": 38,
   "metadata": {},
   "outputs": [
    {
     "data": {
      "text/plain": [
       "<matplotlib.axes._subplots.AxesSubplot at 0x1c428317548>"
      ]
     },
     "execution_count": 38,
     "metadata": {},
     "output_type": "execute_result"
    },
    {
     "data": {
      "image/png": "[encoded data removed]",
      "text/plain": [
       "<Figure size 864x432 with 1 Axes>"
      ]
     },
     "metadata": {
      "needs_background": "light"
     },
     "output_type": "display_data"
    }
   ],
   "source": [
    "walmart_df[\"Profit_per_quantity\"].plot(kind=\"hist\", figsize=(12,6))"
   ]
  },
  {
   "cell_type": "code",
   "execution_count": 39,
   "metadata": {},
   "outputs": [
    {
     "data": {
      "text/html": [
       "<div>\n",
       "<style scoped>\n",
       "    .dataframe tbody tr th:only-of-type {\n",
       "        vertical-align: middle;\n",
       "    }\n",
       "\n",
       "    .dataframe tbody tr th {\n",
       "        vertical-align: top;\n",
       "    }\n",
       "\n",
       "    .dataframe thead th {\n",
       "        text-align: right;\n",
       "    }\n",
       "</style>\n",
       "<table border=\"1\" class=\"dataframe\">\n",
       "  <thead>\n",
       "    <tr style=\"text-align: right;\">\n",
       "      <th></th>\n",
       "      <th>Row ID</th>\n",
       "      <th>Postal Code</th>\n",
       "      <th>Sales</th>\n",
       "      <th>Quantity</th>\n",
       "      <th>Discount</th>\n",
       "      <th>Profit</th>\n",
       "      <th>Profit_per_quantity</th>\n",
       "    </tr>\n",
       "  </thead>\n",
       "  <tbody>\n",
       "    <tr>\n",
       "      <th>count</th>\n",
       "      <td>9994.000000</td>\n",
       "      <td>9994.000000</td>\n",
       "      <td>9994.000000</td>\n",
       "      <td>9994.000000</td>\n",
       "      <td>9994.000000</td>\n",
       "      <td>9994.000000</td>\n",
       "      <td>9994.000000</td>\n",
       "    </tr>\n",
       "    <tr>\n",
       "      <th>mean</th>\n",
       "      <td>5016.463878</td>\n",
       "      <td>55190.379428</td>\n",
       "      <td>229.858001</td>\n",
       "      <td>3.789574</td>\n",
       "      <td>0.156203</td>\n",
       "      <td>28.656896</td>\n",
       "      <td>7.799372</td>\n",
       "    </tr>\n",
       "    <tr>\n",
       "      <th>std</th>\n",
       "      <td>2885.101298</td>\n",
       "      <td>32063.693350</td>\n",
       "      <td>623.245101</td>\n",
       "      <td>2.225110</td>\n",
       "      <td>0.206452</td>\n",
       "      <td>234.260108</td>\n",
       "      <td>56.074974</td>\n",
       "    </tr>\n",
       "    <tr>\n",
       "      <th>min</th>\n",
       "      <td>20.000000</td>\n",
       "      <td>1040.000000</td>\n",
       "      <td>0.444000</td>\n",
       "      <td>1.000000</td>\n",
       "      <td>0.000000</td>\n",
       "      <td>-6599.978000</td>\n",
       "      <td>-1319.995600</td>\n",
       "    </tr>\n",
       "    <tr>\n",
       "      <th>25%</th>\n",
       "      <td>2518.250000</td>\n",
       "      <td>23223.000000</td>\n",
       "      <td>17.280000</td>\n",
       "      <td>2.000000</td>\n",
       "      <td>0.000000</td>\n",
       "      <td>1.728750</td>\n",
       "      <td>0.722800</td>\n",
       "    </tr>\n",
       "    <tr>\n",
       "      <th>50%</th>\n",
       "      <td>5016.500000</td>\n",
       "      <td>56430.500000</td>\n",
       "      <td>54.490000</td>\n",
       "      <td>3.000000</td>\n",
       "      <td>0.200000</td>\n",
       "      <td>8.666500</td>\n",
       "      <td>2.767000</td>\n",
       "    </tr>\n",
       "    <tr>\n",
       "      <th>75%</th>\n",
       "      <td>7514.750000</td>\n",
       "      <td>90008.000000</td>\n",
       "      <td>209.940000</td>\n",
       "      <td>5.000000</td>\n",
       "      <td>0.200000</td>\n",
       "      <td>29.364000</td>\n",
       "      <td>8.703200</td>\n",
       "    </tr>\n",
       "    <tr>\n",
       "      <th>max</th>\n",
       "      <td>9994.000000</td>\n",
       "      <td>99301.000000</td>\n",
       "      <td>22638.480000</td>\n",
       "      <td>14.000000</td>\n",
       "      <td>0.800000</td>\n",
       "      <td>8399.976000</td>\n",
       "      <td>1679.995200</td>\n",
       "    </tr>\n",
       "  </tbody>\n",
       "</table>\n",
       "</div>"
      ],
      "text/plain": [
       "            Row ID   Postal Code         Sales     Quantity     Discount  \\\n",
       "count  9994.000000   9994.000000   9994.000000  9994.000000  9994.000000   \n",
       "mean   5016.463878  55190.379428    229.858001     3.789574     0.156203   \n",
       "std    2885.101298  32063.693350    623.245101     2.225110     0.206452   \n",
       "min      20.000000   1040.000000      0.444000     1.000000     0.000000   \n",
       "25%    2518.250000  23223.000000     17.280000     2.000000     0.000000   \n",
       "50%    5016.500000  56430.500000     54.490000     3.000000     0.200000   \n",
       "75%    7514.750000  90008.000000    209.940000     5.000000     0.200000   \n",
       "max    9994.000000  99301.000000  22638.480000    14.000000     0.800000   \n",
       "\n",
       "            Profit  Profit_per_quantity  \n",
       "count  9994.000000          9994.000000  \n",
       "mean     28.656896             7.799372  \n",
       "std     234.260108            56.074974  \n",
       "min   -6599.978000         -1319.995600  \n",
       "25%       1.728750             0.722800  \n",
       "50%       8.666500             2.767000  \n",
       "75%      29.364000             8.703200  \n",
       "max    8399.976000          1679.995200  "
      ]
     },
     "execution_count": 39,
     "metadata": {},
     "output_type": "execute_result"
    }
   ],
   "source": [
    "walmart_df.describe()"
   ]
  },
  {
   "cell_type": "code",
   "execution_count": null,
   "metadata": {},
   "outputs": [],
   "source": []
  },
  {
   "cell_type": "code",
   "execution_count": 40,
   "metadata": {},
   "outputs": [
    {
     "data": {
      "text/plain": [
       "0       0.149701\n",
       "1       0.008013\n",
       "2       0.505051\n",
       "3       0.299043\n",
       "4       0.032002\n",
       "          ...   \n",
       "9989    0.072664\n",
       "9990    1.179245\n",
       "9991    0.009011\n",
       "9992    0.036036\n",
       "9993    0.233645\n",
       "Name: Quantity_per_Sales, Length: 9994, dtype: float64"
      ]
     },
     "execution_count": 40,
     "metadata": {},
     "output_type": "execute_result"
    }
   ],
   "source": [
    "walmart_df[\"Quantity_per_Sales\"] = walmart_df[\"Quantity\"] / walmart_df[\"Sales\"]\n",
    "walmart_df[\"Quantity_per_Sales\"]"
   ]
  },
  {
   "cell_type": "code",
   "execution_count": 41,
   "metadata": {},
   "outputs": [
    {
     "data": {
      "text/plain": [
       "<matplotlib.axes._subplots.AxesSubplot at 0x1c42845cb48>"
      ]
     },
     "execution_count": 41,
     "metadata": {},
     "output_type": "execute_result"
    },
    {
     "data": {
      "image/png": "[encoded data removed]",
      "text/plain": [
       "<Figure size 864x432 with 1 Axes>"
      ]
     },
     "metadata": {
      "needs_background": "light"
     },
     "output_type": "display_data"
    }
   ],
   "source": [
    "walmart_df[\"Quantity_per_Sales\"].plot(kind=\"hist\", figsize=(12,6))"
   ]
  },
  {
   "cell_type": "code",
   "execution_count": 42,
   "metadata": {},
   "outputs": [
    {
     "data": {
      "text/plain": [
       "<matplotlib.axes._subplots.AxesSubplot at 0x1c429617e08>"
      ]
     },
     "execution_count": 42,
     "metadata": {},
     "output_type": "execute_result"
    },
    {
     "data": {
      "image/png": "[encoded data removed]",
      "text/plain": [
       "<Figure size 864x432 with 1 Axes>"
      ]
     },
     "metadata": {
      "needs_background": "light"
     },
     "output_type": "display_data"
    }
   ],
   "source": [
    "walmart_df[\"Quantity_per_Sales\"].plot(kind=\"density\", figsize=(12,6))"
   ]
  },
  {
   "cell_type": "code",
   "execution_count": 43,
   "metadata": {},
   "outputs": [
    {
     "data": {
      "text/html": [
       "<div>\n",
       "<style scoped>\n",
       "    .dataframe tbody tr th:only-of-type {\n",
       "        vertical-align: middle;\n",
       "    }\n",
       "\n",
       "    .dataframe tbody tr th {\n",
       "        vertical-align: top;\n",
       "    }\n",
       "\n",
       "    .dataframe thead th {\n",
       "        text-align: right;\n",
       "    }\n",
       "</style>\n",
       "<table border=\"1\" class=\"dataframe\">\n",
       "  <thead>\n",
       "    <tr style=\"text-align: right;\">\n",
       "      <th></th>\n",
       "      <th>Row ID</th>\n",
       "      <th>Order ID</th>\n",
       "      <th>Order Date</th>\n",
       "      <th>Ship Date</th>\n",
       "      <th>Ship Mode</th>\n",
       "      <th>Customer ID</th>\n",
       "      <th>Customer Name</th>\n",
       "      <th>Segment</th>\n",
       "      <th>Country</th>\n",
       "      <th>City</th>\n",
       "      <th>...</th>\n",
       "      <th>Product ID</th>\n",
       "      <th>Category</th>\n",
       "      <th>Sub-Category</th>\n",
       "      <th>Product Name</th>\n",
       "      <th>Sales</th>\n",
       "      <th>Quantity</th>\n",
       "      <th>Discount</th>\n",
       "      <th>Profit</th>\n",
       "      <th>Profit_per_quantity</th>\n",
       "      <th>Quantity_per_Sales</th>\n",
       "    </tr>\n",
       "  </thead>\n",
       "  <tbody>\n",
       "    <tr>\n",
       "      <th>0</th>\n",
       "      <td>9976</td>\n",
       "      <td>US-2016-103674</td>\n",
       "      <td>2016-12-06</td>\n",
       "      <td>2016-12-10</td>\n",
       "      <td>Standard Class</td>\n",
       "      <td>AP-10720</td>\n",
       "      <td>Anne Pryor</td>\n",
       "      <td>Home Office</td>\n",
       "      <td>United States</td>\n",
       "      <td>Los Angeles</td>\n",
       "      <td>...</td>\n",
       "      <td>OFF-PA-10000743</td>\n",
       "      <td>Office Supplies</td>\n",
       "      <td>Paper</td>\n",
       "      <td>Xerox 1977</td>\n",
       "      <td>13.360</td>\n",
       "      <td>2</td>\n",
       "      <td>0.0</td>\n",
       "      <td>6.4128</td>\n",
       "      <td>3.2064</td>\n",
       "      <td>0.149701</td>\n",
       "    </tr>\n",
       "    <tr>\n",
       "      <th>1</th>\n",
       "      <td>9977</td>\n",
       "      <td>US-2016-103674</td>\n",
       "      <td>2016-12-06</td>\n",
       "      <td>2016-12-10</td>\n",
       "      <td>Standard Class</td>\n",
       "      <td>AP-10720</td>\n",
       "      <td>Anne Pryor</td>\n",
       "      <td>Home Office</td>\n",
       "      <td>United States</td>\n",
       "      <td>Los Angeles</td>\n",
       "      <td>...</td>\n",
       "      <td>TEC-PH-10002496</td>\n",
       "      <td>Technology</td>\n",
       "      <td>Phones</td>\n",
       "      <td>Cisco SPA301</td>\n",
       "      <td>249.584</td>\n",
       "      <td>2</td>\n",
       "      <td>0.2</td>\n",
       "      <td>31.1980</td>\n",
       "      <td>15.5990</td>\n",
       "      <td>0.008013</td>\n",
       "    </tr>\n",
       "    <tr>\n",
       "      <th>2</th>\n",
       "      <td>9978</td>\n",
       "      <td>US-2016-103674</td>\n",
       "      <td>2016-12-06</td>\n",
       "      <td>2016-12-10</td>\n",
       "      <td>Standard Class</td>\n",
       "      <td>AP-10720</td>\n",
       "      <td>Anne Pryor</td>\n",
       "      <td>Home Office</td>\n",
       "      <td>United States</td>\n",
       "      <td>Los Angeles</td>\n",
       "      <td>...</td>\n",
       "      <td>OFF-FA-10003467</td>\n",
       "      <td>Office Supplies</td>\n",
       "      <td>Fasteners</td>\n",
       "      <td>Alliance Big Bands Rubber Bands, 12/Pack</td>\n",
       "      <td>13.860</td>\n",
       "      <td>7</td>\n",
       "      <td>0.0</td>\n",
       "      <td>0.0000</td>\n",
       "      <td>0.0000</td>\n",
       "      <td>0.505051</td>\n",
       "    </tr>\n",
       "    <tr>\n",
       "      <th>3</th>\n",
       "      <td>9979</td>\n",
       "      <td>US-2016-103674</td>\n",
       "      <td>2016-12-06</td>\n",
       "      <td>2016-12-10</td>\n",
       "      <td>Standard Class</td>\n",
       "      <td>AP-10720</td>\n",
       "      <td>Anne Pryor</td>\n",
       "      <td>Home Office</td>\n",
       "      <td>United States</td>\n",
       "      <td>Los Angeles</td>\n",
       "      <td>...</td>\n",
       "      <td>OFF-BI-10003727</td>\n",
       "      <td>Office Supplies</td>\n",
       "      <td>Binders</td>\n",
       "      <td>Avery Durable Slant Ring Binders With Label Ho...</td>\n",
       "      <td>13.376</td>\n",
       "      <td>4</td>\n",
       "      <td>0.2</td>\n",
       "      <td>4.6816</td>\n",
       "      <td>1.1704</td>\n",
       "      <td>0.299043</td>\n",
       "    </tr>\n",
       "    <tr>\n",
       "      <th>4</th>\n",
       "      <td>9980</td>\n",
       "      <td>US-2016-103674</td>\n",
       "      <td>2016-12-06</td>\n",
       "      <td>2016-12-10</td>\n",
       "      <td>Standard Class</td>\n",
       "      <td>AP-10720</td>\n",
       "      <td>Anne Pryor</td>\n",
       "      <td>Home Office</td>\n",
       "      <td>United States</td>\n",
       "      <td>Los Angeles</td>\n",
       "      <td>...</td>\n",
       "      <td>OFF-BI-10002026</td>\n",
       "      <td>Office Supplies</td>\n",
       "      <td>Binders</td>\n",
       "      <td>Ibico Recycled Linen-Style Covers</td>\n",
       "      <td>437.472</td>\n",
       "      <td>14</td>\n",
       "      <td>0.2</td>\n",
       "      <td>153.1152</td>\n",
       "      <td>10.9368</td>\n",
       "      <td>0.032002</td>\n",
       "    </tr>\n",
       "  </tbody>\n",
       "</table>\n",
       "<p>5 rows × 23 columns</p>\n",
       "</div>"
      ],
      "text/plain": [
       "   Row ID        Order ID Order Date  Ship Date       Ship Mode Customer ID  \\\n",
       "0    9976  US-2016-103674 2016-12-06 2016-12-10  Standard Class    AP-10720   \n",
       "1    9977  US-2016-103674 2016-12-06 2016-12-10  Standard Class    AP-10720   \n",
       "2    9978  US-2016-103674 2016-12-06 2016-12-10  Standard Class    AP-10720   \n",
       "3    9979  US-2016-103674 2016-12-06 2016-12-10  Standard Class    AP-10720   \n",
       "4    9980  US-2016-103674 2016-12-06 2016-12-10  Standard Class    AP-10720   \n",
       "\n",
       "  Customer Name      Segment        Country         City  ...  \\\n",
       "0    Anne Pryor  Home Office  United States  Los Angeles  ...   \n",
       "1    Anne Pryor  Home Office  United States  Los Angeles  ...   \n",
       "2    Anne Pryor  Home Office  United States  Los Angeles  ...   \n",
       "3    Anne Pryor  Home Office  United States  Los Angeles  ...   \n",
       "4    Anne Pryor  Home Office  United States  Los Angeles  ...   \n",
       "\n",
       "        Product ID         Category Sub-Category  \\\n",
       "0  OFF-PA-10000743  Office Supplies        Paper   \n",
       "1  TEC-PH-10002496       Technology       Phones   \n",
       "2  OFF-FA-10003467  Office Supplies    Fasteners   \n",
       "3  OFF-BI-10003727  Office Supplies      Binders   \n",
       "4  OFF-BI-10002026  Office Supplies      Binders   \n",
       "\n",
       "                                        Product Name    Sales Quantity  \\\n",
       "0                                         Xerox 1977   13.360        2   \n",
       "1                                       Cisco SPA301  249.584        2   \n",
       "2           Alliance Big Bands Rubber Bands, 12/Pack   13.860        7   \n",
       "3  Avery Durable Slant Ring Binders With Label Ho...   13.376        4   \n",
       "4                  Ibico Recycled Linen-Style Covers  437.472       14   \n",
       "\n",
       "  Discount    Profit  Profit_per_quantity  Quantity_per_Sales  \n",
       "0      0.0    6.4128               3.2064            0.149701  \n",
       "1      0.2   31.1980              15.5990            0.008013  \n",
       "2      0.0    0.0000               0.0000            0.505051  \n",
       "3      0.2    4.6816               1.1704            0.299043  \n",
       "4      0.2  153.1152              10.9368            0.032002  \n",
       "\n",
       "[5 rows x 23 columns]"
      ]
     },
     "execution_count": 43,
     "metadata": {},
     "output_type": "execute_result"
    }
   ],
   "source": [
    "walmart_df.head()"
   ]
  },
  {
   "cell_type": "code",
   "execution_count": 44,
   "metadata": {},
   "outputs": [
    {
     "data": {
      "text/plain": [
       "0         6.680\n",
       "1       124.792\n",
       "2         1.980\n",
       "3         3.344\n",
       "4        31.248\n",
       "         ...   \n",
       "9989     13.762\n",
       "9990      0.848\n",
       "9991    110.980\n",
       "9992     27.750\n",
       "9993      4.280\n",
       "Name: Price_per_Product, Length: 9994, dtype: float64"
      ]
     },
     "execution_count": 44,
     "metadata": {},
     "output_type": "execute_result"
    }
   ],
   "source": [
    "walmart_df[\"Price_per_Product\"] = walmart_df[\"Sales\"] / walmart_df[\"Quantity\"]\n",
    "\n",
    "walmart_df[\"Price_per_Product\"]"
   ]
  },
  {
   "cell_type": "code",
   "execution_count": 45,
   "metadata": {},
   "outputs": [
    {
     "data": {
      "text/plain": [
       "<matplotlib.axes._subplots.AxesSubplot at 0x1c4296dd688>"
      ]
     },
     "execution_count": 45,
     "metadata": {},
     "output_type": "execute_result"
    },
    {
     "data": {
      "image/png": "[encoded data removed]",
      "text/plain": [
       "<Figure size 864x432 with 1 Axes>"
      ]
     },
     "metadata": {
      "needs_background": "light"
     },
     "output_type": "display_data"
    }
   ],
   "source": [
    "walmart_df[\"Price_per_Product\"].plot(kind=\"hist\", figsize=(12,6))"
   ]
  },
  {
   "cell_type": "code",
   "execution_count": 46,
   "metadata": {},
   "outputs": [
    {
     "data": {
      "text/plain": [
       "<matplotlib.axes._subplots.AxesSubplot at 0x1c429664888>"
      ]
     },
     "execution_count": 46,
     "metadata": {},
     "output_type": "execute_result"
    },
    {
     "data": {
      "image/png": "[encoded data removed]",
      "text/plain": [
       "<Figure size 864x432 with 1 Axes>"
      ]
     },
     "metadata": {
      "needs_background": "light"
     },
     "output_type": "display_data"
    }
   ],
   "source": [
    "walmart_df[\"Price_per_Product\"].plot(kind=\"density\", figsize=(12,6))"
   ]
  },
  {
   "cell_type": "code",
   "execution_count": 47,
   "metadata": {},
   "outputs": [
    {
     "data": {
      "text/plain": [
       "0       0.480\n",
       "1       0.125\n",
       "2       0.000\n",
       "3       0.350\n",
       "4       0.350\n",
       "        ...  \n",
       "9989   -1.800\n",
       "9990   -1.500\n",
       "9991    0.020\n",
       "9992    0.180\n",
       "9993    0.290\n",
       "Name: Profit_by_Sales, Length: 9994, dtype: float64"
      ]
     },
     "execution_count": 47,
     "metadata": {},
     "output_type": "execute_result"
    }
   ],
   "source": [
    "walmart_df[\"Profit_by_Sales\"] = walmart_df[\"Profit\"] / walmart_df[\"Sales\"]\n",
    "walmart_df[\"Profit_by_Sales\"]"
   ]
  },
  {
   "cell_type": "code",
   "execution_count": 48,
   "metadata": {},
   "outputs": [
    {
     "data": {
      "text/plain": [
       "<matplotlib.axes._subplots.AxesSubplot at 0x1c4299f7088>"
      ]
     },
     "execution_count": 48,
     "metadata": {},
     "output_type": "execute_result"
    },
    {
     "data": {
      "image/png": "[encoded data removed]",
      "text/plain": [
       "<Figure size 864x432 with 1 Axes>"
      ]
     },
     "metadata": {
      "needs_background": "light"
     },
     "output_type": "display_data"
    }
   ],
   "source": [
    "walmart_df[\"Profit_by_Sales\"].plot(kind=\"hist\", figsize=(12,6))"
   ]
  },
  {
   "cell_type": "markdown",
   "metadata": {},
   "source": [
    "#### Check the outliers and where they fall into, towards the negative part of the graph"
   ]
  },
  {
   "cell_type": "code",
   "execution_count": 49,
   "metadata": {},
   "outputs": [
    {
     "name": "stderr",
     "output_type": "stream",
     "text": [
      "C:\\anaconda\\lib\\site-packages\\numpy\\core\\_asarray.py:83: VisibleDeprecationWarning: Creating an ndarray from ragged nested sequences (which is a list-or-tuple of lists-or-tuples-or ndarrays with different lengths or shapes) is deprecated. If you meant to do this, you must specify 'dtype=object' when creating the ndarray\n",
      "  return array(a, dtype, copy=False, order=order)\n"
     ]
    },
    {
     "data": {
      "image/png": "[encoded data removed]",
      "text/plain": [
       "<Figure size 432x432 with 1 Axes>"
      ]
     },
     "metadata": {
      "needs_background": "light"
     },
     "output_type": "display_data"
    }
   ],
   "source": [
    "ax=walmart_df[[\"Profit_by_Sales\", \"Segment\"]].boxplot(by=\"Segment\", figsize=(6, 6))\n",
    "ax.set_label(\"Segment\")"
   ]
  },
  {
   "cell_type": "code",
   "execution_count": 50,
   "metadata": {},
   "outputs": [
    {
     "name": "stderr",
     "output_type": "stream",
     "text": [
      "C:\\anaconda\\lib\\site-packages\\numpy\\core\\_asarray.py:83: VisibleDeprecationWarning: Creating an ndarray from ragged nested sequences (which is a list-or-tuple of lists-or-tuples-or ndarrays with different lengths or shapes) is deprecated. If you meant to do this, you must specify 'dtype=object' when creating the ndarray\n",
      "  return array(a, dtype, copy=False, order=order)\n"
     ]
    },
    {
     "data": {
      "image/png": "[encoded data removed]",
      "text/plain": [
       "<Figure size 432x432 with 1 Axes>"
      ]
     },
     "metadata": {
      "needs_background": "light"
     },
     "output_type": "display_data"
    }
   ],
   "source": [
    "ax=walmart_df[[\"Profit_by_Sales\", \"Category\"]].boxplot(by=\"Category\", figsize=(6, 6))\n",
    "ax.set_label(\"Category\")"
   ]
  },
  {
   "cell_type": "code",
   "execution_count": 51,
   "metadata": {},
   "outputs": [
    {
     "name": "stderr",
     "output_type": "stream",
     "text": [
      "C:\\anaconda\\lib\\site-packages\\numpy\\core\\_asarray.py:83: VisibleDeprecationWarning: Creating an ndarray from ragged nested sequences (which is a list-or-tuple of lists-or-tuples-or ndarrays with different lengths or shapes) is deprecated. If you meant to do this, you must specify 'dtype=object' when creating the ndarray\n",
      "  return array(a, dtype, copy=False, order=order)\n"
     ]
    },
    {
     "data": {
      "image/png": "[encoded data removed]",
      "text/plain": [
       "<Figure size 1296x432 with 1 Axes>"
      ]
     },
     "metadata": {
      "needs_background": "light"
     },
     "output_type": "display_data"
    }
   ],
   "source": [
    "ax=walmart_df[[\"Profit_by_Sales\", \"Sub-Category\"]].boxplot(by=\"Sub-Category\", figsize=(18, 6))\n",
    "ax.set_label(\"Sub-Category\")"
   ]
  },
  {
   "cell_type": "code",
   "execution_count": 52,
   "metadata": {},
   "outputs": [
    {
     "data": {
      "text/html": [
       "<div>\n",
       "<style scoped>\n",
       "    .dataframe tbody tr th:only-of-type {\n",
       "        vertical-align: middle;\n",
       "    }\n",
       "\n",
       "    .dataframe tbody tr th {\n",
       "        vertical-align: top;\n",
       "    }\n",
       "\n",
       "    .dataframe thead th {\n",
       "        text-align: right;\n",
       "    }\n",
       "</style>\n",
       "<table border=\"1\" class=\"dataframe\">\n",
       "  <thead>\n",
       "    <tr style=\"text-align: right;\">\n",
       "      <th></th>\n",
       "      <th>Row ID</th>\n",
       "      <th>Order ID</th>\n",
       "      <th>Order Date</th>\n",
       "      <th>Ship Date</th>\n",
       "      <th>Ship Mode</th>\n",
       "      <th>Customer ID</th>\n",
       "      <th>Customer Name</th>\n",
       "      <th>Segment</th>\n",
       "      <th>Country</th>\n",
       "      <th>City</th>\n",
       "      <th>...</th>\n",
       "      <th>Sub-Category</th>\n",
       "      <th>Product Name</th>\n",
       "      <th>Sales</th>\n",
       "      <th>Quantity</th>\n",
       "      <th>Discount</th>\n",
       "      <th>Profit</th>\n",
       "      <th>Profit_per_quantity</th>\n",
       "      <th>Quantity_per_Sales</th>\n",
       "      <th>Price_per_Product</th>\n",
       "      <th>Profit_by_Sales</th>\n",
       "    </tr>\n",
       "  </thead>\n",
       "  <tbody>\n",
       "    <tr>\n",
       "      <th>0</th>\n",
       "      <td>9976</td>\n",
       "      <td>US-2016-103674</td>\n",
       "      <td>2016-12-06</td>\n",
       "      <td>2016-12-10</td>\n",
       "      <td>Standard Class</td>\n",
       "      <td>AP-10720</td>\n",
       "      <td>Anne Pryor</td>\n",
       "      <td>Home Office</td>\n",
       "      <td>United States</td>\n",
       "      <td>Los Angeles</td>\n",
       "      <td>...</td>\n",
       "      <td>Paper</td>\n",
       "      <td>Xerox 1977</td>\n",
       "      <td>13.360</td>\n",
       "      <td>2</td>\n",
       "      <td>0.0</td>\n",
       "      <td>6.4128</td>\n",
       "      <td>3.2064</td>\n",
       "      <td>0.149701</td>\n",
       "      <td>6.680</td>\n",
       "      <td>0.480</td>\n",
       "    </tr>\n",
       "    <tr>\n",
       "      <th>1</th>\n",
       "      <td>9977</td>\n",
       "      <td>US-2016-103674</td>\n",
       "      <td>2016-12-06</td>\n",
       "      <td>2016-12-10</td>\n",
       "      <td>Standard Class</td>\n",
       "      <td>AP-10720</td>\n",
       "      <td>Anne Pryor</td>\n",
       "      <td>Home Office</td>\n",
       "      <td>United States</td>\n",
       "      <td>Los Angeles</td>\n",
       "      <td>...</td>\n",
       "      <td>Phones</td>\n",
       "      <td>Cisco SPA301</td>\n",
       "      <td>249.584</td>\n",
       "      <td>2</td>\n",
       "      <td>0.2</td>\n",
       "      <td>31.1980</td>\n",
       "      <td>15.5990</td>\n",
       "      <td>0.008013</td>\n",
       "      <td>124.792</td>\n",
       "      <td>0.125</td>\n",
       "    </tr>\n",
       "    <tr>\n",
       "      <th>2</th>\n",
       "      <td>9978</td>\n",
       "      <td>US-2016-103674</td>\n",
       "      <td>2016-12-06</td>\n",
       "      <td>2016-12-10</td>\n",
       "      <td>Standard Class</td>\n",
       "      <td>AP-10720</td>\n",
       "      <td>Anne Pryor</td>\n",
       "      <td>Home Office</td>\n",
       "      <td>United States</td>\n",
       "      <td>Los Angeles</td>\n",
       "      <td>...</td>\n",
       "      <td>Fasteners</td>\n",
       "      <td>Alliance Big Bands Rubber Bands, 12/Pack</td>\n",
       "      <td>13.860</td>\n",
       "      <td>7</td>\n",
       "      <td>0.0</td>\n",
       "      <td>0.0000</td>\n",
       "      <td>0.0000</td>\n",
       "      <td>0.505051</td>\n",
       "      <td>1.980</td>\n",
       "      <td>0.000</td>\n",
       "    </tr>\n",
       "    <tr>\n",
       "      <th>3</th>\n",
       "      <td>9979</td>\n",
       "      <td>US-2016-103674</td>\n",
       "      <td>2016-12-06</td>\n",
       "      <td>2016-12-10</td>\n",
       "      <td>Standard Class</td>\n",
       "      <td>AP-10720</td>\n",
       "      <td>Anne Pryor</td>\n",
       "      <td>Home Office</td>\n",
       "      <td>United States</td>\n",
       "      <td>Los Angeles</td>\n",
       "      <td>...</td>\n",
       "      <td>Binders</td>\n",
       "      <td>Avery Durable Slant Ring Binders With Label Ho...</td>\n",
       "      <td>13.376</td>\n",
       "      <td>4</td>\n",
       "      <td>0.2</td>\n",
       "      <td>4.6816</td>\n",
       "      <td>1.1704</td>\n",
       "      <td>0.299043</td>\n",
       "      <td>3.344</td>\n",
       "      <td>0.350</td>\n",
       "    </tr>\n",
       "    <tr>\n",
       "      <th>4</th>\n",
       "      <td>9980</td>\n",
       "      <td>US-2016-103674</td>\n",
       "      <td>2016-12-06</td>\n",
       "      <td>2016-12-10</td>\n",
       "      <td>Standard Class</td>\n",
       "      <td>AP-10720</td>\n",
       "      <td>Anne Pryor</td>\n",
       "      <td>Home Office</td>\n",
       "      <td>United States</td>\n",
       "      <td>Los Angeles</td>\n",
       "      <td>...</td>\n",
       "      <td>Binders</td>\n",
       "      <td>Ibico Recycled Linen-Style Covers</td>\n",
       "      <td>437.472</td>\n",
       "      <td>14</td>\n",
       "      <td>0.2</td>\n",
       "      <td>153.1152</td>\n",
       "      <td>10.9368</td>\n",
       "      <td>0.032002</td>\n",
       "      <td>31.248</td>\n",
       "      <td>0.350</td>\n",
       "    </tr>\n",
       "  </tbody>\n",
       "</table>\n",
       "<p>5 rows × 25 columns</p>\n",
       "</div>"
      ],
      "text/plain": [
       "   Row ID        Order ID Order Date  Ship Date       Ship Mode Customer ID  \\\n",
       "0    9976  US-2016-103674 2016-12-06 2016-12-10  Standard Class    AP-10720   \n",
       "1    9977  US-2016-103674 2016-12-06 2016-12-10  Standard Class    AP-10720   \n",
       "2    9978  US-2016-103674 2016-12-06 2016-12-10  Standard Class    AP-10720   \n",
       "3    9979  US-2016-103674 2016-12-06 2016-12-10  Standard Class    AP-10720   \n",
       "4    9980  US-2016-103674 2016-12-06 2016-12-10  Standard Class    AP-10720   \n",
       "\n",
       "  Customer Name      Segment        Country         City  ... Sub-Category  \\\n",
       "0    Anne Pryor  Home Office  United States  Los Angeles  ...        Paper   \n",
       "1    Anne Pryor  Home Office  United States  Los Angeles  ...       Phones   \n",
       "2    Anne Pryor  Home Office  United States  Los Angeles  ...    Fasteners   \n",
       "3    Anne Pryor  Home Office  United States  Los Angeles  ...      Binders   \n",
       "4    Anne Pryor  Home Office  United States  Los Angeles  ...      Binders   \n",
       "\n",
       "                                        Product Name    Sales Quantity  \\\n",
       "0                                         Xerox 1977   13.360        2   \n",
       "1                                       Cisco SPA301  249.584        2   \n",
       "2           Alliance Big Bands Rubber Bands, 12/Pack   13.860        7   \n",
       "3  Avery Durable Slant Ring Binders With Label Ho...   13.376        4   \n",
       "4                  Ibico Recycled Linen-Style Covers  437.472       14   \n",
       "\n",
       "  Discount    Profit Profit_per_quantity  Quantity_per_Sales  \\\n",
       "0      0.0    6.4128              3.2064            0.149701   \n",
       "1      0.2   31.1980             15.5990            0.008013   \n",
       "2      0.0    0.0000              0.0000            0.505051   \n",
       "3      0.2    4.6816              1.1704            0.299043   \n",
       "4      0.2  153.1152             10.9368            0.032002   \n",
       "\n",
       "   Price_per_Product  Profit_by_Sales  \n",
       "0              6.680            0.480  \n",
       "1            124.792            0.125  \n",
       "2              1.980            0.000  \n",
       "3              3.344            0.350  \n",
       "4             31.248            0.350  \n",
       "\n",
       "[5 rows x 25 columns]"
      ]
     },
     "execution_count": 52,
     "metadata": {},
     "output_type": "execute_result"
    }
   ],
   "source": [
    "walmart_df.head()"
   ]
  },
  {
   "cell_type": "markdown",
   "metadata": {},
   "source": [
    "##### Columns join by multiplication"
   ]
  },
  {
   "cell_type": "code",
   "execution_count": 53,
   "metadata": {},
   "outputs": [
    {
     "data": {
      "text/plain": [
       "0         12.8256\n",
       "1         62.3960\n",
       "2          0.0000\n",
       "3         18.7264\n",
       "4       2143.6128\n",
       "          ...    \n",
       "9989    -619.2900\n",
       "9990     -11.4480\n",
       "9991      79.9056\n",
       "9992      19.9800\n",
       "9993       4.9648\n",
       "Name: Calculated Profit, Length: 9994, dtype: float64"
      ]
     },
     "execution_count": 53,
     "metadata": {},
     "output_type": "execute_result"
    }
   ],
   "source": [
    "walmart_df[\"Calculated Profit\"] = walmart_df[\"Profit\"] * walmart_df[\"Quantity\"]\n",
    "walmart_df[\"Calculated Profit\"]"
   ]
  },
  {
   "cell_type": "code",
   "execution_count": 54,
   "metadata": {},
   "outputs": [
    {
     "data": {
      "text/html": [
       "<div>\n",
       "<style scoped>\n",
       "    .dataframe tbody tr th:only-of-type {\n",
       "        vertical-align: middle;\n",
       "    }\n",
       "\n",
       "    .dataframe tbody tr th {\n",
       "        vertical-align: top;\n",
       "    }\n",
       "\n",
       "    .dataframe thead th {\n",
       "        text-align: right;\n",
       "    }\n",
       "</style>\n",
       "<table border=\"1\" class=\"dataframe\">\n",
       "  <thead>\n",
       "    <tr style=\"text-align: right;\">\n",
       "      <th></th>\n",
       "      <th>Row ID</th>\n",
       "      <th>Order ID</th>\n",
       "      <th>Order Date</th>\n",
       "      <th>Ship Date</th>\n",
       "      <th>Ship Mode</th>\n",
       "      <th>Customer ID</th>\n",
       "      <th>Customer Name</th>\n",
       "      <th>Segment</th>\n",
       "      <th>Country</th>\n",
       "      <th>City</th>\n",
       "      <th>...</th>\n",
       "      <th>Product Name</th>\n",
       "      <th>Sales</th>\n",
       "      <th>Quantity</th>\n",
       "      <th>Discount</th>\n",
       "      <th>Profit</th>\n",
       "      <th>Profit_per_quantity</th>\n",
       "      <th>Quantity_per_Sales</th>\n",
       "      <th>Price_per_Product</th>\n",
       "      <th>Profit_by_Sales</th>\n",
       "      <th>Calculated Profit</th>\n",
       "    </tr>\n",
       "  </thead>\n",
       "  <tbody>\n",
       "    <tr>\n",
       "      <th>0</th>\n",
       "      <td>9976</td>\n",
       "      <td>US-2016-103674</td>\n",
       "      <td>2016-12-06</td>\n",
       "      <td>2016-12-10</td>\n",
       "      <td>Standard Class</td>\n",
       "      <td>AP-10720</td>\n",
       "      <td>Anne Pryor</td>\n",
       "      <td>Home Office</td>\n",
       "      <td>United States</td>\n",
       "      <td>Los Angeles</td>\n",
       "      <td>...</td>\n",
       "      <td>Xerox 1977</td>\n",
       "      <td>13.360</td>\n",
       "      <td>2</td>\n",
       "      <td>0.0</td>\n",
       "      <td>6.4128</td>\n",
       "      <td>3.2064</td>\n",
       "      <td>0.149701</td>\n",
       "      <td>6.680</td>\n",
       "      <td>0.480</td>\n",
       "      <td>12.8256</td>\n",
       "    </tr>\n",
       "    <tr>\n",
       "      <th>1</th>\n",
       "      <td>9977</td>\n",
       "      <td>US-2016-103674</td>\n",
       "      <td>2016-12-06</td>\n",
       "      <td>2016-12-10</td>\n",
       "      <td>Standard Class</td>\n",
       "      <td>AP-10720</td>\n",
       "      <td>Anne Pryor</td>\n",
       "      <td>Home Office</td>\n",
       "      <td>United States</td>\n",
       "      <td>Los Angeles</td>\n",
       "      <td>...</td>\n",
       "      <td>Cisco SPA301</td>\n",
       "      <td>249.584</td>\n",
       "      <td>2</td>\n",
       "      <td>0.2</td>\n",
       "      <td>31.1980</td>\n",
       "      <td>15.5990</td>\n",
       "      <td>0.008013</td>\n",
       "      <td>124.792</td>\n",
       "      <td>0.125</td>\n",
       "      <td>62.3960</td>\n",
       "    </tr>\n",
       "    <tr>\n",
       "      <th>2</th>\n",
       "      <td>9978</td>\n",
       "      <td>US-2016-103674</td>\n",
       "      <td>2016-12-06</td>\n",
       "      <td>2016-12-10</td>\n",
       "      <td>Standard Class</td>\n",
       "      <td>AP-10720</td>\n",
       "      <td>Anne Pryor</td>\n",
       "      <td>Home Office</td>\n",
       "      <td>United States</td>\n",
       "      <td>Los Angeles</td>\n",
       "      <td>...</td>\n",
       "      <td>Alliance Big Bands Rubber Bands, 12/Pack</td>\n",
       "      <td>13.860</td>\n",
       "      <td>7</td>\n",
       "      <td>0.0</td>\n",
       "      <td>0.0000</td>\n",
       "      <td>0.0000</td>\n",
       "      <td>0.505051</td>\n",
       "      <td>1.980</td>\n",
       "      <td>0.000</td>\n",
       "      <td>0.0000</td>\n",
       "    </tr>\n",
       "    <tr>\n",
       "      <th>3</th>\n",
       "      <td>9979</td>\n",
       "      <td>US-2016-103674</td>\n",
       "      <td>2016-12-06</td>\n",
       "      <td>2016-12-10</td>\n",
       "      <td>Standard Class</td>\n",
       "      <td>AP-10720</td>\n",
       "      <td>Anne Pryor</td>\n",
       "      <td>Home Office</td>\n",
       "      <td>United States</td>\n",
       "      <td>Los Angeles</td>\n",
       "      <td>...</td>\n",
       "      <td>Avery Durable Slant Ring Binders With Label Ho...</td>\n",
       "      <td>13.376</td>\n",
       "      <td>4</td>\n",
       "      <td>0.2</td>\n",
       "      <td>4.6816</td>\n",
       "      <td>1.1704</td>\n",
       "      <td>0.299043</td>\n",
       "      <td>3.344</td>\n",
       "      <td>0.350</td>\n",
       "      <td>18.7264</td>\n",
       "    </tr>\n",
       "    <tr>\n",
       "      <th>4</th>\n",
       "      <td>9980</td>\n",
       "      <td>US-2016-103674</td>\n",
       "      <td>2016-12-06</td>\n",
       "      <td>2016-12-10</td>\n",
       "      <td>Standard Class</td>\n",
       "      <td>AP-10720</td>\n",
       "      <td>Anne Pryor</td>\n",
       "      <td>Home Office</td>\n",
       "      <td>United States</td>\n",
       "      <td>Los Angeles</td>\n",
       "      <td>...</td>\n",
       "      <td>Ibico Recycled Linen-Style Covers</td>\n",
       "      <td>437.472</td>\n",
       "      <td>14</td>\n",
       "      <td>0.2</td>\n",
       "      <td>153.1152</td>\n",
       "      <td>10.9368</td>\n",
       "      <td>0.032002</td>\n",
       "      <td>31.248</td>\n",
       "      <td>0.350</td>\n",
       "      <td>2143.6128</td>\n",
       "    </tr>\n",
       "  </tbody>\n",
       "</table>\n",
       "<p>5 rows × 26 columns</p>\n",
       "</div>"
      ],
      "text/plain": [
       "   Row ID        Order ID Order Date  Ship Date       Ship Mode Customer ID  \\\n",
       "0    9976  US-2016-103674 2016-12-06 2016-12-10  Standard Class    AP-10720   \n",
       "1    9977  US-2016-103674 2016-12-06 2016-12-10  Standard Class    AP-10720   \n",
       "2    9978  US-2016-103674 2016-12-06 2016-12-10  Standard Class    AP-10720   \n",
       "3    9979  US-2016-103674 2016-12-06 2016-12-10  Standard Class    AP-10720   \n",
       "4    9980  US-2016-103674 2016-12-06 2016-12-10  Standard Class    AP-10720   \n",
       "\n",
       "  Customer Name      Segment        Country         City  ...  \\\n",
       "0    Anne Pryor  Home Office  United States  Los Angeles  ...   \n",
       "1    Anne Pryor  Home Office  United States  Los Angeles  ...   \n",
       "2    Anne Pryor  Home Office  United States  Los Angeles  ...   \n",
       "3    Anne Pryor  Home Office  United States  Los Angeles  ...   \n",
       "4    Anne Pryor  Home Office  United States  Los Angeles  ...   \n",
       "\n",
       "                                        Product Name    Sales Quantity  \\\n",
       "0                                         Xerox 1977   13.360        2   \n",
       "1                                       Cisco SPA301  249.584        2   \n",
       "2           Alliance Big Bands Rubber Bands, 12/Pack   13.860        7   \n",
       "3  Avery Durable Slant Ring Binders With Label Ho...   13.376        4   \n",
       "4                  Ibico Recycled Linen-Style Covers  437.472       14   \n",
       "\n",
       "  Discount    Profit Profit_per_quantity Quantity_per_Sales  \\\n",
       "0      0.0    6.4128              3.2064           0.149701   \n",
       "1      0.2   31.1980             15.5990           0.008013   \n",
       "2      0.0    0.0000              0.0000           0.505051   \n",
       "3      0.2    4.6816              1.1704           0.299043   \n",
       "4      0.2  153.1152             10.9368           0.032002   \n",
       "\n",
       "   Price_per_Product  Profit_by_Sales  Calculated Profit  \n",
       "0              6.680            0.480            12.8256  \n",
       "1            124.792            0.125            62.3960  \n",
       "2              1.980            0.000             0.0000  \n",
       "3              3.344            0.350            18.7264  \n",
       "4             31.248            0.350          2143.6128  \n",
       "\n",
       "[5 rows x 26 columns]"
      ]
     },
     "execution_count": 54,
     "metadata": {},
     "output_type": "execute_result"
    }
   ],
   "source": [
    "walmart_df.head()"
   ]
  },
  {
   "cell_type": "code",
   "execution_count": 55,
   "metadata": {},
   "outputs": [
    {
     "data": {
      "text/plain": [
       "<matplotlib.axes._subplots.AxesSubplot at 0x1c42a603608>"
      ]
     },
     "execution_count": 55,
     "metadata": {},
     "output_type": "execute_result"
    },
    {
     "data": {
      "image/png": "[encoded data removed]",
      "text/plain": [
       "<Figure size 864x432 with 1 Axes>"
      ]
     },
     "metadata": {
      "needs_background": "light"
     },
     "output_type": "display_data"
    }
   ],
   "source": [
    "walmart_df[\"Calculated Profit\"].plot(kind=\"hist\", figsize=(12,6))"
   ]
  },
  {
   "cell_type": "code",
   "execution_count": 56,
   "metadata": {},
   "outputs": [
    {
     "data": {
      "text/plain": [
       "<matplotlib.axes._subplots.AxesSubplot at 0x1c42a0ebdc8>"
      ]
     },
     "execution_count": 56,
     "metadata": {},
     "output_type": "execute_result"
    },
    {
     "data": {
      "image/png": "[encoded data removed]",
      "text/plain": [
       "<Figure size 864x432 with 1 Axes>"
      ]
     },
     "metadata": {
      "needs_background": "light"
     },
     "output_type": "display_data"
    }
   ],
   "source": [
    "walmart_df[\"Calculated Profit\"].plot(kind=\"density\", figsize=(12,6))"
   ]
  },
  {
   "cell_type": "markdown",
   "metadata": {},
   "source": [
    "##### We look for the total sales in the whole transactions."
   ]
  },
  {
   "cell_type": "code",
   "execution_count": 57,
   "metadata": {},
   "outputs": [
    {
     "data": {
      "text/plain": [
       "9994"
      ]
     },
     "execution_count": 57,
     "metadata": {},
     "output_type": "execute_result"
    }
   ],
   "source": [
    "(walmart_df[\"Sales\"] != walmart_df[\"Profit\"]).sum()"
   ]
  },
  {
   "cell_type": "code",
   "execution_count": 58,
   "metadata": {},
   "outputs": [
    {
     "data": {
      "text/plain": [
       "<matplotlib.axes._subplots.AxesSubplot at 0x1c4299c0b08>"
      ]
     },
     "execution_count": 58,
     "metadata": {},
     "output_type": "execute_result"
    },
    {
     "data": {
      "image/png": "[encoded data removed]",
      "text/plain": [
       "<Figure size 432x432 with 1 Axes>"
      ]
     },
     "metadata": {
      "needs_background": "light"
     },
     "output_type": "display_data"
    }
   ],
   "source": [
    "walmart_df.plot(kind=\"scatter\", x=\"Quantity_per_Sales\", y=\"Price_per_Product\", figsize=(6,6))"
   ]
  },
  {
   "cell_type": "code",
   "execution_count": 59,
   "metadata": {},
   "outputs": [
    {
     "data": {
      "text/plain": [
       "<matplotlib.axes._subplots.AxesSubplot at 0x1c4297a9d88>"
      ]
     },
     "execution_count": 59,
     "metadata": {},
     "output_type": "execute_result"
    },
    {
     "data": {
      "image/png": "[encoded data removed]",
      "text/plain": [
       "<Figure size 432x432 with 1 Axes>"
      ]
     },
     "metadata": {
      "needs_background": "light"
     },
     "output_type": "display_data"
    }
   ],
   "source": [
    "walmart_df.plot(kind=\"hist\", x=\"Price_per_Product\", y=\"Quantity_per_Sales\", figsize=(6,6))"
   ]
  },
  {
   "cell_type": "markdown",
   "metadata": {},
   "source": [
    "###### We join Sales' and Profit columns together and assign them to an object called \"Cost_of_Product\""
   ]
  },
  {
   "cell_type": "code",
   "execution_count": 60,
   "metadata": {},
   "outputs": [
    {
     "data": {
      "text/plain": [
       "0         6.9472\n",
       "1       218.3860\n",
       "2        13.8600\n",
       "3         8.6944\n",
       "4       284.3568\n",
       "          ...   \n",
       "9989    192.6680\n",
       "9990      6.3600\n",
       "9991    652.5624\n",
       "9992     45.5100\n",
       "9993      6.0776\n",
       "Name: Cost_of_Product, Length: 9994, dtype: float64"
      ]
     },
     "execution_count": 60,
     "metadata": {},
     "output_type": "execute_result"
    }
   ],
   "source": [
    "walmart_df[\"Cost_of_Product\"] = walmart_df[\"Sales\"] - walmart_df[\"Profit\"]\n",
    "\n",
    "walmart_df[\"Cost_of_Product\"]"
   ]
  },
  {
   "cell_type": "code",
   "execution_count": 61,
   "metadata": {},
   "outputs": [
    {
     "data": {
      "text/plain": [
       "<matplotlib.axes._subplots.AxesSubplot at 0x1c42a0ecbc8>"
      ]
     },
     "execution_count": 61,
     "metadata": {},
     "output_type": "execute_result"
    },
    {
     "data": {
      "image/png": "[encoded data removed]",
      "text/plain": [
       "<Figure size 432x432 with 1 Axes>"
      ]
     },
     "metadata": {
      "needs_background": "light"
     },
     "output_type": "display_data"
    }
   ],
   "source": [
    "walmart_df[\"Cost_of_Product\"].plot(kind=\"density\", figsize=(6,6))"
   ]
  },
  {
   "cell_type": "code",
   "execution_count": 62,
   "metadata": {},
   "outputs": [
    {
     "data": {
      "text/plain": [
       "<matplotlib.axes._subplots.AxesSubplot at 0x1c42a0d5a08>"
      ]
     },
     "execution_count": 62,
     "metadata": {},
     "output_type": "execute_result"
    },
    {
     "data": {
      "image/png": "[encoded data removed]",
      "text/plain": [
       "<Figure size 432x432 with 1 Axes>"
      ]
     },
     "metadata": {
      "needs_background": "light"
     },
     "output_type": "display_data"
    }
   ],
   "source": [
    "walmart_df.plot(kind=\"scatter\", x=\"Cost_of_Product\", y=\"Sales\", figsize=(6, 6))"
   ]
  },
  {
   "cell_type": "code",
   "execution_count": 63,
   "metadata": {},
   "outputs": [
    {
     "data": {
      "text/plain": [
       "<matplotlib.axes._subplots.AxesSubplot at 0x1c429dfb1c8>"
      ]
     },
     "execution_count": 63,
     "metadata": {},
     "output_type": "execute_result"
    },
    {
     "data": {
      "image/png": "[encoded data removed]",
      "text/plain": [
       "<Figure size 720x432 with 1 Axes>"
      ]
     },
     "metadata": {
      "needs_background": "light"
     },
     "output_type": "display_data"
    }
   ],
   "source": [
    "walmart_df[\"Sales\"].plot(kind=\"hist\", bins=100, figsize=(10,6))"
   ]
  },
  {
   "cell_type": "markdown",
   "metadata": {},
   "source": [
    "#### Still in the act of doing some arithmetics, we tried to subtract 100 from each \"Cost_of_Product\" column and check for the outcome"
   ]
  },
  {
   "cell_type": "code",
   "execution_count": 64,
   "metadata": {},
   "outputs": [
    {
     "data": {
      "text/plain": [
       "0       -93.0528\n",
       "1       118.3860\n",
       "2       -86.1400\n",
       "3       -91.3056\n",
       "4       184.3568\n",
       "          ...   \n",
       "9989     92.6680\n",
       "9990    -93.6400\n",
       "9991    552.5624\n",
       "9992    -54.4900\n",
       "9993    -93.9224\n",
       "Name: Cost_of_Product, Length: 9994, dtype: float64"
      ]
     },
     "execution_count": 64,
     "metadata": {},
     "output_type": "execute_result"
    }
   ],
   "source": [
    "walmart_df[\"Cost_of_Product\"] -= 100\n",
    "walmart_df[\"Cost_of_Product\"]"
   ]
  },
  {
   "cell_type": "code",
   "execution_count": 65,
   "metadata": {},
   "outputs": [
    {
     "data": {
      "text/html": [
       "<div>\n",
       "<style scoped>\n",
       "    .dataframe tbody tr th:only-of-type {\n",
       "        vertical-align: middle;\n",
       "    }\n",
       "\n",
       "    .dataframe tbody tr th {\n",
       "        vertical-align: top;\n",
       "    }\n",
       "\n",
       "    .dataframe thead th {\n",
       "        text-align: right;\n",
       "    }\n",
       "</style>\n",
       "<table border=\"1\" class=\"dataframe\">\n",
       "  <thead>\n",
       "    <tr style=\"text-align: right;\">\n",
       "      <th></th>\n",
       "      <th>Row ID</th>\n",
       "      <th>Order ID</th>\n",
       "      <th>Order Date</th>\n",
       "      <th>Ship Date</th>\n",
       "      <th>Ship Mode</th>\n",
       "      <th>Customer ID</th>\n",
       "      <th>Customer Name</th>\n",
       "      <th>Segment</th>\n",
       "      <th>Country</th>\n",
       "      <th>City</th>\n",
       "      <th>...</th>\n",
       "      <th>Sales</th>\n",
       "      <th>Quantity</th>\n",
       "      <th>Discount</th>\n",
       "      <th>Profit</th>\n",
       "      <th>Profit_per_quantity</th>\n",
       "      <th>Quantity_per_Sales</th>\n",
       "      <th>Price_per_Product</th>\n",
       "      <th>Profit_by_Sales</th>\n",
       "      <th>Calculated Profit</th>\n",
       "      <th>Cost_of_Product</th>\n",
       "    </tr>\n",
       "  </thead>\n",
       "  <tbody>\n",
       "    <tr>\n",
       "      <th>0</th>\n",
       "      <td>9976</td>\n",
       "      <td>US-2016-103674</td>\n",
       "      <td>2016-12-06</td>\n",
       "      <td>2016-12-10</td>\n",
       "      <td>Standard Class</td>\n",
       "      <td>AP-10720</td>\n",
       "      <td>Anne Pryor</td>\n",
       "      <td>Home Office</td>\n",
       "      <td>United States</td>\n",
       "      <td>Los Angeles</td>\n",
       "      <td>...</td>\n",
       "      <td>13.360</td>\n",
       "      <td>2</td>\n",
       "      <td>0.0</td>\n",
       "      <td>6.4128</td>\n",
       "      <td>3.2064</td>\n",
       "      <td>0.149701</td>\n",
       "      <td>6.680</td>\n",
       "      <td>0.480</td>\n",
       "      <td>12.8256</td>\n",
       "      <td>-93.0528</td>\n",
       "    </tr>\n",
       "    <tr>\n",
       "      <th>1</th>\n",
       "      <td>9977</td>\n",
       "      <td>US-2016-103674</td>\n",
       "      <td>2016-12-06</td>\n",
       "      <td>2016-12-10</td>\n",
       "      <td>Standard Class</td>\n",
       "      <td>AP-10720</td>\n",
       "      <td>Anne Pryor</td>\n",
       "      <td>Home Office</td>\n",
       "      <td>United States</td>\n",
       "      <td>Los Angeles</td>\n",
       "      <td>...</td>\n",
       "      <td>249.584</td>\n",
       "      <td>2</td>\n",
       "      <td>0.2</td>\n",
       "      <td>31.1980</td>\n",
       "      <td>15.5990</td>\n",
       "      <td>0.008013</td>\n",
       "      <td>124.792</td>\n",
       "      <td>0.125</td>\n",
       "      <td>62.3960</td>\n",
       "      <td>118.3860</td>\n",
       "    </tr>\n",
       "    <tr>\n",
       "      <th>2</th>\n",
       "      <td>9978</td>\n",
       "      <td>US-2016-103674</td>\n",
       "      <td>2016-12-06</td>\n",
       "      <td>2016-12-10</td>\n",
       "      <td>Standard Class</td>\n",
       "      <td>AP-10720</td>\n",
       "      <td>Anne Pryor</td>\n",
       "      <td>Home Office</td>\n",
       "      <td>United States</td>\n",
       "      <td>Los Angeles</td>\n",
       "      <td>...</td>\n",
       "      <td>13.860</td>\n",
       "      <td>7</td>\n",
       "      <td>0.0</td>\n",
       "      <td>0.0000</td>\n",
       "      <td>0.0000</td>\n",
       "      <td>0.505051</td>\n",
       "      <td>1.980</td>\n",
       "      <td>0.000</td>\n",
       "      <td>0.0000</td>\n",
       "      <td>-86.1400</td>\n",
       "    </tr>\n",
       "    <tr>\n",
       "      <th>3</th>\n",
       "      <td>9979</td>\n",
       "      <td>US-2016-103674</td>\n",
       "      <td>2016-12-06</td>\n",
       "      <td>2016-12-10</td>\n",
       "      <td>Standard Class</td>\n",
       "      <td>AP-10720</td>\n",
       "      <td>Anne Pryor</td>\n",
       "      <td>Home Office</td>\n",
       "      <td>United States</td>\n",
       "      <td>Los Angeles</td>\n",
       "      <td>...</td>\n",
       "      <td>13.376</td>\n",
       "      <td>4</td>\n",
       "      <td>0.2</td>\n",
       "      <td>4.6816</td>\n",
       "      <td>1.1704</td>\n",
       "      <td>0.299043</td>\n",
       "      <td>3.344</td>\n",
       "      <td>0.350</td>\n",
       "      <td>18.7264</td>\n",
       "      <td>-91.3056</td>\n",
       "    </tr>\n",
       "    <tr>\n",
       "      <th>4</th>\n",
       "      <td>9980</td>\n",
       "      <td>US-2016-103674</td>\n",
       "      <td>2016-12-06</td>\n",
       "      <td>2016-12-10</td>\n",
       "      <td>Standard Class</td>\n",
       "      <td>AP-10720</td>\n",
       "      <td>Anne Pryor</td>\n",
       "      <td>Home Office</td>\n",
       "      <td>United States</td>\n",
       "      <td>Los Angeles</td>\n",
       "      <td>...</td>\n",
       "      <td>437.472</td>\n",
       "      <td>14</td>\n",
       "      <td>0.2</td>\n",
       "      <td>153.1152</td>\n",
       "      <td>10.9368</td>\n",
       "      <td>0.032002</td>\n",
       "      <td>31.248</td>\n",
       "      <td>0.350</td>\n",
       "      <td>2143.6128</td>\n",
       "      <td>184.3568</td>\n",
       "    </tr>\n",
       "  </tbody>\n",
       "</table>\n",
       "<p>5 rows × 27 columns</p>\n",
       "</div>"
      ],
      "text/plain": [
       "   Row ID        Order ID Order Date  Ship Date       Ship Mode Customer ID  \\\n",
       "0    9976  US-2016-103674 2016-12-06 2016-12-10  Standard Class    AP-10720   \n",
       "1    9977  US-2016-103674 2016-12-06 2016-12-10  Standard Class    AP-10720   \n",
       "2    9978  US-2016-103674 2016-12-06 2016-12-10  Standard Class    AP-10720   \n",
       "3    9979  US-2016-103674 2016-12-06 2016-12-10  Standard Class    AP-10720   \n",
       "4    9980  US-2016-103674 2016-12-06 2016-12-10  Standard Class    AP-10720   \n",
       "\n",
       "  Customer Name      Segment        Country         City  ...    Sales  \\\n",
       "0    Anne Pryor  Home Office  United States  Los Angeles  ...   13.360   \n",
       "1    Anne Pryor  Home Office  United States  Los Angeles  ...  249.584   \n",
       "2    Anne Pryor  Home Office  United States  Los Angeles  ...   13.860   \n",
       "3    Anne Pryor  Home Office  United States  Los Angeles  ...   13.376   \n",
       "4    Anne Pryor  Home Office  United States  Los Angeles  ...  437.472   \n",
       "\n",
       "   Quantity Discount    Profit Profit_per_quantity Quantity_per_Sales  \\\n",
       "0         2      0.0    6.4128              3.2064           0.149701   \n",
       "1         2      0.2   31.1980             15.5990           0.008013   \n",
       "2         7      0.0    0.0000              0.0000           0.505051   \n",
       "3         4      0.2    4.6816              1.1704           0.299043   \n",
       "4        14      0.2  153.1152             10.9368           0.032002   \n",
       "\n",
       "  Price_per_Product  Profit_by_Sales  Calculated Profit  Cost_of_Product  \n",
       "0             6.680            0.480            12.8256         -93.0528  \n",
       "1           124.792            0.125            62.3960         118.3860  \n",
       "2             1.980            0.000             0.0000         -86.1400  \n",
       "3             3.344            0.350            18.7264         -91.3056  \n",
       "4            31.248            0.350          2143.6128         184.3568  \n",
       "\n",
       "[5 rows x 27 columns]"
      ]
     },
     "execution_count": 65,
     "metadata": {},
     "output_type": "execute_result"
    }
   ],
   "source": [
    "walmart_df.head()"
   ]
  },
  {
   "cell_type": "markdown",
   "metadata": {},
   "source": [
    "#### So we want to see only the transaction record of the \"City\" in \"los Angelis\"."
   ]
  },
  {
   "cell_type": "code",
   "execution_count": 66,
   "metadata": {},
   "outputs": [
    {
     "data": {
      "text/html": [
       "<div>\n",
       "<style scoped>\n",
       "    .dataframe tbody tr th:only-of-type {\n",
       "        vertical-align: middle;\n",
       "    }\n",
       "\n",
       "    .dataframe tbody tr th {\n",
       "        vertical-align: top;\n",
       "    }\n",
       "\n",
       "    .dataframe thead th {\n",
       "        text-align: right;\n",
       "    }\n",
       "</style>\n",
       "<table border=\"1\" class=\"dataframe\">\n",
       "  <thead>\n",
       "    <tr style=\"text-align: right;\">\n",
       "      <th></th>\n",
       "      <th>Row ID</th>\n",
       "      <th>Order ID</th>\n",
       "      <th>Order Date</th>\n",
       "      <th>Ship Date</th>\n",
       "      <th>Ship Mode</th>\n",
       "      <th>Customer ID</th>\n",
       "      <th>Customer Name</th>\n",
       "      <th>Segment</th>\n",
       "      <th>Country</th>\n",
       "      <th>City</th>\n",
       "      <th>...</th>\n",
       "      <th>Sales</th>\n",
       "      <th>Quantity</th>\n",
       "      <th>Discount</th>\n",
       "      <th>Profit</th>\n",
       "      <th>Profit_per_quantity</th>\n",
       "      <th>Quantity_per_Sales</th>\n",
       "      <th>Price_per_Product</th>\n",
       "      <th>Profit_by_Sales</th>\n",
       "      <th>Calculated Profit</th>\n",
       "      <th>Cost_of_Product</th>\n",
       "    </tr>\n",
       "  </thead>\n",
       "  <tbody>\n",
       "    <tr>\n",
       "      <th>0</th>\n",
       "      <td>9976</td>\n",
       "      <td>US-2016-103674</td>\n",
       "      <td>2016-12-06</td>\n",
       "      <td>2016-12-10</td>\n",
       "      <td>Standard Class</td>\n",
       "      <td>AP-10720</td>\n",
       "      <td>Anne Pryor</td>\n",
       "      <td>Home Office</td>\n",
       "      <td>United States</td>\n",
       "      <td>Los Angeles</td>\n",
       "      <td>...</td>\n",
       "      <td>13.360</td>\n",
       "      <td>2</td>\n",
       "      <td>0.0</td>\n",
       "      <td>6.4128</td>\n",
       "      <td>3.2064</td>\n",
       "      <td>0.149701</td>\n",
       "      <td>6.680</td>\n",
       "      <td>0.4800</td>\n",
       "      <td>12.8256</td>\n",
       "      <td>-93.0528</td>\n",
       "    </tr>\n",
       "    <tr>\n",
       "      <th>1</th>\n",
       "      <td>9977</td>\n",
       "      <td>US-2016-103674</td>\n",
       "      <td>2016-12-06</td>\n",
       "      <td>2016-12-10</td>\n",
       "      <td>Standard Class</td>\n",
       "      <td>AP-10720</td>\n",
       "      <td>Anne Pryor</td>\n",
       "      <td>Home Office</td>\n",
       "      <td>United States</td>\n",
       "      <td>Los Angeles</td>\n",
       "      <td>...</td>\n",
       "      <td>249.584</td>\n",
       "      <td>2</td>\n",
       "      <td>0.2</td>\n",
       "      <td>31.1980</td>\n",
       "      <td>15.5990</td>\n",
       "      <td>0.008013</td>\n",
       "      <td>124.792</td>\n",
       "      <td>0.1250</td>\n",
       "      <td>62.3960</td>\n",
       "      <td>118.3860</td>\n",
       "    </tr>\n",
       "    <tr>\n",
       "      <th>2</th>\n",
       "      <td>9978</td>\n",
       "      <td>US-2016-103674</td>\n",
       "      <td>2016-12-06</td>\n",
       "      <td>2016-12-10</td>\n",
       "      <td>Standard Class</td>\n",
       "      <td>AP-10720</td>\n",
       "      <td>Anne Pryor</td>\n",
       "      <td>Home Office</td>\n",
       "      <td>United States</td>\n",
       "      <td>Los Angeles</td>\n",
       "      <td>...</td>\n",
       "      <td>13.860</td>\n",
       "      <td>7</td>\n",
       "      <td>0.0</td>\n",
       "      <td>0.0000</td>\n",
       "      <td>0.0000</td>\n",
       "      <td>0.505051</td>\n",
       "      <td>1.980</td>\n",
       "      <td>0.0000</td>\n",
       "      <td>0.0000</td>\n",
       "      <td>-86.1400</td>\n",
       "    </tr>\n",
       "    <tr>\n",
       "      <th>3</th>\n",
       "      <td>9979</td>\n",
       "      <td>US-2016-103674</td>\n",
       "      <td>2016-12-06</td>\n",
       "      <td>2016-12-10</td>\n",
       "      <td>Standard Class</td>\n",
       "      <td>AP-10720</td>\n",
       "      <td>Anne Pryor</td>\n",
       "      <td>Home Office</td>\n",
       "      <td>United States</td>\n",
       "      <td>Los Angeles</td>\n",
       "      <td>...</td>\n",
       "      <td>13.376</td>\n",
       "      <td>4</td>\n",
       "      <td>0.2</td>\n",
       "      <td>4.6816</td>\n",
       "      <td>1.1704</td>\n",
       "      <td>0.299043</td>\n",
       "      <td>3.344</td>\n",
       "      <td>0.3500</td>\n",
       "      <td>18.7264</td>\n",
       "      <td>-91.3056</td>\n",
       "    </tr>\n",
       "    <tr>\n",
       "      <th>4</th>\n",
       "      <td>9980</td>\n",
       "      <td>US-2016-103674</td>\n",
       "      <td>2016-12-06</td>\n",
       "      <td>2016-12-10</td>\n",
       "      <td>Standard Class</td>\n",
       "      <td>AP-10720</td>\n",
       "      <td>Anne Pryor</td>\n",
       "      <td>Home Office</td>\n",
       "      <td>United States</td>\n",
       "      <td>Los Angeles</td>\n",
       "      <td>...</td>\n",
       "      <td>437.472</td>\n",
       "      <td>14</td>\n",
       "      <td>0.2</td>\n",
       "      <td>153.1152</td>\n",
       "      <td>10.9368</td>\n",
       "      <td>0.032002</td>\n",
       "      <td>31.248</td>\n",
       "      <td>0.3500</td>\n",
       "      <td>2143.6128</td>\n",
       "      <td>184.3568</td>\n",
       "    </tr>\n",
       "    <tr>\n",
       "      <th>...</th>\n",
       "      <td>...</td>\n",
       "      <td>...</td>\n",
       "      <td>...</td>\n",
       "      <td>...</td>\n",
       "      <td>...</td>\n",
       "      <td>...</td>\n",
       "      <td>...</td>\n",
       "      <td>...</td>\n",
       "      <td>...</td>\n",
       "      <td>...</td>\n",
       "      <td>...</td>\n",
       "      <td>...</td>\n",
       "      <td>...</td>\n",
       "      <td>...</td>\n",
       "      <td>...</td>\n",
       "      <td>...</td>\n",
       "      <td>...</td>\n",
       "      <td>...</td>\n",
       "      <td>...</td>\n",
       "      <td>...</td>\n",
       "      <td>...</td>\n",
       "    </tr>\n",
       "    <tr>\n",
       "      <th>9982</th>\n",
       "      <td>9983</td>\n",
       "      <td>CA-2014-115812</td>\n",
       "      <td>2014-06-09</td>\n",
       "      <td>2014-06-14</td>\n",
       "      <td>Standard Class</td>\n",
       "      <td>BH-11710</td>\n",
       "      <td>Brosina Hoffman</td>\n",
       "      <td>Consumer</td>\n",
       "      <td>United States</td>\n",
       "      <td>Los Angeles</td>\n",
       "      <td>...</td>\n",
       "      <td>907.152</td>\n",
       "      <td>6</td>\n",
       "      <td>0.2</td>\n",
       "      <td>90.7152</td>\n",
       "      <td>15.1192</td>\n",
       "      <td>0.006614</td>\n",
       "      <td>151.192</td>\n",
       "      <td>0.1000</td>\n",
       "      <td>544.2912</td>\n",
       "      <td>716.4368</td>\n",
       "    </tr>\n",
       "    <tr>\n",
       "      <th>9983</th>\n",
       "      <td>9984</td>\n",
       "      <td>CA-2014-115812</td>\n",
       "      <td>2014-06-09</td>\n",
       "      <td>2014-06-14</td>\n",
       "      <td>Standard Class</td>\n",
       "      <td>BH-11710</td>\n",
       "      <td>Brosina Hoffman</td>\n",
       "      <td>Consumer</td>\n",
       "      <td>United States</td>\n",
       "      <td>Los Angeles</td>\n",
       "      <td>...</td>\n",
       "      <td>18.504</td>\n",
       "      <td>3</td>\n",
       "      <td>0.2</td>\n",
       "      <td>5.7825</td>\n",
       "      <td>1.9275</td>\n",
       "      <td>0.162127</td>\n",
       "      <td>6.168</td>\n",
       "      <td>0.3125</td>\n",
       "      <td>17.3475</td>\n",
       "      <td>-87.2785</td>\n",
       "    </tr>\n",
       "    <tr>\n",
       "      <th>9984</th>\n",
       "      <td>9985</td>\n",
       "      <td>CA-2014-115812</td>\n",
       "      <td>2014-06-09</td>\n",
       "      <td>2014-06-14</td>\n",
       "      <td>Standard Class</td>\n",
       "      <td>BH-11710</td>\n",
       "      <td>Brosina Hoffman</td>\n",
       "      <td>Consumer</td>\n",
       "      <td>United States</td>\n",
       "      <td>Los Angeles</td>\n",
       "      <td>...</td>\n",
       "      <td>114.900</td>\n",
       "      <td>5</td>\n",
       "      <td>0.0</td>\n",
       "      <td>34.4700</td>\n",
       "      <td>6.8940</td>\n",
       "      <td>0.043516</td>\n",
       "      <td>22.980</td>\n",
       "      <td>0.3000</td>\n",
       "      <td>172.3500</td>\n",
       "      <td>-19.5700</td>\n",
       "    </tr>\n",
       "    <tr>\n",
       "      <th>9985</th>\n",
       "      <td>9986</td>\n",
       "      <td>CA-2014-115812</td>\n",
       "      <td>2014-06-09</td>\n",
       "      <td>2014-06-14</td>\n",
       "      <td>Standard Class</td>\n",
       "      <td>BH-11710</td>\n",
       "      <td>Brosina Hoffman</td>\n",
       "      <td>Consumer</td>\n",
       "      <td>United States</td>\n",
       "      <td>Los Angeles</td>\n",
       "      <td>...</td>\n",
       "      <td>1706.184</td>\n",
       "      <td>9</td>\n",
       "      <td>0.2</td>\n",
       "      <td>85.3092</td>\n",
       "      <td>9.4788</td>\n",
       "      <td>0.005275</td>\n",
       "      <td>189.576</td>\n",
       "      <td>0.0500</td>\n",
       "      <td>767.7828</td>\n",
       "      <td>1520.8748</td>\n",
       "    </tr>\n",
       "    <tr>\n",
       "      <th>9986</th>\n",
       "      <td>9987</td>\n",
       "      <td>CA-2014-115812</td>\n",
       "      <td>2014-06-09</td>\n",
       "      <td>2014-06-14</td>\n",
       "      <td>Standard Class</td>\n",
       "      <td>BH-11710</td>\n",
       "      <td>Brosina Hoffman</td>\n",
       "      <td>Consumer</td>\n",
       "      <td>United States</td>\n",
       "      <td>Los Angeles</td>\n",
       "      <td>...</td>\n",
       "      <td>911.424</td>\n",
       "      <td>4</td>\n",
       "      <td>0.2</td>\n",
       "      <td>68.3568</td>\n",
       "      <td>17.0892</td>\n",
       "      <td>0.004389</td>\n",
       "      <td>227.856</td>\n",
       "      <td>0.0750</td>\n",
       "      <td>273.4272</td>\n",
       "      <td>743.0672</td>\n",
       "    </tr>\n",
       "  </tbody>\n",
       "</table>\n",
       "<p>747 rows × 27 columns</p>\n",
       "</div>"
      ],
      "text/plain": [
       "      Row ID        Order ID Order Date  Ship Date       Ship Mode  \\\n",
       "0       9976  US-2016-103674 2016-12-06 2016-12-10  Standard Class   \n",
       "1       9977  US-2016-103674 2016-12-06 2016-12-10  Standard Class   \n",
       "2       9978  US-2016-103674 2016-12-06 2016-12-10  Standard Class   \n",
       "3       9979  US-2016-103674 2016-12-06 2016-12-10  Standard Class   \n",
       "4       9980  US-2016-103674 2016-12-06 2016-12-10  Standard Class   \n",
       "...      ...             ...        ...        ...             ...   \n",
       "9982    9983  CA-2014-115812 2014-06-09 2014-06-14  Standard Class   \n",
       "9983    9984  CA-2014-115812 2014-06-09 2014-06-14  Standard Class   \n",
       "9984    9985  CA-2014-115812 2014-06-09 2014-06-14  Standard Class   \n",
       "9985    9986  CA-2014-115812 2014-06-09 2014-06-14  Standard Class   \n",
       "9986    9987  CA-2014-115812 2014-06-09 2014-06-14  Standard Class   \n",
       "\n",
       "     Customer ID    Customer Name      Segment        Country         City  \\\n",
       "0       AP-10720       Anne Pryor  Home Office  United States  Los Angeles   \n",
       "1       AP-10720       Anne Pryor  Home Office  United States  Los Angeles   \n",
       "2       AP-10720       Anne Pryor  Home Office  United States  Los Angeles   \n",
       "3       AP-10720       Anne Pryor  Home Office  United States  Los Angeles   \n",
       "4       AP-10720       Anne Pryor  Home Office  United States  Los Angeles   \n",
       "...          ...              ...          ...            ...          ...   \n",
       "9982    BH-11710  Brosina Hoffman     Consumer  United States  Los Angeles   \n",
       "9983    BH-11710  Brosina Hoffman     Consumer  United States  Los Angeles   \n",
       "9984    BH-11710  Brosina Hoffman     Consumer  United States  Los Angeles   \n",
       "9985    BH-11710  Brosina Hoffman     Consumer  United States  Los Angeles   \n",
       "9986    BH-11710  Brosina Hoffman     Consumer  United States  Los Angeles   \n",
       "\n",
       "      ...     Sales  Quantity Discount    Profit Profit_per_quantity  \\\n",
       "0     ...    13.360         2      0.0    6.4128              3.2064   \n",
       "1     ...   249.584         2      0.2   31.1980             15.5990   \n",
       "2     ...    13.860         7      0.0    0.0000              0.0000   \n",
       "3     ...    13.376         4      0.2    4.6816              1.1704   \n",
       "4     ...   437.472        14      0.2  153.1152             10.9368   \n",
       "...   ...       ...       ...      ...       ...                 ...   \n",
       "9982  ...   907.152         6      0.2   90.7152             15.1192   \n",
       "9983  ...    18.504         3      0.2    5.7825              1.9275   \n",
       "9984  ...   114.900         5      0.0   34.4700              6.8940   \n",
       "9985  ...  1706.184         9      0.2   85.3092              9.4788   \n",
       "9986  ...   911.424         4      0.2   68.3568             17.0892   \n",
       "\n",
       "     Quantity_per_Sales Price_per_Product  Profit_by_Sales  Calculated Profit  \\\n",
       "0              0.149701             6.680           0.4800            12.8256   \n",
       "1              0.008013           124.792           0.1250            62.3960   \n",
       "2              0.505051             1.980           0.0000             0.0000   \n",
       "3              0.299043             3.344           0.3500            18.7264   \n",
       "4              0.032002            31.248           0.3500          2143.6128   \n",
       "...                 ...               ...              ...                ...   \n",
       "9982           0.006614           151.192           0.1000           544.2912   \n",
       "9983           0.162127             6.168           0.3125            17.3475   \n",
       "9984           0.043516            22.980           0.3000           172.3500   \n",
       "9985           0.005275           189.576           0.0500           767.7828   \n",
       "9986           0.004389           227.856           0.0750           273.4272   \n",
       "\n",
       "      Cost_of_Product  \n",
       "0            -93.0528  \n",
       "1            118.3860  \n",
       "2            -86.1400  \n",
       "3            -91.3056  \n",
       "4            184.3568  \n",
       "...               ...  \n",
       "9982         716.4368  \n",
       "9983         -87.2785  \n",
       "9984         -19.5700  \n",
       "9985        1520.8748  \n",
       "9986         743.0672  \n",
       "\n",
       "[747 rows x 27 columns]"
      ]
     },
     "execution_count": 66,
     "metadata": {},
     "output_type": "execute_result"
    }
   ],
   "source": [
    "walmart_df.loc[walmart_df[\"City\"] == \"Los Angeles\"]"
   ]
  },
  {
   "cell_type": "markdown",
   "metadata": {},
   "source": [
    "#### Checkout for the numbers of the value in each of the city under column \"City\"."
   ]
  },
  {
   "cell_type": "code",
   "execution_count": 67,
   "metadata": {},
   "outputs": [
    {
     "data": {
      "text/plain": [
       "New York City      915\n",
       "Los Angeles        747\n",
       "Philadelphia       537\n",
       "San Francisco      510\n",
       "Seattle            428\n",
       "                  ... \n",
       "Glenview             1\n",
       "Missouri City        1\n",
       "Rochester Hills      1\n",
       "Palatine             1\n",
       "Manhattan            1\n",
       "Name: City, Length: 531, dtype: int64"
      ]
     },
     "execution_count": 67,
     "metadata": {},
     "output_type": "execute_result"
    }
   ],
   "source": [
    "walmart_df[\"City\"].value_counts()"
   ]
  },
  {
   "cell_type": "markdown",
   "metadata": {},
   "source": [
    "#### Just as we did for los angelis, we want to do same for New York."
   ]
  },
  {
   "cell_type": "code",
   "execution_count": 68,
   "metadata": {},
   "outputs": [
    {
     "data": {
      "text/html": [
       "<div>\n",
       "<style scoped>\n",
       "    .dataframe tbody tr th:only-of-type {\n",
       "        vertical-align: middle;\n",
       "    }\n",
       "\n",
       "    .dataframe tbody tr th {\n",
       "        vertical-align: top;\n",
       "    }\n",
       "\n",
       "    .dataframe thead th {\n",
       "        text-align: right;\n",
       "    }\n",
       "</style>\n",
       "<table border=\"1\" class=\"dataframe\">\n",
       "  <thead>\n",
       "    <tr style=\"text-align: right;\">\n",
       "      <th></th>\n",
       "      <th>Row ID</th>\n",
       "      <th>Order ID</th>\n",
       "      <th>Order Date</th>\n",
       "      <th>Ship Date</th>\n",
       "      <th>Ship Mode</th>\n",
       "      <th>Customer ID</th>\n",
       "      <th>Customer Name</th>\n",
       "      <th>Segment</th>\n",
       "      <th>Country</th>\n",
       "      <th>City</th>\n",
       "      <th>...</th>\n",
       "      <th>Sales</th>\n",
       "      <th>Quantity</th>\n",
       "      <th>Discount</th>\n",
       "      <th>Profit</th>\n",
       "      <th>Profit_per_quantity</th>\n",
       "      <th>Quantity_per_Sales</th>\n",
       "      <th>Price_per_Product</th>\n",
       "      <th>Profit_by_Sales</th>\n",
       "      <th>Calculated Profit</th>\n",
       "      <th>Cost_of_Product</th>\n",
       "    </tr>\n",
       "  </thead>\n",
       "  <tbody>\n",
       "    <tr>\n",
       "      <th>9</th>\n",
       "      <td>9985</td>\n",
       "      <td>CA-2015-100251</td>\n",
       "      <td>2015-05-17</td>\n",
       "      <td>2015-05-23</td>\n",
       "      <td>Standard Class</td>\n",
       "      <td>DV-13465</td>\n",
       "      <td>Dianna Vittorini</td>\n",
       "      <td>Consumer</td>\n",
       "      <td>United States</td>\n",
       "      <td>Long Beach</td>\n",
       "      <td>...</td>\n",
       "      <td>31.50</td>\n",
       "      <td>10</td>\n",
       "      <td>0.0</td>\n",
       "      <td>15.1200</td>\n",
       "      <td>1.5120</td>\n",
       "      <td>0.317460</td>\n",
       "      <td>3.15</td>\n",
       "      <td>0.48</td>\n",
       "      <td>151.2000</td>\n",
       "      <td>-83.6200</td>\n",
       "    </tr>\n",
       "    <tr>\n",
       "      <th>10</th>\n",
       "      <td>9986</td>\n",
       "      <td>CA-2015-100251</td>\n",
       "      <td>2015-05-17</td>\n",
       "      <td>2015-05-23</td>\n",
       "      <td>Standard Class</td>\n",
       "      <td>DV-13465</td>\n",
       "      <td>Dianna Vittorini</td>\n",
       "      <td>Consumer</td>\n",
       "      <td>United States</td>\n",
       "      <td>Long Beach</td>\n",
       "      <td>...</td>\n",
       "      <td>55.60</td>\n",
       "      <td>4</td>\n",
       "      <td>0.0</td>\n",
       "      <td>16.1240</td>\n",
       "      <td>4.0310</td>\n",
       "      <td>0.071942</td>\n",
       "      <td>13.90</td>\n",
       "      <td>0.29</td>\n",
       "      <td>64.4960</td>\n",
       "      <td>-60.5240</td>\n",
       "    </tr>\n",
       "    <tr>\n",
       "      <th>53</th>\n",
       "      <td>54</td>\n",
       "      <td>CA-2016-105816</td>\n",
       "      <td>2016-12-11</td>\n",
       "      <td>2016-12-17</td>\n",
       "      <td>Standard Class</td>\n",
       "      <td>JM-15265</td>\n",
       "      <td>Janet Molinari</td>\n",
       "      <td>Corporate</td>\n",
       "      <td>United States</td>\n",
       "      <td>New York City</td>\n",
       "      <td>...</td>\n",
       "      <td>15.26</td>\n",
       "      <td>7</td>\n",
       "      <td>0.0</td>\n",
       "      <td>6.2566</td>\n",
       "      <td>0.8938</td>\n",
       "      <td>0.458716</td>\n",
       "      <td>2.18</td>\n",
       "      <td>0.41</td>\n",
       "      <td>43.7962</td>\n",
       "      <td>-90.9966</td>\n",
       "    </tr>\n",
       "    <tr>\n",
       "      <th>54</th>\n",
       "      <td>55</td>\n",
       "      <td>CA-2016-105816</td>\n",
       "      <td>2016-12-11</td>\n",
       "      <td>2016-12-17</td>\n",
       "      <td>Standard Class</td>\n",
       "      <td>JM-15265</td>\n",
       "      <td>Janet Molinari</td>\n",
       "      <td>Corporate</td>\n",
       "      <td>United States</td>\n",
       "      <td>New York City</td>\n",
       "      <td>...</td>\n",
       "      <td>1029.95</td>\n",
       "      <td>5</td>\n",
       "      <td>0.0</td>\n",
       "      <td>298.6855</td>\n",
       "      <td>59.7371</td>\n",
       "      <td>0.004855</td>\n",
       "      <td>205.99</td>\n",
       "      <td>0.29</td>\n",
       "      <td>1493.4275</td>\n",
       "      <td>631.2645</td>\n",
       "    </tr>\n",
       "    <tr>\n",
       "      <th>55</th>\n",
       "      <td>56</td>\n",
       "      <td>CA-2016-111682</td>\n",
       "      <td>2016-06-17</td>\n",
       "      <td>2016-06-18</td>\n",
       "      <td>First Class</td>\n",
       "      <td>TB-21055</td>\n",
       "      <td>Ted Butterfield</td>\n",
       "      <td>Consumer</td>\n",
       "      <td>United States</td>\n",
       "      <td>Troy</td>\n",
       "      <td>...</td>\n",
       "      <td>208.56</td>\n",
       "      <td>6</td>\n",
       "      <td>0.0</td>\n",
       "      <td>52.1400</td>\n",
       "      <td>8.6900</td>\n",
       "      <td>0.028769</td>\n",
       "      <td>34.76</td>\n",
       "      <td>0.25</td>\n",
       "      <td>312.8400</td>\n",
       "      <td>56.4200</td>\n",
       "    </tr>\n",
       "    <tr>\n",
       "      <th>...</th>\n",
       "      <td>...</td>\n",
       "      <td>...</td>\n",
       "      <td>...</td>\n",
       "      <td>...</td>\n",
       "      <td>...</td>\n",
       "      <td>...</td>\n",
       "      <td>...</td>\n",
       "      <td>...</td>\n",
       "      <td>...</td>\n",
       "      <td>...</td>\n",
       "      <td>...</td>\n",
       "      <td>...</td>\n",
       "      <td>...</td>\n",
       "      <td>...</td>\n",
       "      <td>...</td>\n",
       "      <td>...</td>\n",
       "      <td>...</td>\n",
       "      <td>...</td>\n",
       "      <td>...</td>\n",
       "      <td>...</td>\n",
       "      <td>...</td>\n",
       "    </tr>\n",
       "    <tr>\n",
       "      <th>9939</th>\n",
       "      <td>9940</td>\n",
       "      <td>CA-2016-169824</td>\n",
       "      <td>2016-12-12</td>\n",
       "      <td>2016-12-17</td>\n",
       "      <td>Standard Class</td>\n",
       "      <td>NS-18640</td>\n",
       "      <td>Noel Staavos</td>\n",
       "      <td>Corporate</td>\n",
       "      <td>United States</td>\n",
       "      <td>New York City</td>\n",
       "      <td>...</td>\n",
       "      <td>35.52</td>\n",
       "      <td>4</td>\n",
       "      <td>0.0</td>\n",
       "      <td>9.9456</td>\n",
       "      <td>2.4864</td>\n",
       "      <td>0.112613</td>\n",
       "      <td>8.88</td>\n",
       "      <td>0.28</td>\n",
       "      <td>39.7824</td>\n",
       "      <td>-74.4256</td>\n",
       "    </tr>\n",
       "    <tr>\n",
       "      <th>9940</th>\n",
       "      <td>9941</td>\n",
       "      <td>CA-2016-169824</td>\n",
       "      <td>2016-12-12</td>\n",
       "      <td>2016-12-17</td>\n",
       "      <td>Standard Class</td>\n",
       "      <td>NS-18640</td>\n",
       "      <td>Noel Staavos</td>\n",
       "      <td>Corporate</td>\n",
       "      <td>United States</td>\n",
       "      <td>New York City</td>\n",
       "      <td>...</td>\n",
       "      <td>11.20</td>\n",
       "      <td>7</td>\n",
       "      <td>0.0</td>\n",
       "      <td>4.8160</td>\n",
       "      <td>0.6880</td>\n",
       "      <td>0.625000</td>\n",
       "      <td>1.60</td>\n",
       "      <td>0.43</td>\n",
       "      <td>33.7120</td>\n",
       "      <td>-93.6160</td>\n",
       "    </tr>\n",
       "    <tr>\n",
       "      <th>9956</th>\n",
       "      <td>9957</td>\n",
       "      <td>US-2014-143287</td>\n",
       "      <td>2014-11-11</td>\n",
       "      <td>2014-11-17</td>\n",
       "      <td>Standard Class</td>\n",
       "      <td>KN-16705</td>\n",
       "      <td>Kristina Nunn</td>\n",
       "      <td>Home Office</td>\n",
       "      <td>United States</td>\n",
       "      <td>New Rochelle</td>\n",
       "      <td>...</td>\n",
       "      <td>46.35</td>\n",
       "      <td>5</td>\n",
       "      <td>0.0</td>\n",
       "      <td>21.7845</td>\n",
       "      <td>4.3569</td>\n",
       "      <td>0.107875</td>\n",
       "      <td>9.27</td>\n",
       "      <td>0.47</td>\n",
       "      <td>108.9225</td>\n",
       "      <td>-75.4345</td>\n",
       "    </tr>\n",
       "    <tr>\n",
       "      <th>9957</th>\n",
       "      <td>9958</td>\n",
       "      <td>US-2014-143287</td>\n",
       "      <td>2014-11-11</td>\n",
       "      <td>2014-11-17</td>\n",
       "      <td>Standard Class</td>\n",
       "      <td>KN-16705</td>\n",
       "      <td>Kristina Nunn</td>\n",
       "      <td>Home Office</td>\n",
       "      <td>United States</td>\n",
       "      <td>New Rochelle</td>\n",
       "      <td>...</td>\n",
       "      <td>223.92</td>\n",
       "      <td>4</td>\n",
       "      <td>0.0</td>\n",
       "      <td>109.7208</td>\n",
       "      <td>27.4302</td>\n",
       "      <td>0.017864</td>\n",
       "      <td>55.98</td>\n",
       "      <td>0.49</td>\n",
       "      <td>438.8832</td>\n",
       "      <td>14.1992</td>\n",
       "    </tr>\n",
       "    <tr>\n",
       "      <th>9958</th>\n",
       "      <td>9959</td>\n",
       "      <td>US-2014-143287</td>\n",
       "      <td>2014-11-11</td>\n",
       "      <td>2014-11-17</td>\n",
       "      <td>Standard Class</td>\n",
       "      <td>KN-16705</td>\n",
       "      <td>Kristina Nunn</td>\n",
       "      <td>Home Office</td>\n",
       "      <td>United States</td>\n",
       "      <td>New Rochelle</td>\n",
       "      <td>...</td>\n",
       "      <td>7.30</td>\n",
       "      <td>2</td>\n",
       "      <td>0.0</td>\n",
       "      <td>2.1900</td>\n",
       "      <td>1.0950</td>\n",
       "      <td>0.273973</td>\n",
       "      <td>3.65</td>\n",
       "      <td>0.30</td>\n",
       "      <td>4.3800</td>\n",
       "      <td>-94.8900</td>\n",
       "    </tr>\n",
       "  </tbody>\n",
       "</table>\n",
       "<p>1128 rows × 27 columns</p>\n",
       "</div>"
      ],
      "text/plain": [
       "      Row ID        Order ID Order Date  Ship Date       Ship Mode  \\\n",
       "9       9985  CA-2015-100251 2015-05-17 2015-05-23  Standard Class   \n",
       "10      9986  CA-2015-100251 2015-05-17 2015-05-23  Standard Class   \n",
       "53        54  CA-2016-105816 2016-12-11 2016-12-17  Standard Class   \n",
       "54        55  CA-2016-105816 2016-12-11 2016-12-17  Standard Class   \n",
       "55        56  CA-2016-111682 2016-06-17 2016-06-18     First Class   \n",
       "...      ...             ...        ...        ...             ...   \n",
       "9939    9940  CA-2016-169824 2016-12-12 2016-12-17  Standard Class   \n",
       "9940    9941  CA-2016-169824 2016-12-12 2016-12-17  Standard Class   \n",
       "9956    9957  US-2014-143287 2014-11-11 2014-11-17  Standard Class   \n",
       "9957    9958  US-2014-143287 2014-11-11 2014-11-17  Standard Class   \n",
       "9958    9959  US-2014-143287 2014-11-11 2014-11-17  Standard Class   \n",
       "\n",
       "     Customer ID     Customer Name      Segment        Country           City  \\\n",
       "9       DV-13465  Dianna Vittorini     Consumer  United States     Long Beach   \n",
       "10      DV-13465  Dianna Vittorini     Consumer  United States     Long Beach   \n",
       "53      JM-15265    Janet Molinari    Corporate  United States  New York City   \n",
       "54      JM-15265    Janet Molinari    Corporate  United States  New York City   \n",
       "55      TB-21055   Ted Butterfield     Consumer  United States           Troy   \n",
       "...          ...               ...          ...            ...            ...   \n",
       "9939    NS-18640      Noel Staavos    Corporate  United States  New York City   \n",
       "9940    NS-18640      Noel Staavos    Corporate  United States  New York City   \n",
       "9956    KN-16705     Kristina Nunn  Home Office  United States   New Rochelle   \n",
       "9957    KN-16705     Kristina Nunn  Home Office  United States   New Rochelle   \n",
       "9958    KN-16705     Kristina Nunn  Home Office  United States   New Rochelle   \n",
       "\n",
       "      ...    Sales  Quantity Discount    Profit Profit_per_quantity  \\\n",
       "9     ...    31.50        10      0.0   15.1200              1.5120   \n",
       "10    ...    55.60         4      0.0   16.1240              4.0310   \n",
       "53    ...    15.26         7      0.0    6.2566              0.8938   \n",
       "54    ...  1029.95         5      0.0  298.6855             59.7371   \n",
       "55    ...   208.56         6      0.0   52.1400              8.6900   \n",
       "...   ...      ...       ...      ...       ...                 ...   \n",
       "9939  ...    35.52         4      0.0    9.9456              2.4864   \n",
       "9940  ...    11.20         7      0.0    4.8160              0.6880   \n",
       "9956  ...    46.35         5      0.0   21.7845              4.3569   \n",
       "9957  ...   223.92         4      0.0  109.7208             27.4302   \n",
       "9958  ...     7.30         2      0.0    2.1900              1.0950   \n",
       "\n",
       "     Quantity_per_Sales Price_per_Product  Profit_by_Sales  Calculated Profit  \\\n",
       "9              0.317460              3.15             0.48           151.2000   \n",
       "10             0.071942             13.90             0.29            64.4960   \n",
       "53             0.458716              2.18             0.41            43.7962   \n",
       "54             0.004855            205.99             0.29          1493.4275   \n",
       "55             0.028769             34.76             0.25           312.8400   \n",
       "...                 ...               ...              ...                ...   \n",
       "9939           0.112613              8.88             0.28            39.7824   \n",
       "9940           0.625000              1.60             0.43            33.7120   \n",
       "9956           0.107875              9.27             0.47           108.9225   \n",
       "9957           0.017864             55.98             0.49           438.8832   \n",
       "9958           0.273973              3.65             0.30             4.3800   \n",
       "\n",
       "      Cost_of_Product  \n",
       "9            -83.6200  \n",
       "10           -60.5240  \n",
       "53           -90.9966  \n",
       "54           631.2645  \n",
       "55            56.4200  \n",
       "...               ...  \n",
       "9939         -74.4256  \n",
       "9940         -93.6160  \n",
       "9956         -75.4345  \n",
       "9957          14.1992  \n",
       "9958         -94.8900  \n",
       "\n",
       "[1128 rows x 27 columns]"
      ]
     },
     "execution_count": 68,
     "metadata": {},
     "output_type": "execute_result"
    }
   ],
   "source": [
    "walmart_df.loc[walmart_df[\"State\"] == \"New York\"]"
   ]
  },
  {
   "cell_type": "code",
   "execution_count": 69,
   "metadata": {},
   "outputs": [
    {
     "data": {
      "text/html": [
       "<div>\n",
       "<style scoped>\n",
       "    .dataframe tbody tr th:only-of-type {\n",
       "        vertical-align: middle;\n",
       "    }\n",
       "\n",
       "    .dataframe tbody tr th {\n",
       "        vertical-align: top;\n",
       "    }\n",
       "\n",
       "    .dataframe thead th {\n",
       "        text-align: right;\n",
       "    }\n",
       "</style>\n",
       "<table border=\"1\" class=\"dataframe\">\n",
       "  <thead>\n",
       "    <tr style=\"text-align: right;\">\n",
       "      <th></th>\n",
       "      <th>Row ID</th>\n",
       "      <th>Order ID</th>\n",
       "      <th>Order Date</th>\n",
       "      <th>Ship Date</th>\n",
       "      <th>Ship Mode</th>\n",
       "      <th>Customer ID</th>\n",
       "      <th>Customer Name</th>\n",
       "      <th>Segment</th>\n",
       "      <th>Country</th>\n",
       "      <th>City</th>\n",
       "      <th>...</th>\n",
       "      <th>Sales</th>\n",
       "      <th>Quantity</th>\n",
       "      <th>Discount</th>\n",
       "      <th>Profit</th>\n",
       "      <th>Profit_per_quantity</th>\n",
       "      <th>Quantity_per_Sales</th>\n",
       "      <th>Price_per_Product</th>\n",
       "      <th>Profit_by_Sales</th>\n",
       "      <th>Calculated Profit</th>\n",
       "      <th>Cost_of_Product</th>\n",
       "    </tr>\n",
       "  </thead>\n",
       "  <tbody>\n",
       "    <tr>\n",
       "      <th>5</th>\n",
       "      <td>9981</td>\n",
       "      <td>US-2015-151435</td>\n",
       "      <td>2015-09-06</td>\n",
       "      <td>2015-09-09</td>\n",
       "      <td>Second Class</td>\n",
       "      <td>SW-20455</td>\n",
       "      <td>Shaun Weien</td>\n",
       "      <td>Consumer</td>\n",
       "      <td>United States</td>\n",
       "      <td>Lafayette</td>\n",
       "      <td>...</td>\n",
       "      <td>85.980</td>\n",
       "      <td>1</td>\n",
       "      <td>0.0</td>\n",
       "      <td>22.3548</td>\n",
       "      <td>22.3548</td>\n",
       "      <td>0.011631</td>\n",
       "      <td>85.980</td>\n",
       "      <td>0.260</td>\n",
       "      <td>22.3548</td>\n",
       "      <td>-36.3748</td>\n",
       "    </tr>\n",
       "    <tr>\n",
       "      <th>6</th>\n",
       "      <td>9982</td>\n",
       "      <td>CA-2017-163566</td>\n",
       "      <td>2017-08-03</td>\n",
       "      <td>2017-08-06</td>\n",
       "      <td>First Class</td>\n",
       "      <td>TB-21055</td>\n",
       "      <td>Ted Butterfield</td>\n",
       "      <td>Consumer</td>\n",
       "      <td>United States</td>\n",
       "      <td>Fairfield</td>\n",
       "      <td>...</td>\n",
       "      <td>16.520</td>\n",
       "      <td>5</td>\n",
       "      <td>0.2</td>\n",
       "      <td>5.3690</td>\n",
       "      <td>1.0738</td>\n",
       "      <td>0.302663</td>\n",
       "      <td>3.304</td>\n",
       "      <td>0.325</td>\n",
       "      <td>26.8450</td>\n",
       "      <td>-88.8490</td>\n",
       "    </tr>\n",
       "    <tr>\n",
       "      <th>7</th>\n",
       "      <td>9983</td>\n",
       "      <td>US-2016-157728</td>\n",
       "      <td>2016-09-22</td>\n",
       "      <td>2016-09-28</td>\n",
       "      <td>Standard Class</td>\n",
       "      <td>RC-19960</td>\n",
       "      <td>Ryan Crowe</td>\n",
       "      <td>Consumer</td>\n",
       "      <td>United States</td>\n",
       "      <td>Grand Rapids</td>\n",
       "      <td>...</td>\n",
       "      <td>35.560</td>\n",
       "      <td>7</td>\n",
       "      <td>0.0</td>\n",
       "      <td>16.7132</td>\n",
       "      <td>2.3876</td>\n",
       "      <td>0.196850</td>\n",
       "      <td>5.080</td>\n",
       "      <td>0.470</td>\n",
       "      <td>116.9924</td>\n",
       "      <td>-81.1532</td>\n",
       "    </tr>\n",
       "    <tr>\n",
       "      <th>8</th>\n",
       "      <td>9984</td>\n",
       "      <td>US-2016-157728</td>\n",
       "      <td>2016-09-22</td>\n",
       "      <td>2016-09-28</td>\n",
       "      <td>Standard Class</td>\n",
       "      <td>RC-19960</td>\n",
       "      <td>Ryan Crowe</td>\n",
       "      <td>Consumer</td>\n",
       "      <td>United States</td>\n",
       "      <td>Grand Rapids</td>\n",
       "      <td>...</td>\n",
       "      <td>97.980</td>\n",
       "      <td>2</td>\n",
       "      <td>0.0</td>\n",
       "      <td>27.4344</td>\n",
       "      <td>13.7172</td>\n",
       "      <td>0.020412</td>\n",
       "      <td>48.990</td>\n",
       "      <td>0.280</td>\n",
       "      <td>54.8688</td>\n",
       "      <td>-29.4544</td>\n",
       "    </tr>\n",
       "    <tr>\n",
       "      <th>9</th>\n",
       "      <td>9985</td>\n",
       "      <td>CA-2015-100251</td>\n",
       "      <td>2015-05-17</td>\n",
       "      <td>2015-05-23</td>\n",
       "      <td>Standard Class</td>\n",
       "      <td>DV-13465</td>\n",
       "      <td>Dianna Vittorini</td>\n",
       "      <td>Consumer</td>\n",
       "      <td>United States</td>\n",
       "      <td>Long Beach</td>\n",
       "      <td>...</td>\n",
       "      <td>31.500</td>\n",
       "      <td>10</td>\n",
       "      <td>0.0</td>\n",
       "      <td>15.1200</td>\n",
       "      <td>1.5120</td>\n",
       "      <td>0.317460</td>\n",
       "      <td>3.150</td>\n",
       "      <td>0.480</td>\n",
       "      <td>151.2000</td>\n",
       "      <td>-83.6200</td>\n",
       "    </tr>\n",
       "    <tr>\n",
       "      <th>...</th>\n",
       "      <td>...</td>\n",
       "      <td>...</td>\n",
       "      <td>...</td>\n",
       "      <td>...</td>\n",
       "      <td>...</td>\n",
       "      <td>...</td>\n",
       "      <td>...</td>\n",
       "      <td>...</td>\n",
       "      <td>...</td>\n",
       "      <td>...</td>\n",
       "      <td>...</td>\n",
       "      <td>...</td>\n",
       "      <td>...</td>\n",
       "      <td>...</td>\n",
       "      <td>...</td>\n",
       "      <td>...</td>\n",
       "      <td>...</td>\n",
       "      <td>...</td>\n",
       "      <td>...</td>\n",
       "      <td>...</td>\n",
       "      <td>...</td>\n",
       "    </tr>\n",
       "    <tr>\n",
       "      <th>9987</th>\n",
       "      <td>9988</td>\n",
       "      <td>CA-2017-114412</td>\n",
       "      <td>2017-04-15</td>\n",
       "      <td>2017-04-20</td>\n",
       "      <td>Standard Class</td>\n",
       "      <td>AA-10480</td>\n",
       "      <td>Andrew Allen</td>\n",
       "      <td>Consumer</td>\n",
       "      <td>United States</td>\n",
       "      <td>Concord</td>\n",
       "      <td>...</td>\n",
       "      <td>15.552</td>\n",
       "      <td>3</td>\n",
       "      <td>0.2</td>\n",
       "      <td>5.4432</td>\n",
       "      <td>1.8144</td>\n",
       "      <td>0.192901</td>\n",
       "      <td>5.184</td>\n",
       "      <td>0.350</td>\n",
       "      <td>16.3296</td>\n",
       "      <td>-89.8912</td>\n",
       "    </tr>\n",
       "    <tr>\n",
       "      <th>9988</th>\n",
       "      <td>9989</td>\n",
       "      <td>CA-2016-161389</td>\n",
       "      <td>2016-12-05</td>\n",
       "      <td>2016-12-10</td>\n",
       "      <td>Standard Class</td>\n",
       "      <td>IM-15070</td>\n",
       "      <td>Irene Maddox</td>\n",
       "      <td>Consumer</td>\n",
       "      <td>United States</td>\n",
       "      <td>Seattle</td>\n",
       "      <td>...</td>\n",
       "      <td>407.976</td>\n",
       "      <td>3</td>\n",
       "      <td>0.2</td>\n",
       "      <td>132.5922</td>\n",
       "      <td>44.1974</td>\n",
       "      <td>0.007353</td>\n",
       "      <td>135.992</td>\n",
       "      <td>0.325</td>\n",
       "      <td>397.7766</td>\n",
       "      <td>175.3838</td>\n",
       "    </tr>\n",
       "    <tr>\n",
       "      <th>9991</th>\n",
       "      <td>9992</td>\n",
       "      <td>CA-2014-105893</td>\n",
       "      <td>2014-11-11</td>\n",
       "      <td>2014-11-18</td>\n",
       "      <td>Standard Class</td>\n",
       "      <td>PK-19075</td>\n",
       "      <td>Pete Kriz</td>\n",
       "      <td>Consumer</td>\n",
       "      <td>United States</td>\n",
       "      <td>Madison</td>\n",
       "      <td>...</td>\n",
       "      <td>665.880</td>\n",
       "      <td>6</td>\n",
       "      <td>0.0</td>\n",
       "      <td>13.3176</td>\n",
       "      <td>2.2196</td>\n",
       "      <td>0.009011</td>\n",
       "      <td>110.980</td>\n",
       "      <td>0.020</td>\n",
       "      <td>79.9056</td>\n",
       "      <td>552.5624</td>\n",
       "    </tr>\n",
       "    <tr>\n",
       "      <th>9992</th>\n",
       "      <td>9993</td>\n",
       "      <td>CA-2014-167164</td>\n",
       "      <td>2014-05-13</td>\n",
       "      <td>2014-05-15</td>\n",
       "      <td>Second Class</td>\n",
       "      <td>AG-10270</td>\n",
       "      <td>Alejandro Grove</td>\n",
       "      <td>Consumer</td>\n",
       "      <td>United States</td>\n",
       "      <td>West Jordan</td>\n",
       "      <td>...</td>\n",
       "      <td>55.500</td>\n",
       "      <td>2</td>\n",
       "      <td>0.0</td>\n",
       "      <td>9.9900</td>\n",
       "      <td>4.9950</td>\n",
       "      <td>0.036036</td>\n",
       "      <td>27.750</td>\n",
       "      <td>0.180</td>\n",
       "      <td>19.9800</td>\n",
       "      <td>-54.4900</td>\n",
       "    </tr>\n",
       "    <tr>\n",
       "      <th>9993</th>\n",
       "      <td>9994</td>\n",
       "      <td>CA-2014-143336</td>\n",
       "      <td>2014-08-27</td>\n",
       "      <td>2014-09-01</td>\n",
       "      <td>Second Class</td>\n",
       "      <td>ZD-21925</td>\n",
       "      <td>Zuschuss Donatelli</td>\n",
       "      <td>Consumer</td>\n",
       "      <td>United States</td>\n",
       "      <td>San Francisco</td>\n",
       "      <td>...</td>\n",
       "      <td>8.560</td>\n",
       "      <td>2</td>\n",
       "      <td>0.0</td>\n",
       "      <td>2.4824</td>\n",
       "      <td>1.2412</td>\n",
       "      <td>0.233645</td>\n",
       "      <td>4.280</td>\n",
       "      <td>0.290</td>\n",
       "      <td>4.9648</td>\n",
       "      <td>-93.9224</td>\n",
       "    </tr>\n",
       "  </tbody>\n",
       "</table>\n",
       "<p>5191 rows × 27 columns</p>\n",
       "</div>"
      ],
      "text/plain": [
       "      Row ID        Order ID Order Date  Ship Date       Ship Mode  \\\n",
       "5       9981  US-2015-151435 2015-09-06 2015-09-09    Second Class   \n",
       "6       9982  CA-2017-163566 2017-08-03 2017-08-06     First Class   \n",
       "7       9983  US-2016-157728 2016-09-22 2016-09-28  Standard Class   \n",
       "8       9984  US-2016-157728 2016-09-22 2016-09-28  Standard Class   \n",
       "9       9985  CA-2015-100251 2015-05-17 2015-05-23  Standard Class   \n",
       "...      ...             ...        ...        ...             ...   \n",
       "9987    9988  CA-2017-114412 2017-04-15 2017-04-20  Standard Class   \n",
       "9988    9989  CA-2016-161389 2016-12-05 2016-12-10  Standard Class   \n",
       "9991    9992  CA-2014-105893 2014-11-11 2014-11-18  Standard Class   \n",
       "9992    9993  CA-2014-167164 2014-05-13 2014-05-15    Second Class   \n",
       "9993    9994  CA-2014-143336 2014-08-27 2014-09-01    Second Class   \n",
       "\n",
       "     Customer ID       Customer Name   Segment        Country           City  \\\n",
       "5       SW-20455         Shaun Weien  Consumer  United States      Lafayette   \n",
       "6       TB-21055     Ted Butterfield  Consumer  United States      Fairfield   \n",
       "7       RC-19960          Ryan Crowe  Consumer  United States   Grand Rapids   \n",
       "8       RC-19960          Ryan Crowe  Consumer  United States   Grand Rapids   \n",
       "9       DV-13465    Dianna Vittorini  Consumer  United States     Long Beach   \n",
       "...          ...                 ...       ...            ...            ...   \n",
       "9987    AA-10480        Andrew Allen  Consumer  United States        Concord   \n",
       "9988    IM-15070        Irene Maddox  Consumer  United States        Seattle   \n",
       "9991    PK-19075           Pete Kriz  Consumer  United States        Madison   \n",
       "9992    AG-10270     Alejandro Grove  Consumer  United States    West Jordan   \n",
       "9993    ZD-21925  Zuschuss Donatelli  Consumer  United States  San Francisco   \n",
       "\n",
       "      ...    Sales  Quantity Discount    Profit Profit_per_quantity  \\\n",
       "5     ...   85.980         1      0.0   22.3548             22.3548   \n",
       "6     ...   16.520         5      0.2    5.3690              1.0738   \n",
       "7     ...   35.560         7      0.0   16.7132              2.3876   \n",
       "8     ...   97.980         2      0.0   27.4344             13.7172   \n",
       "9     ...   31.500        10      0.0   15.1200              1.5120   \n",
       "...   ...      ...       ...      ...       ...                 ...   \n",
       "9987  ...   15.552         3      0.2    5.4432              1.8144   \n",
       "9988  ...  407.976         3      0.2  132.5922             44.1974   \n",
       "9991  ...  665.880         6      0.0   13.3176              2.2196   \n",
       "9992  ...   55.500         2      0.0    9.9900              4.9950   \n",
       "9993  ...    8.560         2      0.0    2.4824              1.2412   \n",
       "\n",
       "     Quantity_per_Sales Price_per_Product  Profit_by_Sales  Calculated Profit  \\\n",
       "5              0.011631            85.980            0.260            22.3548   \n",
       "6              0.302663             3.304            0.325            26.8450   \n",
       "7              0.196850             5.080            0.470           116.9924   \n",
       "8              0.020412            48.990            0.280            54.8688   \n",
       "9              0.317460             3.150            0.480           151.2000   \n",
       "...                 ...               ...              ...                ...   \n",
       "9987           0.192901             5.184            0.350            16.3296   \n",
       "9988           0.007353           135.992            0.325           397.7766   \n",
       "9991           0.009011           110.980            0.020            79.9056   \n",
       "9992           0.036036            27.750            0.180            19.9800   \n",
       "9993           0.233645             4.280            0.290             4.9648   \n",
       "\n",
       "      Cost_of_Product  \n",
       "5            -36.3748  \n",
       "6            -88.8490  \n",
       "7            -81.1532  \n",
       "8            -29.4544  \n",
       "9            -83.6200  \n",
       "...               ...  \n",
       "9987         -89.8912  \n",
       "9988         175.3838  \n",
       "9991         552.5624  \n",
       "9992         -54.4900  \n",
       "9993         -93.9224  \n",
       "\n",
       "[5191 rows x 27 columns]"
      ]
     },
     "execution_count": 69,
     "metadata": {},
     "output_type": "execute_result"
    }
   ],
   "source": [
    "walmart_df.loc[walmart_df[\"Segment\"] == \"Consumer\"]"
   ]
  },
  {
   "cell_type": "code",
   "execution_count": 70,
   "metadata": {},
   "outputs": [
    {
     "name": "stdout",
     "output_type": "stream",
     "text": [
      "<class 'pandas.core.frame.DataFrame'>\n",
      "RangeIndex: 9994 entries, 0 to 9993\n",
      "Data columns (total 27 columns):\n",
      " #   Column               Non-Null Count  Dtype         \n",
      "---  ------               --------------  -----         \n",
      " 0   Row ID               9994 non-null   int64         \n",
      " 1   Order ID             9994 non-null   object        \n",
      " 2   Order Date           9994 non-null   datetime64[ns]\n",
      " 3   Ship Date            9994 non-null   datetime64[ns]\n",
      " 4   Ship Mode            9994 non-null   object        \n",
      " 5   Customer ID          9994 non-null   object        \n",
      " 6   Customer Name        9994 non-null   object        \n",
      " 7   Segment              9994 non-null   object        \n",
      " 8   Country              9994 non-null   object        \n",
      " 9   City                 9994 non-null   object        \n",
      " 10  State                9994 non-null   object        \n",
      " 11  Postal Code          9994 non-null   int64         \n",
      " 12  Region               9994 non-null   object        \n",
      " 13  Product ID           9994 non-null   object        \n",
      " 14  Category             9994 non-null   object        \n",
      " 15  Sub-Category         9994 non-null   object        \n",
      " 16  Product Name         9994 non-null   object        \n",
      " 17  Sales                9994 non-null   float64       \n",
      " 18  Quantity             9994 non-null   int64         \n",
      " 19  Discount             9994 non-null   float64       \n",
      " 20  Profit               9994 non-null   float64       \n",
      " 21  Profit_per_quantity  9994 non-null   float64       \n",
      " 22  Quantity_per_Sales   9994 non-null   float64       \n",
      " 23  Price_per_Product    9994 non-null   float64       \n",
      " 24  Profit_by_Sales      9994 non-null   float64       \n",
      " 25  Calculated Profit    9994 non-null   float64       \n",
      " 26  Cost_of_Product      9994 non-null   float64       \n",
      "dtypes: datetime64[ns](2), float64(9), int64(3), object(13)\n",
      "memory usage: 2.1+ MB\n"
     ]
    }
   ],
   "source": [
    "walmart_df.info()"
   ]
  },
  {
   "cell_type": "markdown",
   "metadata": {},
   "source": [
    "##### We want to look for the locations where Segment and Corporate columns class, and look at the other columns data. And do same to other lines below picking the one column against the other.  And then running them on descriptive analysis data."
   ]
  },
  {
   "cell_type": "code",
   "execution_count": 71,
   "metadata": {},
   "outputs": [
    {
     "data": {
      "text/html": [
       "<div>\n",
       "<style scoped>\n",
       "    .dataframe tbody tr th:only-of-type {\n",
       "        vertical-align: middle;\n",
       "    }\n",
       "\n",
       "    .dataframe tbody tr th {\n",
       "        vertical-align: top;\n",
       "    }\n",
       "\n",
       "    .dataframe thead th {\n",
       "        text-align: right;\n",
       "    }\n",
       "</style>\n",
       "<table border=\"1\" class=\"dataframe\">\n",
       "  <thead>\n",
       "    <tr style=\"text-align: right;\">\n",
       "      <th></th>\n",
       "      <th>Row ID</th>\n",
       "      <th>Order ID</th>\n",
       "      <th>Order Date</th>\n",
       "      <th>Ship Date</th>\n",
       "      <th>Ship Mode</th>\n",
       "      <th>Customer ID</th>\n",
       "      <th>Customer Name</th>\n",
       "      <th>Segment</th>\n",
       "      <th>Country</th>\n",
       "      <th>City</th>\n",
       "      <th>...</th>\n",
       "      <th>Sales</th>\n",
       "      <th>Quantity</th>\n",
       "      <th>Discount</th>\n",
       "      <th>Profit</th>\n",
       "      <th>Profit_per_quantity</th>\n",
       "      <th>Quantity_per_Sales</th>\n",
       "      <th>Price_per_Product</th>\n",
       "      <th>Profit_by_Sales</th>\n",
       "      <th>Calculated Profit</th>\n",
       "      <th>Cost_of_Product</th>\n",
       "    </tr>\n",
       "  </thead>\n",
       "  <tbody>\n",
       "    <tr>\n",
       "      <th>12</th>\n",
       "      <td>9988</td>\n",
       "      <td>CA-2017-163629</td>\n",
       "      <td>2017-11-17</td>\n",
       "      <td>2017-11-21</td>\n",
       "      <td>Standard Class</td>\n",
       "      <td>RA-19885</td>\n",
       "      <td>Ruben Ausman</td>\n",
       "      <td>Corporate</td>\n",
       "      <td>United States</td>\n",
       "      <td>Athens</td>\n",
       "      <td>...</td>\n",
       "      <td>79.990</td>\n",
       "      <td>1</td>\n",
       "      <td>0.0</td>\n",
       "      <td>28.7964</td>\n",
       "      <td>28.7964</td>\n",
       "      <td>0.012502</td>\n",
       "      <td>79.990</td>\n",
       "      <td>0.3600</td>\n",
       "      <td>28.7964</td>\n",
       "      <td>-48.8064</td>\n",
       "    </tr>\n",
       "    <tr>\n",
       "      <th>13</th>\n",
       "      <td>9989</td>\n",
       "      <td>CA-2017-163629</td>\n",
       "      <td>2017-11-17</td>\n",
       "      <td>2017-11-21</td>\n",
       "      <td>Standard Class</td>\n",
       "      <td>RA-19885</td>\n",
       "      <td>Ruben Ausman</td>\n",
       "      <td>Corporate</td>\n",
       "      <td>United States</td>\n",
       "      <td>Athens</td>\n",
       "      <td>...</td>\n",
       "      <td>206.100</td>\n",
       "      <td>5</td>\n",
       "      <td>0.0</td>\n",
       "      <td>55.6470</td>\n",
       "      <td>11.1294</td>\n",
       "      <td>0.024260</td>\n",
       "      <td>41.220</td>\n",
       "      <td>0.2700</td>\n",
       "      <td>278.2350</td>\n",
       "      <td>50.4530</td>\n",
       "    </tr>\n",
       "    <tr>\n",
       "      <th>21</th>\n",
       "      <td>22</td>\n",
       "      <td>CA-2016-137330</td>\n",
       "      <td>2016-12-09</td>\n",
       "      <td>2016-12-13</td>\n",
       "      <td>Standard Class</td>\n",
       "      <td>KB-16585</td>\n",
       "      <td>Ken Black</td>\n",
       "      <td>Corporate</td>\n",
       "      <td>United States</td>\n",
       "      <td>Fremont</td>\n",
       "      <td>...</td>\n",
       "      <td>19.460</td>\n",
       "      <td>7</td>\n",
       "      <td>0.0</td>\n",
       "      <td>5.0596</td>\n",
       "      <td>0.7228</td>\n",
       "      <td>0.359712</td>\n",
       "      <td>2.780</td>\n",
       "      <td>0.2600</td>\n",
       "      <td>35.4172</td>\n",
       "      <td>-85.5996</td>\n",
       "    </tr>\n",
       "    <tr>\n",
       "      <th>22</th>\n",
       "      <td>23</td>\n",
       "      <td>CA-2016-137330</td>\n",
       "      <td>2016-12-09</td>\n",
       "      <td>2016-12-13</td>\n",
       "      <td>Standard Class</td>\n",
       "      <td>KB-16585</td>\n",
       "      <td>Ken Black</td>\n",
       "      <td>Corporate</td>\n",
       "      <td>United States</td>\n",
       "      <td>Fremont</td>\n",
       "      <td>...</td>\n",
       "      <td>60.340</td>\n",
       "      <td>7</td>\n",
       "      <td>0.0</td>\n",
       "      <td>15.6884</td>\n",
       "      <td>2.2412</td>\n",
       "      <td>0.116009</td>\n",
       "      <td>8.620</td>\n",
       "      <td>0.2600</td>\n",
       "      <td>109.8188</td>\n",
       "      <td>-55.3484</td>\n",
       "    </tr>\n",
       "    <tr>\n",
       "      <th>35</th>\n",
       "      <td>36</td>\n",
       "      <td>CA-2016-117590</td>\n",
       "      <td>2016-12-08</td>\n",
       "      <td>2016-12-10</td>\n",
       "      <td>First Class</td>\n",
       "      <td>GH-14485</td>\n",
       "      <td>Gene Hale</td>\n",
       "      <td>Corporate</td>\n",
       "      <td>United States</td>\n",
       "      <td>Richardson</td>\n",
       "      <td>...</td>\n",
       "      <td>1097.544</td>\n",
       "      <td>7</td>\n",
       "      <td>0.2</td>\n",
       "      <td>123.4737</td>\n",
       "      <td>17.6391</td>\n",
       "      <td>0.006378</td>\n",
       "      <td>156.792</td>\n",
       "      <td>0.1125</td>\n",
       "      <td>864.3159</td>\n",
       "      <td>874.0703</td>\n",
       "    </tr>\n",
       "    <tr>\n",
       "      <th>...</th>\n",
       "      <td>...</td>\n",
       "      <td>...</td>\n",
       "      <td>...</td>\n",
       "      <td>...</td>\n",
       "      <td>...</td>\n",
       "      <td>...</td>\n",
       "      <td>...</td>\n",
       "      <td>...</td>\n",
       "      <td>...</td>\n",
       "      <td>...</td>\n",
       "      <td>...</td>\n",
       "      <td>...</td>\n",
       "      <td>...</td>\n",
       "      <td>...</td>\n",
       "      <td>...</td>\n",
       "      <td>...</td>\n",
       "      <td>...</td>\n",
       "      <td>...</td>\n",
       "      <td>...</td>\n",
       "      <td>...</td>\n",
       "      <td>...</td>\n",
       "    </tr>\n",
       "    <tr>\n",
       "      <th>9955</th>\n",
       "      <td>9956</td>\n",
       "      <td>CA-2015-141593</td>\n",
       "      <td>2015-12-14</td>\n",
       "      <td>2015-12-16</td>\n",
       "      <td>Second Class</td>\n",
       "      <td>DB-12970</td>\n",
       "      <td>Darren Budd</td>\n",
       "      <td>Corporate</td>\n",
       "      <td>United States</td>\n",
       "      <td>Los Angeles</td>\n",
       "      <td>...</td>\n",
       "      <td>273.568</td>\n",
       "      <td>2</td>\n",
       "      <td>0.2</td>\n",
       "      <td>10.2588</td>\n",
       "      <td>5.1294</td>\n",
       "      <td>0.007311</td>\n",
       "      <td>136.784</td>\n",
       "      <td>0.0375</td>\n",
       "      <td>20.5176</td>\n",
       "      <td>163.3092</td>\n",
       "    </tr>\n",
       "    <tr>\n",
       "      <th>9964</th>\n",
       "      <td>9965</td>\n",
       "      <td>CA-2016-146374</td>\n",
       "      <td>2016-12-05</td>\n",
       "      <td>2016-12-10</td>\n",
       "      <td>Second Class</td>\n",
       "      <td>HE-14800</td>\n",
       "      <td>Harold Engle</td>\n",
       "      <td>Corporate</td>\n",
       "      <td>United States</td>\n",
       "      <td>Newark</td>\n",
       "      <td>...</td>\n",
       "      <td>13.400</td>\n",
       "      <td>1</td>\n",
       "      <td>0.0</td>\n",
       "      <td>6.4320</td>\n",
       "      <td>6.4320</td>\n",
       "      <td>0.074627</td>\n",
       "      <td>13.400</td>\n",
       "      <td>0.4800</td>\n",
       "      <td>6.4320</td>\n",
       "      <td>-93.0320</td>\n",
       "    </tr>\n",
       "    <tr>\n",
       "      <th>9965</th>\n",
       "      <td>9966</td>\n",
       "      <td>CA-2016-146374</td>\n",
       "      <td>2016-12-05</td>\n",
       "      <td>2016-12-10</td>\n",
       "      <td>Second Class</td>\n",
       "      <td>HE-14800</td>\n",
       "      <td>Harold Engle</td>\n",
       "      <td>Corporate</td>\n",
       "      <td>United States</td>\n",
       "      <td>Newark</td>\n",
       "      <td>...</td>\n",
       "      <td>4.980</td>\n",
       "      <td>1</td>\n",
       "      <td>0.0</td>\n",
       "      <td>2.3406</td>\n",
       "      <td>2.3406</td>\n",
       "      <td>0.200803</td>\n",
       "      <td>4.980</td>\n",
       "      <td>0.4700</td>\n",
       "      <td>2.3406</td>\n",
       "      <td>-97.3606</td>\n",
       "    </tr>\n",
       "    <tr>\n",
       "      <th>9966</th>\n",
       "      <td>9967</td>\n",
       "      <td>CA-2016-146374</td>\n",
       "      <td>2016-12-05</td>\n",
       "      <td>2016-12-10</td>\n",
       "      <td>Second Class</td>\n",
       "      <td>HE-14800</td>\n",
       "      <td>Harold Engle</td>\n",
       "      <td>Corporate</td>\n",
       "      <td>United States</td>\n",
       "      <td>Newark</td>\n",
       "      <td>...</td>\n",
       "      <td>109.690</td>\n",
       "      <td>7</td>\n",
       "      <td>0.0</td>\n",
       "      <td>51.5543</td>\n",
       "      <td>7.3649</td>\n",
       "      <td>0.063816</td>\n",
       "      <td>15.670</td>\n",
       "      <td>0.4700</td>\n",
       "      <td>360.8801</td>\n",
       "      <td>-41.8643</td>\n",
       "    </tr>\n",
       "    <tr>\n",
       "      <th>9977</th>\n",
       "      <td>9978</td>\n",
       "      <td>CA-2016-138688</td>\n",
       "      <td>2016-06-12</td>\n",
       "      <td>2016-06-16</td>\n",
       "      <td>Second Class</td>\n",
       "      <td>DV-13045</td>\n",
       "      <td>Darrin Van Huff</td>\n",
       "      <td>Corporate</td>\n",
       "      <td>United States</td>\n",
       "      <td>Los Angeles</td>\n",
       "      <td>...</td>\n",
       "      <td>14.620</td>\n",
       "      <td>2</td>\n",
       "      <td>0.0</td>\n",
       "      <td>6.8714</td>\n",
       "      <td>3.4357</td>\n",
       "      <td>0.136799</td>\n",
       "      <td>7.310</td>\n",
       "      <td>0.4700</td>\n",
       "      <td>13.7428</td>\n",
       "      <td>-92.2514</td>\n",
       "    </tr>\n",
       "  </tbody>\n",
       "</table>\n",
       "<p>3020 rows × 27 columns</p>\n",
       "</div>"
      ],
      "text/plain": [
       "      Row ID        Order ID Order Date  Ship Date       Ship Mode  \\\n",
       "12      9988  CA-2017-163629 2017-11-17 2017-11-21  Standard Class   \n",
       "13      9989  CA-2017-163629 2017-11-17 2017-11-21  Standard Class   \n",
       "21        22  CA-2016-137330 2016-12-09 2016-12-13  Standard Class   \n",
       "22        23  CA-2016-137330 2016-12-09 2016-12-13  Standard Class   \n",
       "35        36  CA-2016-117590 2016-12-08 2016-12-10     First Class   \n",
       "...      ...             ...        ...        ...             ...   \n",
       "9955    9956  CA-2015-141593 2015-12-14 2015-12-16    Second Class   \n",
       "9964    9965  CA-2016-146374 2016-12-05 2016-12-10    Second Class   \n",
       "9965    9966  CA-2016-146374 2016-12-05 2016-12-10    Second Class   \n",
       "9966    9967  CA-2016-146374 2016-12-05 2016-12-10    Second Class   \n",
       "9977    9978  CA-2016-138688 2016-06-12 2016-06-16    Second Class   \n",
       "\n",
       "     Customer ID    Customer Name    Segment        Country         City  ...  \\\n",
       "12      RA-19885     Ruben Ausman  Corporate  United States       Athens  ...   \n",
       "13      RA-19885     Ruben Ausman  Corporate  United States       Athens  ...   \n",
       "21      KB-16585        Ken Black  Corporate  United States      Fremont  ...   \n",
       "22      KB-16585        Ken Black  Corporate  United States      Fremont  ...   \n",
       "35      GH-14485        Gene Hale  Corporate  United States   Richardson  ...   \n",
       "...          ...              ...        ...            ...          ...  ...   \n",
       "9955    DB-12970      Darren Budd  Corporate  United States  Los Angeles  ...   \n",
       "9964    HE-14800     Harold Engle  Corporate  United States       Newark  ...   \n",
       "9965    HE-14800     Harold Engle  Corporate  United States       Newark  ...   \n",
       "9966    HE-14800     Harold Engle  Corporate  United States       Newark  ...   \n",
       "9977    DV-13045  Darrin Van Huff  Corporate  United States  Los Angeles  ...   \n",
       "\n",
       "         Sales  Quantity Discount    Profit Profit_per_quantity  \\\n",
       "12      79.990         1      0.0   28.7964             28.7964   \n",
       "13     206.100         5      0.0   55.6470             11.1294   \n",
       "21      19.460         7      0.0    5.0596              0.7228   \n",
       "22      60.340         7      0.0   15.6884              2.2412   \n",
       "35    1097.544         7      0.2  123.4737             17.6391   \n",
       "...        ...       ...      ...       ...                 ...   \n",
       "9955   273.568         2      0.2   10.2588              5.1294   \n",
       "9964    13.400         1      0.0    6.4320              6.4320   \n",
       "9965     4.980         1      0.0    2.3406              2.3406   \n",
       "9966   109.690         7      0.0   51.5543              7.3649   \n",
       "9977    14.620         2      0.0    6.8714              3.4357   \n",
       "\n",
       "     Quantity_per_Sales Price_per_Product  Profit_by_Sales  Calculated Profit  \\\n",
       "12             0.012502            79.990           0.3600            28.7964   \n",
       "13             0.024260            41.220           0.2700           278.2350   \n",
       "21             0.359712             2.780           0.2600            35.4172   \n",
       "22             0.116009             8.620           0.2600           109.8188   \n",
       "35             0.006378           156.792           0.1125           864.3159   \n",
       "...                 ...               ...              ...                ...   \n",
       "9955           0.007311           136.784           0.0375            20.5176   \n",
       "9964           0.074627            13.400           0.4800             6.4320   \n",
       "9965           0.200803             4.980           0.4700             2.3406   \n",
       "9966           0.063816            15.670           0.4700           360.8801   \n",
       "9977           0.136799             7.310           0.4700            13.7428   \n",
       "\n",
       "      Cost_of_Product  \n",
       "12           -48.8064  \n",
       "13            50.4530  \n",
       "21           -85.5996  \n",
       "22           -55.3484  \n",
       "35           874.0703  \n",
       "...               ...  \n",
       "9955         163.3092  \n",
       "9964         -93.0320  \n",
       "9965         -97.3606  \n",
       "9966         -41.8643  \n",
       "9977         -92.2514  \n",
       "\n",
       "[3020 rows x 27 columns]"
      ]
     },
     "execution_count": 71,
     "metadata": {},
     "output_type": "execute_result"
    }
   ],
   "source": [
    "walmart_df.loc[walmart_df[\"Segment\"] == \"Corporate\"]"
   ]
  },
  {
   "cell_type": "code",
   "execution_count": 72,
   "metadata": {},
   "outputs": [
    {
     "data": {
      "text/plain": [
       "27.494770023458393"
      ]
     },
     "execution_count": 72,
     "metadata": {},
     "output_type": "execute_result"
    }
   ],
   "source": [
    "walmart_df.loc[walmart_df[\"Ship Mode\"] == \"Standard Class\", \"Profit\"].mean()"
   ]
  },
  {
   "cell_type": "code",
   "execution_count": 73,
   "metadata": {},
   "outputs": [
    {
     "data": {
      "text/plain": [
       "31.839947919375827"
      ]
     },
     "execution_count": 73,
     "metadata": {},
     "output_type": "execute_result"
    }
   ],
   "source": [
    "walmart_df.loc[walmart_df[\"Ship Mode\"] == \"First Class\", \"Profit\"].mean()"
   ]
  },
  {
   "cell_type": "code",
   "execution_count": 74,
   "metadata": {},
   "outputs": [
    {
     "data": {
      "text/plain": [
       "164088.78749999995"
      ]
     },
     "execution_count": 74,
     "metadata": {},
     "output_type": "execute_result"
    }
   ],
   "source": [
    "walmart_df.loc[walmart_df[\"Ship Mode\"] == \"Standard Class\", \"Profit\"].sum()"
   ]
  },
  {
   "cell_type": "code",
   "execution_count": 75,
   "metadata": {},
   "outputs": [
    {
     "data": {
      "text/plain": [
       "48969.83989999999"
      ]
     },
     "execution_count": 75,
     "metadata": {},
     "output_type": "execute_result"
    }
   ],
   "source": [
    "walmart_df.loc[walmart_df[\"Ship Mode\"] == \"First Class\", \"Profit\"].sum()"
   ]
  },
  {
   "cell_type": "code",
   "execution_count": 76,
   "metadata": {},
   "outputs": [
    {
     "data": {
      "text/plain": [
       "29.535545192802036"
      ]
     },
     "execution_count": 76,
     "metadata": {},
     "output_type": "execute_result"
    }
   ],
   "source": [
    "walmart_df.loc[walmart_df[\"Ship Mode\"] == \"Second Class\", \"Profit\"].mean()"
   ]
  },
  {
   "cell_type": "code",
   "execution_count": 77,
   "metadata": {},
   "outputs": [
    {
     "data": {
      "text/plain": [
       "57446.635399999985"
      ]
     },
     "execution_count": 77,
     "metadata": {},
     "output_type": "execute_result"
    }
   ],
   "source": [
    "walmart_df.loc[walmart_df[\"Ship Mode\"] == \"Second Class\", \"Profit\"].sum()"
   ]
  },
  {
   "cell_type": "code",
   "execution_count": 78,
   "metadata": {},
   "outputs": [
    {
     "data": {
      "text/plain": [
       "8399.975999999999"
      ]
     },
     "execution_count": 78,
     "metadata": {},
     "output_type": "execute_result"
    }
   ],
   "source": [
    "walmart_df[\"Profit\"].max()"
   ]
  },
  {
   "cell_type": "code",
   "execution_count": 79,
   "metadata": {},
   "outputs": [
    {
     "data": {
      "text/plain": [
       "-6599.978000000001"
      ]
     },
     "execution_count": 79,
     "metadata": {},
     "output_type": "execute_result"
    }
   ],
   "source": [
    "walmart_df[\"Profit\"].min()"
   ]
  },
  {
   "cell_type": "code",
   "execution_count": 80,
   "metadata": {},
   "outputs": [
    {
     "data": {
      "text/plain": [
       "28.6568963077848"
      ]
     },
     "execution_count": 80,
     "metadata": {},
     "output_type": "execute_result"
    }
   ],
   "source": [
    "walmart_df[\"Profit\"].mean()"
   ]
  },
  {
   "cell_type": "code",
   "execution_count": 81,
   "metadata": {},
   "outputs": [
    {
     "data": {
      "text/plain": [
       " 0.0000     65\n",
       " 6.2208     43\n",
       " 9.3312     38\n",
       " 5.4432     32\n",
       " 3.6288     32\n",
       "            ..\n",
       " 4.0644      1\n",
       "-68.1302     1\n",
       "-8.5008      1\n",
       "-12.7512     1\n",
       " 9.9900      1\n",
       "Name: Profit, Length: 7545, dtype: int64"
      ]
     },
     "execution_count": 81,
     "metadata": {},
     "output_type": "execute_result"
    }
   ],
   "source": [
    "walmart_df[\"Profit\"].value_counts()"
   ]
  },
  {
   "cell_type": "code",
   "execution_count": 82,
   "metadata": {},
   "outputs": [
    {
     "data": {
      "text/html": [
       "<div>\n",
       "<style scoped>\n",
       "    .dataframe tbody tr th:only-of-type {\n",
       "        vertical-align: middle;\n",
       "    }\n",
       "\n",
       "    .dataframe tbody tr th {\n",
       "        vertical-align: top;\n",
       "    }\n",
       "\n",
       "    .dataframe thead th {\n",
       "        text-align: right;\n",
       "    }\n",
       "</style>\n",
       "<table border=\"1\" class=\"dataframe\">\n",
       "  <thead>\n",
       "    <tr style=\"text-align: right;\">\n",
       "      <th></th>\n",
       "      <th>Row ID</th>\n",
       "      <th>Order ID</th>\n",
       "      <th>Order Date</th>\n",
       "      <th>Ship Date</th>\n",
       "      <th>Ship Mode</th>\n",
       "      <th>Customer ID</th>\n",
       "      <th>Customer Name</th>\n",
       "      <th>Segment</th>\n",
       "      <th>Country</th>\n",
       "      <th>City</th>\n",
       "      <th>...</th>\n",
       "      <th>Sales</th>\n",
       "      <th>Quantity</th>\n",
       "      <th>Discount</th>\n",
       "      <th>Profit</th>\n",
       "      <th>Profit_per_quantity</th>\n",
       "      <th>Quantity_per_Sales</th>\n",
       "      <th>Price_per_Product</th>\n",
       "      <th>Profit_by_Sales</th>\n",
       "      <th>Calculated Profit</th>\n",
       "      <th>Cost_of_Product</th>\n",
       "    </tr>\n",
       "  </thead>\n",
       "  <tbody>\n",
       "    <tr>\n",
       "      <th>0</th>\n",
       "      <td>9976</td>\n",
       "      <td>US-2016-103674</td>\n",
       "      <td>2016-12-06</td>\n",
       "      <td>2016-12-10</td>\n",
       "      <td>Standard Class</td>\n",
       "      <td>AP-10720</td>\n",
       "      <td>Anne Pryor</td>\n",
       "      <td>Home Office</td>\n",
       "      <td>United States</td>\n",
       "      <td>Los Angeles</td>\n",
       "      <td>...</td>\n",
       "      <td>13.360</td>\n",
       "      <td>2</td>\n",
       "      <td>0.0</td>\n",
       "      <td>6.4128</td>\n",
       "      <td>3.2064</td>\n",
       "      <td>0.149701</td>\n",
       "      <td>6.680</td>\n",
       "      <td>0.480</td>\n",
       "      <td>12.8256</td>\n",
       "      <td>-93.0528</td>\n",
       "    </tr>\n",
       "    <tr>\n",
       "      <th>1</th>\n",
       "      <td>9977</td>\n",
       "      <td>US-2016-103674</td>\n",
       "      <td>2016-12-06</td>\n",
       "      <td>2016-12-10</td>\n",
       "      <td>Standard Class</td>\n",
       "      <td>AP-10720</td>\n",
       "      <td>Anne Pryor</td>\n",
       "      <td>Home Office</td>\n",
       "      <td>United States</td>\n",
       "      <td>Los Angeles</td>\n",
       "      <td>...</td>\n",
       "      <td>249.584</td>\n",
       "      <td>2</td>\n",
       "      <td>0.2</td>\n",
       "      <td>31.1980</td>\n",
       "      <td>15.5990</td>\n",
       "      <td>0.008013</td>\n",
       "      <td>124.792</td>\n",
       "      <td>0.125</td>\n",
       "      <td>62.3960</td>\n",
       "      <td>118.3860</td>\n",
       "    </tr>\n",
       "    <tr>\n",
       "      <th>3</th>\n",
       "      <td>9979</td>\n",
       "      <td>US-2016-103674</td>\n",
       "      <td>2016-12-06</td>\n",
       "      <td>2016-12-10</td>\n",
       "      <td>Standard Class</td>\n",
       "      <td>AP-10720</td>\n",
       "      <td>Anne Pryor</td>\n",
       "      <td>Home Office</td>\n",
       "      <td>United States</td>\n",
       "      <td>Los Angeles</td>\n",
       "      <td>...</td>\n",
       "      <td>13.376</td>\n",
       "      <td>4</td>\n",
       "      <td>0.2</td>\n",
       "      <td>4.6816</td>\n",
       "      <td>1.1704</td>\n",
       "      <td>0.299043</td>\n",
       "      <td>3.344</td>\n",
       "      <td>0.350</td>\n",
       "      <td>18.7264</td>\n",
       "      <td>-91.3056</td>\n",
       "    </tr>\n",
       "    <tr>\n",
       "      <th>4</th>\n",
       "      <td>9980</td>\n",
       "      <td>US-2016-103674</td>\n",
       "      <td>2016-12-06</td>\n",
       "      <td>2016-12-10</td>\n",
       "      <td>Standard Class</td>\n",
       "      <td>AP-10720</td>\n",
       "      <td>Anne Pryor</td>\n",
       "      <td>Home Office</td>\n",
       "      <td>United States</td>\n",
       "      <td>Los Angeles</td>\n",
       "      <td>...</td>\n",
       "      <td>437.472</td>\n",
       "      <td>14</td>\n",
       "      <td>0.2</td>\n",
       "      <td>153.1152</td>\n",
       "      <td>10.9368</td>\n",
       "      <td>0.032002</td>\n",
       "      <td>31.248</td>\n",
       "      <td>0.350</td>\n",
       "      <td>2143.6128</td>\n",
       "      <td>184.3568</td>\n",
       "    </tr>\n",
       "    <tr>\n",
       "      <th>5</th>\n",
       "      <td>9981</td>\n",
       "      <td>US-2015-151435</td>\n",
       "      <td>2015-09-06</td>\n",
       "      <td>2015-09-09</td>\n",
       "      <td>Second Class</td>\n",
       "      <td>SW-20455</td>\n",
       "      <td>Shaun Weien</td>\n",
       "      <td>Consumer</td>\n",
       "      <td>United States</td>\n",
       "      <td>Lafayette</td>\n",
       "      <td>...</td>\n",
       "      <td>85.980</td>\n",
       "      <td>1</td>\n",
       "      <td>0.0</td>\n",
       "      <td>22.3548</td>\n",
       "      <td>22.3548</td>\n",
       "      <td>0.011631</td>\n",
       "      <td>85.980</td>\n",
       "      <td>0.260</td>\n",
       "      <td>22.3548</td>\n",
       "      <td>-36.3748</td>\n",
       "    </tr>\n",
       "    <tr>\n",
       "      <th>...</th>\n",
       "      <td>...</td>\n",
       "      <td>...</td>\n",
       "      <td>...</td>\n",
       "      <td>...</td>\n",
       "      <td>...</td>\n",
       "      <td>...</td>\n",
       "      <td>...</td>\n",
       "      <td>...</td>\n",
       "      <td>...</td>\n",
       "      <td>...</td>\n",
       "      <td>...</td>\n",
       "      <td>...</td>\n",
       "      <td>...</td>\n",
       "      <td>...</td>\n",
       "      <td>...</td>\n",
       "      <td>...</td>\n",
       "      <td>...</td>\n",
       "      <td>...</td>\n",
       "      <td>...</td>\n",
       "      <td>...</td>\n",
       "      <td>...</td>\n",
       "    </tr>\n",
       "    <tr>\n",
       "      <th>9987</th>\n",
       "      <td>9988</td>\n",
       "      <td>CA-2017-114412</td>\n",
       "      <td>2017-04-15</td>\n",
       "      <td>2017-04-20</td>\n",
       "      <td>Standard Class</td>\n",
       "      <td>AA-10480</td>\n",
       "      <td>Andrew Allen</td>\n",
       "      <td>Consumer</td>\n",
       "      <td>United States</td>\n",
       "      <td>Concord</td>\n",
       "      <td>...</td>\n",
       "      <td>15.552</td>\n",
       "      <td>3</td>\n",
       "      <td>0.2</td>\n",
       "      <td>5.4432</td>\n",
       "      <td>1.8144</td>\n",
       "      <td>0.192901</td>\n",
       "      <td>5.184</td>\n",
       "      <td>0.350</td>\n",
       "      <td>16.3296</td>\n",
       "      <td>-89.8912</td>\n",
       "    </tr>\n",
       "    <tr>\n",
       "      <th>9988</th>\n",
       "      <td>9989</td>\n",
       "      <td>CA-2016-161389</td>\n",
       "      <td>2016-12-05</td>\n",
       "      <td>2016-12-10</td>\n",
       "      <td>Standard Class</td>\n",
       "      <td>IM-15070</td>\n",
       "      <td>Irene Maddox</td>\n",
       "      <td>Consumer</td>\n",
       "      <td>United States</td>\n",
       "      <td>Seattle</td>\n",
       "      <td>...</td>\n",
       "      <td>407.976</td>\n",
       "      <td>3</td>\n",
       "      <td>0.2</td>\n",
       "      <td>132.5922</td>\n",
       "      <td>44.1974</td>\n",
       "      <td>0.007353</td>\n",
       "      <td>135.992</td>\n",
       "      <td>0.325</td>\n",
       "      <td>397.7766</td>\n",
       "      <td>175.3838</td>\n",
       "    </tr>\n",
       "    <tr>\n",
       "      <th>9991</th>\n",
       "      <td>9992</td>\n",
       "      <td>CA-2014-105893</td>\n",
       "      <td>2014-11-11</td>\n",
       "      <td>2014-11-18</td>\n",
       "      <td>Standard Class</td>\n",
       "      <td>PK-19075</td>\n",
       "      <td>Pete Kriz</td>\n",
       "      <td>Consumer</td>\n",
       "      <td>United States</td>\n",
       "      <td>Madison</td>\n",
       "      <td>...</td>\n",
       "      <td>665.880</td>\n",
       "      <td>6</td>\n",
       "      <td>0.0</td>\n",
       "      <td>13.3176</td>\n",
       "      <td>2.2196</td>\n",
       "      <td>0.009011</td>\n",
       "      <td>110.980</td>\n",
       "      <td>0.020</td>\n",
       "      <td>79.9056</td>\n",
       "      <td>552.5624</td>\n",
       "    </tr>\n",
       "    <tr>\n",
       "      <th>9992</th>\n",
       "      <td>9993</td>\n",
       "      <td>CA-2014-167164</td>\n",
       "      <td>2014-05-13</td>\n",
       "      <td>2014-05-15</td>\n",
       "      <td>Second Class</td>\n",
       "      <td>AG-10270</td>\n",
       "      <td>Alejandro Grove</td>\n",
       "      <td>Consumer</td>\n",
       "      <td>United States</td>\n",
       "      <td>West Jordan</td>\n",
       "      <td>...</td>\n",
       "      <td>55.500</td>\n",
       "      <td>2</td>\n",
       "      <td>0.0</td>\n",
       "      <td>9.9900</td>\n",
       "      <td>4.9950</td>\n",
       "      <td>0.036036</td>\n",
       "      <td>27.750</td>\n",
       "      <td>0.180</td>\n",
       "      <td>19.9800</td>\n",
       "      <td>-54.4900</td>\n",
       "    </tr>\n",
       "    <tr>\n",
       "      <th>9993</th>\n",
       "      <td>9994</td>\n",
       "      <td>CA-2014-143336</td>\n",
       "      <td>2014-08-27</td>\n",
       "      <td>2014-09-01</td>\n",
       "      <td>Second Class</td>\n",
       "      <td>ZD-21925</td>\n",
       "      <td>Zuschuss Donatelli</td>\n",
       "      <td>Consumer</td>\n",
       "      <td>United States</td>\n",
       "      <td>San Francisco</td>\n",
       "      <td>...</td>\n",
       "      <td>8.560</td>\n",
       "      <td>2</td>\n",
       "      <td>0.0</td>\n",
       "      <td>2.4824</td>\n",
       "      <td>1.2412</td>\n",
       "      <td>0.233645</td>\n",
       "      <td>4.280</td>\n",
       "      <td>0.290</td>\n",
       "      <td>4.9648</td>\n",
       "      <td>-93.9224</td>\n",
       "    </tr>\n",
       "  </tbody>\n",
       "</table>\n",
       "<p>8058 rows × 27 columns</p>\n",
       "</div>"
      ],
      "text/plain": [
       "      Row ID        Order ID Order Date  Ship Date       Ship Mode  \\\n",
       "0       9976  US-2016-103674 2016-12-06 2016-12-10  Standard Class   \n",
       "1       9977  US-2016-103674 2016-12-06 2016-12-10  Standard Class   \n",
       "3       9979  US-2016-103674 2016-12-06 2016-12-10  Standard Class   \n",
       "4       9980  US-2016-103674 2016-12-06 2016-12-10  Standard Class   \n",
       "5       9981  US-2015-151435 2015-09-06 2015-09-09    Second Class   \n",
       "...      ...             ...        ...        ...             ...   \n",
       "9987    9988  CA-2017-114412 2017-04-15 2017-04-20  Standard Class   \n",
       "9988    9989  CA-2016-161389 2016-12-05 2016-12-10  Standard Class   \n",
       "9991    9992  CA-2014-105893 2014-11-11 2014-11-18  Standard Class   \n",
       "9992    9993  CA-2014-167164 2014-05-13 2014-05-15    Second Class   \n",
       "9993    9994  CA-2014-143336 2014-08-27 2014-09-01    Second Class   \n",
       "\n",
       "     Customer ID       Customer Name      Segment        Country  \\\n",
       "0       AP-10720          Anne Pryor  Home Office  United States   \n",
       "1       AP-10720          Anne Pryor  Home Office  United States   \n",
       "3       AP-10720          Anne Pryor  Home Office  United States   \n",
       "4       AP-10720          Anne Pryor  Home Office  United States   \n",
       "5       SW-20455         Shaun Weien     Consumer  United States   \n",
       "...          ...                 ...          ...            ...   \n",
       "9987    AA-10480        Andrew Allen     Consumer  United States   \n",
       "9988    IM-15070        Irene Maddox     Consumer  United States   \n",
       "9991    PK-19075           Pete Kriz     Consumer  United States   \n",
       "9992    AG-10270     Alejandro Grove     Consumer  United States   \n",
       "9993    ZD-21925  Zuschuss Donatelli     Consumer  United States   \n",
       "\n",
       "               City  ...    Sales  Quantity Discount    Profit  \\\n",
       "0       Los Angeles  ...   13.360         2      0.0    6.4128   \n",
       "1       Los Angeles  ...  249.584         2      0.2   31.1980   \n",
       "3       Los Angeles  ...   13.376         4      0.2    4.6816   \n",
       "4       Los Angeles  ...  437.472        14      0.2  153.1152   \n",
       "5         Lafayette  ...   85.980         1      0.0   22.3548   \n",
       "...             ...  ...      ...       ...      ...       ...   \n",
       "9987        Concord  ...   15.552         3      0.2    5.4432   \n",
       "9988        Seattle  ...  407.976         3      0.2  132.5922   \n",
       "9991        Madison  ...  665.880         6      0.0   13.3176   \n",
       "9992    West Jordan  ...   55.500         2      0.0    9.9900   \n",
       "9993  San Francisco  ...    8.560         2      0.0    2.4824   \n",
       "\n",
       "     Profit_per_quantity Quantity_per_Sales Price_per_Product  \\\n",
       "0                 3.2064           0.149701             6.680   \n",
       "1                15.5990           0.008013           124.792   \n",
       "3                 1.1704           0.299043             3.344   \n",
       "4                10.9368           0.032002            31.248   \n",
       "5                22.3548           0.011631            85.980   \n",
       "...                  ...                ...               ...   \n",
       "9987              1.8144           0.192901             5.184   \n",
       "9988             44.1974           0.007353           135.992   \n",
       "9991              2.2196           0.009011           110.980   \n",
       "9992              4.9950           0.036036            27.750   \n",
       "9993              1.2412           0.233645             4.280   \n",
       "\n",
       "      Profit_by_Sales  Calculated Profit  Cost_of_Product  \n",
       "0               0.480            12.8256         -93.0528  \n",
       "1               0.125            62.3960         118.3860  \n",
       "3               0.350            18.7264         -91.3056  \n",
       "4               0.350          2143.6128         184.3568  \n",
       "5               0.260            22.3548         -36.3748  \n",
       "...               ...                ...              ...  \n",
       "9987            0.350            16.3296         -89.8912  \n",
       "9988            0.325           397.7766         175.3838  \n",
       "9991            0.020            79.9056         552.5624  \n",
       "9992            0.180            19.9800         -54.4900  \n",
       "9993            0.290             4.9648         -93.9224  \n",
       "\n",
       "[8058 rows x 27 columns]"
      ]
     },
     "execution_count": 82,
     "metadata": {},
     "output_type": "execute_result"
    }
   ],
   "source": [
    "walmart_df.loc[(walmart_df[\"Profit\"] > 0)]"
   ]
  },
  {
   "cell_type": "markdown",
   "metadata": {},
   "source": [
    "##### Check for where profit column is greater than zero and find the standard deviation."
   ]
  },
  {
   "cell_type": "code",
   "execution_count": 83,
   "metadata": {},
   "outputs": [
    {
     "name": "stderr",
     "output_type": "stream",
     "text": [
      "C:\\anaconda\\lib\\site-packages\\ipykernel_launcher.py:1: FutureWarning: Dropping of nuisance columns in DataFrame reductions (with 'numeric_only=None') is deprecated; in a future version this will raise TypeError.  Select only valid columns before calling the reduction.\n",
      "  \"\"\"Entry point for launching an IPython kernel.\n"
     ]
    },
    {
     "data": {
      "text/plain": [
       "Row ID                                 2872.861617\n",
       "Order Date             420 days 18:49:40.730535896\n",
       "Ship Date              420 days 17:45:21.979175136\n",
       "Postal Code                            33295.00338\n",
       "Sales                                   600.340641\n",
       "Quantity                                  2.244696\n",
       "Discount                                  0.098884\n",
       "Profit                                   213.71398\n",
       "Profit_per_quantity                      51.880991\n",
       "Quantity_per_Sales                         0.14178\n",
       "Price_per_Product                       143.918414\n",
       "Profit_by_Sales                           0.140026\n",
       "Calculated Profit                      1290.380084\n",
       "Cost_of_Product                         423.889465\n",
       "dtype: object"
      ]
     },
     "execution_count": 83,
     "metadata": {},
     "output_type": "execute_result"
    }
   ],
   "source": [
    "walmart_df[(walmart_df[\"Profit\"] > 0)].std()"
   ]
  },
  {
   "cell_type": "markdown",
   "metadata": {},
   "source": [
    "#### We want only the the table that will show us where profit is less than zero. I.e negative."
   ]
  },
  {
   "cell_type": "markdown",
   "metadata": {},
   "source": [
    "# walmart_df.loc[(walmart_df[\"Profit\"] < 0)]"
   ]
  },
  {
   "cell_type": "code",
   "execution_count": 94,
   "metadata": {},
   "outputs": [
    {
     "data": {
      "text/html": [
       "<div>\n",
       "<style scoped>\n",
       "    .dataframe tbody tr th:only-of-type {\n",
       "        vertical-align: middle;\n",
       "    }\n",
       "\n",
       "    .dataframe tbody tr th {\n",
       "        vertical-align: top;\n",
       "    }\n",
       "\n",
       "    .dataframe thead th {\n",
       "        text-align: right;\n",
       "    }\n",
       "</style>\n",
       "<table border=\"1\" class=\"dataframe\">\n",
       "  <thead>\n",
       "    <tr style=\"text-align: right;\">\n",
       "      <th></th>\n",
       "      <th>Row ID</th>\n",
       "      <th>Order ID</th>\n",
       "      <th>Order Date</th>\n",
       "      <th>Ship Date</th>\n",
       "      <th>Ship Mode</th>\n",
       "      <th>Customer ID</th>\n",
       "      <th>Customer Name</th>\n",
       "      <th>Segment</th>\n",
       "      <th>Country</th>\n",
       "      <th>City</th>\n",
       "      <th>...</th>\n",
       "      <th>Sales</th>\n",
       "      <th>Quantity</th>\n",
       "      <th>Discount</th>\n",
       "      <th>Profit</th>\n",
       "      <th>Profit_per_quantity</th>\n",
       "      <th>Quantity_per_Sales</th>\n",
       "      <th>Price_per_Product</th>\n",
       "      <th>Profit_by_Sales</th>\n",
       "      <th>Calculated Profit</th>\n",
       "      <th>Cost_of_Product</th>\n",
       "    </tr>\n",
       "  </thead>\n",
       "  <tbody>\n",
       "    <tr>\n",
       "      <th>23</th>\n",
       "      <td>24</td>\n",
       "      <td>US-2017-156909</td>\n",
       "      <td>2017-07-16</td>\n",
       "      <td>2017-07-18</td>\n",
       "      <td>Second Class</td>\n",
       "      <td>SF-20065</td>\n",
       "      <td>Sandra Flanagan</td>\n",
       "      <td>Consumer</td>\n",
       "      <td>United States</td>\n",
       "      <td>Philadelphia</td>\n",
       "      <td>...</td>\n",
       "      <td>71.3720</td>\n",
       "      <td>2</td>\n",
       "      <td>0.30</td>\n",
       "      <td>-1.0196</td>\n",
       "      <td>-0.5098</td>\n",
       "      <td>0.028022</td>\n",
       "      <td>35.6860</td>\n",
       "      <td>-0.014286</td>\n",
       "      <td>-2.0392</td>\n",
       "      <td>-27.6084</td>\n",
       "    </tr>\n",
       "    <tr>\n",
       "      <th>27</th>\n",
       "      <td>28</td>\n",
       "      <td>US-2015-150630</td>\n",
       "      <td>2015-09-17</td>\n",
       "      <td>2015-09-21</td>\n",
       "      <td>Standard Class</td>\n",
       "      <td>TB-21520</td>\n",
       "      <td>Tracy Blumstein</td>\n",
       "      <td>Consumer</td>\n",
       "      <td>United States</td>\n",
       "      <td>Philadelphia</td>\n",
       "      <td>...</td>\n",
       "      <td>3083.4300</td>\n",
       "      <td>7</td>\n",
       "      <td>0.50</td>\n",
       "      <td>-1665.0522</td>\n",
       "      <td>-237.8646</td>\n",
       "      <td>0.002270</td>\n",
       "      <td>440.4900</td>\n",
       "      <td>-0.540000</td>\n",
       "      <td>-11655.3654</td>\n",
       "      <td>4648.4822</td>\n",
       "    </tr>\n",
       "    <tr>\n",
       "      <th>28</th>\n",
       "      <td>29</td>\n",
       "      <td>US-2015-150630</td>\n",
       "      <td>2015-09-17</td>\n",
       "      <td>2015-09-21</td>\n",
       "      <td>Standard Class</td>\n",
       "      <td>TB-21520</td>\n",
       "      <td>Tracy Blumstein</td>\n",
       "      <td>Consumer</td>\n",
       "      <td>United States</td>\n",
       "      <td>Philadelphia</td>\n",
       "      <td>...</td>\n",
       "      <td>9.6180</td>\n",
       "      <td>2</td>\n",
       "      <td>0.70</td>\n",
       "      <td>-7.0532</td>\n",
       "      <td>-3.5266</td>\n",
       "      <td>0.207943</td>\n",
       "      <td>4.8090</td>\n",
       "      <td>-0.733333</td>\n",
       "      <td>-14.1064</td>\n",
       "      <td>-83.3288</td>\n",
       "    </tr>\n",
       "    <tr>\n",
       "      <th>32</th>\n",
       "      <td>33</td>\n",
       "      <td>US-2015-150630</td>\n",
       "      <td>2015-09-17</td>\n",
       "      <td>2015-09-21</td>\n",
       "      <td>Standard Class</td>\n",
       "      <td>TB-21520</td>\n",
       "      <td>Tracy Blumstein</td>\n",
       "      <td>Consumer</td>\n",
       "      <td>United States</td>\n",
       "      <td>Philadelphia</td>\n",
       "      <td>...</td>\n",
       "      <td>6.8580</td>\n",
       "      <td>6</td>\n",
       "      <td>0.70</td>\n",
       "      <td>-5.7150</td>\n",
       "      <td>-0.9525</td>\n",
       "      <td>0.874891</td>\n",
       "      <td>1.1430</td>\n",
       "      <td>-0.833333</td>\n",
       "      <td>-34.2900</td>\n",
       "      <td>-87.4270</td>\n",
       "    </tr>\n",
       "    <tr>\n",
       "      <th>36</th>\n",
       "      <td>37</td>\n",
       "      <td>CA-2016-117590</td>\n",
       "      <td>2016-12-08</td>\n",
       "      <td>2016-12-10</td>\n",
       "      <td>First Class</td>\n",
       "      <td>GH-14485</td>\n",
       "      <td>Gene Hale</td>\n",
       "      <td>Corporate</td>\n",
       "      <td>United States</td>\n",
       "      <td>Richardson</td>\n",
       "      <td>...</td>\n",
       "      <td>190.9200</td>\n",
       "      <td>5</td>\n",
       "      <td>0.60</td>\n",
       "      <td>-147.9630</td>\n",
       "      <td>-29.5926</td>\n",
       "      <td>0.026189</td>\n",
       "      <td>38.1840</td>\n",
       "      <td>-0.775000</td>\n",
       "      <td>-739.8150</td>\n",
       "      <td>238.8830</td>\n",
       "    </tr>\n",
       "    <tr>\n",
       "      <th>...</th>\n",
       "      <td>...</td>\n",
       "      <td>...</td>\n",
       "      <td>...</td>\n",
       "      <td>...</td>\n",
       "      <td>...</td>\n",
       "      <td>...</td>\n",
       "      <td>...</td>\n",
       "      <td>...</td>\n",
       "      <td>...</td>\n",
       "      <td>...</td>\n",
       "      <td>...</td>\n",
       "      <td>...</td>\n",
       "      <td>...</td>\n",
       "      <td>...</td>\n",
       "      <td>...</td>\n",
       "      <td>...</td>\n",
       "      <td>...</td>\n",
       "      <td>...</td>\n",
       "      <td>...</td>\n",
       "      <td>...</td>\n",
       "      <td>...</td>\n",
       "    </tr>\n",
       "    <tr>\n",
       "      <th>9937</th>\n",
       "      <td>9938</td>\n",
       "      <td>CA-2016-164889</td>\n",
       "      <td>2016-06-03</td>\n",
       "      <td>2016-06-06</td>\n",
       "      <td>Second Class</td>\n",
       "      <td>CP-12340</td>\n",
       "      <td>Christine Phan</td>\n",
       "      <td>Corporate</td>\n",
       "      <td>United States</td>\n",
       "      <td>Los Angeles</td>\n",
       "      <td>...</td>\n",
       "      <td>71.0880</td>\n",
       "      <td>2</td>\n",
       "      <td>0.20</td>\n",
       "      <td>-1.7772</td>\n",
       "      <td>-0.8886</td>\n",
       "      <td>0.028134</td>\n",
       "      <td>35.5440</td>\n",
       "      <td>-0.025000</td>\n",
       "      <td>-3.5544</td>\n",
       "      <td>-27.1348</td>\n",
       "    </tr>\n",
       "    <tr>\n",
       "      <th>9962</th>\n",
       "      <td>9963</td>\n",
       "      <td>CA-2015-168088</td>\n",
       "      <td>2015-03-19</td>\n",
       "      <td>2015-03-22</td>\n",
       "      <td>First Class</td>\n",
       "      <td>CM-12655</td>\n",
       "      <td>Corinna Mitchell</td>\n",
       "      <td>Home Office</td>\n",
       "      <td>United States</td>\n",
       "      <td>Houston</td>\n",
       "      <td>...</td>\n",
       "      <td>383.4656</td>\n",
       "      <td>4</td>\n",
       "      <td>0.32</td>\n",
       "      <td>-67.6704</td>\n",
       "      <td>-16.9176</td>\n",
       "      <td>0.010431</td>\n",
       "      <td>95.8664</td>\n",
       "      <td>-0.176471</td>\n",
       "      <td>-270.6816</td>\n",
       "      <td>351.1360</td>\n",
       "    </tr>\n",
       "    <tr>\n",
       "      <th>9978</th>\n",
       "      <td>9979</td>\n",
       "      <td>US-2015-108966</td>\n",
       "      <td>2015-10-11</td>\n",
       "      <td>2015-10-18</td>\n",
       "      <td>Standard Class</td>\n",
       "      <td>SO-20335</td>\n",
       "      <td>Sean O'Donnell</td>\n",
       "      <td>Consumer</td>\n",
       "      <td>United States</td>\n",
       "      <td>Fort Lauderdale</td>\n",
       "      <td>...</td>\n",
       "      <td>957.5775</td>\n",
       "      <td>5</td>\n",
       "      <td>0.45</td>\n",
       "      <td>-383.0310</td>\n",
       "      <td>-76.6062</td>\n",
       "      <td>0.005222</td>\n",
       "      <td>191.5155</td>\n",
       "      <td>-0.400000</td>\n",
       "      <td>-1915.1550</td>\n",
       "      <td>1240.6085</td>\n",
       "    </tr>\n",
       "    <tr>\n",
       "      <th>9989</th>\n",
       "      <td>9990</td>\n",
       "      <td>US-2015-118983</td>\n",
       "      <td>2015-11-22</td>\n",
       "      <td>2015-11-26</td>\n",
       "      <td>Standard Class</td>\n",
       "      <td>HP-14815</td>\n",
       "      <td>Harold Pawlan</td>\n",
       "      <td>Home Office</td>\n",
       "      <td>United States</td>\n",
       "      <td>Fort Worth</td>\n",
       "      <td>...</td>\n",
       "      <td>68.8100</td>\n",
       "      <td>5</td>\n",
       "      <td>0.80</td>\n",
       "      <td>-123.8580</td>\n",
       "      <td>-24.7716</td>\n",
       "      <td>0.072664</td>\n",
       "      <td>13.7620</td>\n",
       "      <td>-1.800000</td>\n",
       "      <td>-619.2900</td>\n",
       "      <td>92.6680</td>\n",
       "    </tr>\n",
       "    <tr>\n",
       "      <th>9990</th>\n",
       "      <td>9991</td>\n",
       "      <td>US-2015-118983</td>\n",
       "      <td>2015-11-22</td>\n",
       "      <td>2015-11-26</td>\n",
       "      <td>Standard Class</td>\n",
       "      <td>HP-14815</td>\n",
       "      <td>Harold Pawlan</td>\n",
       "      <td>Home Office</td>\n",
       "      <td>United States</td>\n",
       "      <td>Fort Worth</td>\n",
       "      <td>...</td>\n",
       "      <td>2.5440</td>\n",
       "      <td>3</td>\n",
       "      <td>0.80</td>\n",
       "      <td>-3.8160</td>\n",
       "      <td>-1.2720</td>\n",
       "      <td>1.179245</td>\n",
       "      <td>0.8480</td>\n",
       "      <td>-1.500000</td>\n",
       "      <td>-11.4480</td>\n",
       "      <td>-93.6400</td>\n",
       "    </tr>\n",
       "  </tbody>\n",
       "</table>\n",
       "<p>1871 rows × 27 columns</p>\n",
       "</div>"
      ],
      "text/plain": [
       "      Row ID        Order ID Order Date  Ship Date       Ship Mode  \\\n",
       "23        24  US-2017-156909 2017-07-16 2017-07-18    Second Class   \n",
       "27        28  US-2015-150630 2015-09-17 2015-09-21  Standard Class   \n",
       "28        29  US-2015-150630 2015-09-17 2015-09-21  Standard Class   \n",
       "32        33  US-2015-150630 2015-09-17 2015-09-21  Standard Class   \n",
       "36        37  CA-2016-117590 2016-12-08 2016-12-10     First Class   \n",
       "...      ...             ...        ...        ...             ...   \n",
       "9937    9938  CA-2016-164889 2016-06-03 2016-06-06    Second Class   \n",
       "9962    9963  CA-2015-168088 2015-03-19 2015-03-22     First Class   \n",
       "9978    9979  US-2015-108966 2015-10-11 2015-10-18  Standard Class   \n",
       "9989    9990  US-2015-118983 2015-11-22 2015-11-26  Standard Class   \n",
       "9990    9991  US-2015-118983 2015-11-22 2015-11-26  Standard Class   \n",
       "\n",
       "     Customer ID     Customer Name      Segment        Country  \\\n",
       "23      SF-20065   Sandra Flanagan     Consumer  United States   \n",
       "27      TB-21520   Tracy Blumstein     Consumer  United States   \n",
       "28      TB-21520   Tracy Blumstein     Consumer  United States   \n",
       "32      TB-21520   Tracy Blumstein     Consumer  United States   \n",
       "36      GH-14485         Gene Hale    Corporate  United States   \n",
       "...          ...               ...          ...            ...   \n",
       "9937    CP-12340    Christine Phan    Corporate  United States   \n",
       "9962    CM-12655  Corinna Mitchell  Home Office  United States   \n",
       "9978    SO-20335    Sean O'Donnell     Consumer  United States   \n",
       "9989    HP-14815     Harold Pawlan  Home Office  United States   \n",
       "9990    HP-14815     Harold Pawlan  Home Office  United States   \n",
       "\n",
       "                 City  ...      Sales  Quantity Discount     Profit  \\\n",
       "23       Philadelphia  ...    71.3720         2     0.30    -1.0196   \n",
       "27       Philadelphia  ...  3083.4300         7     0.50 -1665.0522   \n",
       "28       Philadelphia  ...     9.6180         2     0.70    -7.0532   \n",
       "32       Philadelphia  ...     6.8580         6     0.70    -5.7150   \n",
       "36         Richardson  ...   190.9200         5     0.60  -147.9630   \n",
       "...               ...  ...        ...       ...      ...        ...   \n",
       "9937      Los Angeles  ...    71.0880         2     0.20    -1.7772   \n",
       "9962          Houston  ...   383.4656         4     0.32   -67.6704   \n",
       "9978  Fort Lauderdale  ...   957.5775         5     0.45  -383.0310   \n",
       "9989       Fort Worth  ...    68.8100         5     0.80  -123.8580   \n",
       "9990       Fort Worth  ...     2.5440         3     0.80    -3.8160   \n",
       "\n",
       "     Profit_per_quantity Quantity_per_Sales Price_per_Product  \\\n",
       "23               -0.5098           0.028022           35.6860   \n",
       "27             -237.8646           0.002270          440.4900   \n",
       "28               -3.5266           0.207943            4.8090   \n",
       "32               -0.9525           0.874891            1.1430   \n",
       "36              -29.5926           0.026189           38.1840   \n",
       "...                  ...                ...               ...   \n",
       "9937             -0.8886           0.028134           35.5440   \n",
       "9962            -16.9176           0.010431           95.8664   \n",
       "9978            -76.6062           0.005222          191.5155   \n",
       "9989            -24.7716           0.072664           13.7620   \n",
       "9990             -1.2720           1.179245            0.8480   \n",
       "\n",
       "      Profit_by_Sales  Calculated Profit  Cost_of_Product  \n",
       "23          -0.014286            -2.0392         -27.6084  \n",
       "27          -0.540000        -11655.3654        4648.4822  \n",
       "28          -0.733333           -14.1064         -83.3288  \n",
       "32          -0.833333           -34.2900         -87.4270  \n",
       "36          -0.775000          -739.8150         238.8830  \n",
       "...               ...                ...              ...  \n",
       "9937        -0.025000            -3.5544         -27.1348  \n",
       "9962        -0.176471          -270.6816         351.1360  \n",
       "9978        -0.400000         -1915.1550        1240.6085  \n",
       "9989        -1.800000          -619.2900          92.6680  \n",
       "9990        -1.500000           -11.4480         -93.6400  \n",
       "\n",
       "[1871 rows x 27 columns]"
      ]
     },
     "execution_count": 94,
     "metadata": {},
     "output_type": "execute_result"
    }
   ],
   "source": [
    "walmart_df.loc[(walmart_df[\"Profit\"] < 0)]"
   ]
  },
  {
   "cell_type": "markdown",
   "metadata": {},
   "source": [
    "##### The table below shows trannsacrions that include the records of where column profit is less than zero, and column ship mode is equal first class column."
   ]
  },
  {
   "cell_type": "code",
   "execution_count": 85,
   "metadata": {},
   "outputs": [
    {
     "data": {
      "text/html": [
       "<div>\n",
       "<style scoped>\n",
       "    .dataframe tbody tr th:only-of-type {\n",
       "        vertical-align: middle;\n",
       "    }\n",
       "\n",
       "    .dataframe tbody tr th {\n",
       "        vertical-align: top;\n",
       "    }\n",
       "\n",
       "    .dataframe thead th {\n",
       "        text-align: right;\n",
       "    }\n",
       "</style>\n",
       "<table border=\"1\" class=\"dataframe\">\n",
       "  <thead>\n",
       "    <tr style=\"text-align: right;\">\n",
       "      <th></th>\n",
       "      <th>Row ID</th>\n",
       "      <th>Order ID</th>\n",
       "      <th>Order Date</th>\n",
       "      <th>Ship Date</th>\n",
       "      <th>Ship Mode</th>\n",
       "      <th>Customer ID</th>\n",
       "      <th>Customer Name</th>\n",
       "      <th>Segment</th>\n",
       "      <th>Country</th>\n",
       "      <th>City</th>\n",
       "      <th>...</th>\n",
       "      <th>Sales</th>\n",
       "      <th>Quantity</th>\n",
       "      <th>Discount</th>\n",
       "      <th>Profit</th>\n",
       "      <th>Profit_per_quantity</th>\n",
       "      <th>Quantity_per_Sales</th>\n",
       "      <th>Price_per_Product</th>\n",
       "      <th>Profit_by_Sales</th>\n",
       "      <th>Calculated Profit</th>\n",
       "      <th>Cost_of_Product</th>\n",
       "    </tr>\n",
       "  </thead>\n",
       "  <tbody>\n",
       "    <tr>\n",
       "      <th>36</th>\n",
       "      <td>37</td>\n",
       "      <td>CA-2016-117590</td>\n",
       "      <td>2016-12-08</td>\n",
       "      <td>2016-12-10</td>\n",
       "      <td>First Class</td>\n",
       "      <td>GH-14485</td>\n",
       "      <td>Gene Hale</td>\n",
       "      <td>Corporate</td>\n",
       "      <td>United States</td>\n",
       "      <td>Richardson</td>\n",
       "      <td>...</td>\n",
       "      <td>190.9200</td>\n",
       "      <td>5</td>\n",
       "      <td>0.60</td>\n",
       "      <td>-147.9630</td>\n",
       "      <td>-29.5926</td>\n",
       "      <td>0.026189</td>\n",
       "      <td>38.1840</td>\n",
       "      <td>-0.775000</td>\n",
       "      <td>-739.8150</td>\n",
       "      <td>238.8830</td>\n",
       "    </tr>\n",
       "    <tr>\n",
       "      <th>75</th>\n",
       "      <td>76</td>\n",
       "      <td>US-2017-118038</td>\n",
       "      <td>2017-12-09</td>\n",
       "      <td>2017-12-11</td>\n",
       "      <td>First Class</td>\n",
       "      <td>KB-16600</td>\n",
       "      <td>Ken Brennan</td>\n",
       "      <td>Corporate</td>\n",
       "      <td>United States</td>\n",
       "      <td>Houston</td>\n",
       "      <td>...</td>\n",
       "      <td>1.2480</td>\n",
       "      <td>3</td>\n",
       "      <td>0.80</td>\n",
       "      <td>-1.9344</td>\n",
       "      <td>-0.6448</td>\n",
       "      <td>2.403846</td>\n",
       "      <td>0.4160</td>\n",
       "      <td>-1.550000</td>\n",
       "      <td>-5.8032</td>\n",
       "      <td>-96.8176</td>\n",
       "    </tr>\n",
       "    <tr>\n",
       "      <th>76</th>\n",
       "      <td>77</td>\n",
       "      <td>US-2017-118038</td>\n",
       "      <td>2017-12-09</td>\n",
       "      <td>2017-12-11</td>\n",
       "      <td>First Class</td>\n",
       "      <td>KB-16600</td>\n",
       "      <td>Ken Brennan</td>\n",
       "      <td>Corporate</td>\n",
       "      <td>United States</td>\n",
       "      <td>Houston</td>\n",
       "      <td>...</td>\n",
       "      <td>9.7080</td>\n",
       "      <td>3</td>\n",
       "      <td>0.60</td>\n",
       "      <td>-5.8248</td>\n",
       "      <td>-1.9416</td>\n",
       "      <td>0.309023</td>\n",
       "      <td>3.2360</td>\n",
       "      <td>-0.600000</td>\n",
       "      <td>-17.4744</td>\n",
       "      <td>-84.4672</td>\n",
       "    </tr>\n",
       "    <tr>\n",
       "      <th>84</th>\n",
       "      <td>85</td>\n",
       "      <td>US-2017-119662</td>\n",
       "      <td>2017-11-13</td>\n",
       "      <td>2017-11-16</td>\n",
       "      <td>First Class</td>\n",
       "      <td>CS-12400</td>\n",
       "      <td>Christopher Schild</td>\n",
       "      <td>Home Office</td>\n",
       "      <td>United States</td>\n",
       "      <td>Chicago</td>\n",
       "      <td>...</td>\n",
       "      <td>230.3760</td>\n",
       "      <td>3</td>\n",
       "      <td>0.20</td>\n",
       "      <td>-48.9549</td>\n",
       "      <td>-16.3183</td>\n",
       "      <td>0.013022</td>\n",
       "      <td>76.7920</td>\n",
       "      <td>-0.212500</td>\n",
       "      <td>-146.8647</td>\n",
       "      <td>179.3309</td>\n",
       "    </tr>\n",
       "    <tr>\n",
       "      <th>130</th>\n",
       "      <td>131</td>\n",
       "      <td>US-2017-164147</td>\n",
       "      <td>2017-02-02</td>\n",
       "      <td>2017-02-05</td>\n",
       "      <td>First Class</td>\n",
       "      <td>DW-13585</td>\n",
       "      <td>Dorothy Wardle</td>\n",
       "      <td>Corporate</td>\n",
       "      <td>United States</td>\n",
       "      <td>Columbus</td>\n",
       "      <td>...</td>\n",
       "      <td>59.9700</td>\n",
       "      <td>5</td>\n",
       "      <td>0.40</td>\n",
       "      <td>-11.9940</td>\n",
       "      <td>-2.3988</td>\n",
       "      <td>0.083375</td>\n",
       "      <td>11.9940</td>\n",
       "      <td>-0.200000</td>\n",
       "      <td>-59.9700</td>\n",
       "      <td>-28.0360</td>\n",
       "    </tr>\n",
       "    <tr>\n",
       "      <th>...</th>\n",
       "      <td>...</td>\n",
       "      <td>...</td>\n",
       "      <td>...</td>\n",
       "      <td>...</td>\n",
       "      <td>...</td>\n",
       "      <td>...</td>\n",
       "      <td>...</td>\n",
       "      <td>...</td>\n",
       "      <td>...</td>\n",
       "      <td>...</td>\n",
       "      <td>...</td>\n",
       "      <td>...</td>\n",
       "      <td>...</td>\n",
       "      <td>...</td>\n",
       "      <td>...</td>\n",
       "      <td>...</td>\n",
       "      <td>...</td>\n",
       "      <td>...</td>\n",
       "      <td>...</td>\n",
       "      <td>...</td>\n",
       "      <td>...</td>\n",
       "    </tr>\n",
       "    <tr>\n",
       "      <th>9876</th>\n",
       "      <td>9877</td>\n",
       "      <td>US-2017-166324</td>\n",
       "      <td>2017-04-20</td>\n",
       "      <td>2017-04-21</td>\n",
       "      <td>First Class</td>\n",
       "      <td>BE-11455</td>\n",
       "      <td>Brad Eason</td>\n",
       "      <td>Home Office</td>\n",
       "      <td>United States</td>\n",
       "      <td>Cleveland</td>\n",
       "      <td>...</td>\n",
       "      <td>848.5440</td>\n",
       "      <td>4</td>\n",
       "      <td>0.20</td>\n",
       "      <td>-21.2136</td>\n",
       "      <td>-5.3034</td>\n",
       "      <td>0.004714</td>\n",
       "      <td>212.1360</td>\n",
       "      <td>-0.025000</td>\n",
       "      <td>-84.8544</td>\n",
       "      <td>769.7576</td>\n",
       "    </tr>\n",
       "    <tr>\n",
       "      <th>9877</th>\n",
       "      <td>9878</td>\n",
       "      <td>US-2017-166324</td>\n",
       "      <td>2017-04-20</td>\n",
       "      <td>2017-04-21</td>\n",
       "      <td>First Class</td>\n",
       "      <td>BE-11455</td>\n",
       "      <td>Brad Eason</td>\n",
       "      <td>Home Office</td>\n",
       "      <td>United States</td>\n",
       "      <td>Cleveland</td>\n",
       "      <td>...</td>\n",
       "      <td>8.7000</td>\n",
       "      <td>5</td>\n",
       "      <td>0.70</td>\n",
       "      <td>-6.3800</td>\n",
       "      <td>-1.2760</td>\n",
       "      <td>0.574713</td>\n",
       "      <td>1.7400</td>\n",
       "      <td>-0.733333</td>\n",
       "      <td>-31.9000</td>\n",
       "      <td>-84.9200</td>\n",
       "    </tr>\n",
       "    <tr>\n",
       "      <th>9878</th>\n",
       "      <td>9879</td>\n",
       "      <td>US-2017-166324</td>\n",
       "      <td>2017-04-20</td>\n",
       "      <td>2017-04-21</td>\n",
       "      <td>First Class</td>\n",
       "      <td>BE-11455</td>\n",
       "      <td>Brad Eason</td>\n",
       "      <td>Home Office</td>\n",
       "      <td>United States</td>\n",
       "      <td>Cleveland</td>\n",
       "      <td>...</td>\n",
       "      <td>122.3820</td>\n",
       "      <td>3</td>\n",
       "      <td>0.40</td>\n",
       "      <td>-24.4764</td>\n",
       "      <td>-8.1588</td>\n",
       "      <td>0.024513</td>\n",
       "      <td>40.7940</td>\n",
       "      <td>-0.200000</td>\n",
       "      <td>-73.4292</td>\n",
       "      <td>46.8584</td>\n",
       "    </tr>\n",
       "    <tr>\n",
       "      <th>9912</th>\n",
       "      <td>9913</td>\n",
       "      <td>CA-2015-132388</td>\n",
       "      <td>2015-10-10</td>\n",
       "      <td>2015-10-12</td>\n",
       "      <td>First Class</td>\n",
       "      <td>KN-16390</td>\n",
       "      <td>Katherine Nockton</td>\n",
       "      <td>Corporate</td>\n",
       "      <td>United States</td>\n",
       "      <td>Santa Barbara</td>\n",
       "      <td>...</td>\n",
       "      <td>362.1360</td>\n",
       "      <td>3</td>\n",
       "      <td>0.20</td>\n",
       "      <td>-54.3204</td>\n",
       "      <td>-18.1068</td>\n",
       "      <td>0.008284</td>\n",
       "      <td>120.7120</td>\n",
       "      <td>-0.150000</td>\n",
       "      <td>-162.9612</td>\n",
       "      <td>316.4564</td>\n",
       "    </tr>\n",
       "    <tr>\n",
       "      <th>9962</th>\n",
       "      <td>9963</td>\n",
       "      <td>CA-2015-168088</td>\n",
       "      <td>2015-03-19</td>\n",
       "      <td>2015-03-22</td>\n",
       "      <td>First Class</td>\n",
       "      <td>CM-12655</td>\n",
       "      <td>Corinna Mitchell</td>\n",
       "      <td>Home Office</td>\n",
       "      <td>United States</td>\n",
       "      <td>Houston</td>\n",
       "      <td>...</td>\n",
       "      <td>383.4656</td>\n",
       "      <td>4</td>\n",
       "      <td>0.32</td>\n",
       "      <td>-67.6704</td>\n",
       "      <td>-16.9176</td>\n",
       "      <td>0.010431</td>\n",
       "      <td>95.8664</td>\n",
       "      <td>-0.176471</td>\n",
       "      <td>-270.6816</td>\n",
       "      <td>351.1360</td>\n",
       "    </tr>\n",
       "  </tbody>\n",
       "</table>\n",
       "<p>293 rows × 27 columns</p>\n",
       "</div>"
      ],
      "text/plain": [
       "      Row ID        Order ID Order Date  Ship Date    Ship Mode Customer ID  \\\n",
       "36        37  CA-2016-117590 2016-12-08 2016-12-10  First Class    GH-14485   \n",
       "75        76  US-2017-118038 2017-12-09 2017-12-11  First Class    KB-16600   \n",
       "76        77  US-2017-118038 2017-12-09 2017-12-11  First Class    KB-16600   \n",
       "84        85  US-2017-119662 2017-11-13 2017-11-16  First Class    CS-12400   \n",
       "130      131  US-2017-164147 2017-02-02 2017-02-05  First Class    DW-13585   \n",
       "...      ...             ...        ...        ...          ...         ...   \n",
       "9876    9877  US-2017-166324 2017-04-20 2017-04-21  First Class    BE-11455   \n",
       "9877    9878  US-2017-166324 2017-04-20 2017-04-21  First Class    BE-11455   \n",
       "9878    9879  US-2017-166324 2017-04-20 2017-04-21  First Class    BE-11455   \n",
       "9912    9913  CA-2015-132388 2015-10-10 2015-10-12  First Class    KN-16390   \n",
       "9962    9963  CA-2015-168088 2015-03-19 2015-03-22  First Class    CM-12655   \n",
       "\n",
       "           Customer Name      Segment        Country           City  ...  \\\n",
       "36             Gene Hale    Corporate  United States     Richardson  ...   \n",
       "75           Ken Brennan    Corporate  United States        Houston  ...   \n",
       "76           Ken Brennan    Corporate  United States        Houston  ...   \n",
       "84    Christopher Schild  Home Office  United States        Chicago  ...   \n",
       "130       Dorothy Wardle    Corporate  United States       Columbus  ...   \n",
       "...                  ...          ...            ...            ...  ...   \n",
       "9876          Brad Eason  Home Office  United States      Cleveland  ...   \n",
       "9877          Brad Eason  Home Office  United States      Cleveland  ...   \n",
       "9878          Brad Eason  Home Office  United States      Cleveland  ...   \n",
       "9912   Katherine Nockton    Corporate  United States  Santa Barbara  ...   \n",
       "9962    Corinna Mitchell  Home Office  United States        Houston  ...   \n",
       "\n",
       "         Sales  Quantity Discount    Profit Profit_per_quantity  \\\n",
       "36    190.9200         5     0.60 -147.9630            -29.5926   \n",
       "75      1.2480         3     0.80   -1.9344             -0.6448   \n",
       "76      9.7080         3     0.60   -5.8248             -1.9416   \n",
       "84    230.3760         3     0.20  -48.9549            -16.3183   \n",
       "130    59.9700         5     0.40  -11.9940             -2.3988   \n",
       "...        ...       ...      ...       ...                 ...   \n",
       "9876  848.5440         4     0.20  -21.2136             -5.3034   \n",
       "9877    8.7000         5     0.70   -6.3800             -1.2760   \n",
       "9878  122.3820         3     0.40  -24.4764             -8.1588   \n",
       "9912  362.1360         3     0.20  -54.3204            -18.1068   \n",
       "9962  383.4656         4     0.32  -67.6704            -16.9176   \n",
       "\n",
       "     Quantity_per_Sales Price_per_Product  Profit_by_Sales  Calculated Profit  \\\n",
       "36             0.026189           38.1840        -0.775000          -739.8150   \n",
       "75             2.403846            0.4160        -1.550000            -5.8032   \n",
       "76             0.309023            3.2360        -0.600000           -17.4744   \n",
       "84             0.013022           76.7920        -0.212500          -146.8647   \n",
       "130            0.083375           11.9940        -0.200000           -59.9700   \n",
       "...                 ...               ...              ...                ...   \n",
       "9876           0.004714          212.1360        -0.025000           -84.8544   \n",
       "9877           0.574713            1.7400        -0.733333           -31.9000   \n",
       "9878           0.024513           40.7940        -0.200000           -73.4292   \n",
       "9912           0.008284          120.7120        -0.150000          -162.9612   \n",
       "9962           0.010431           95.8664        -0.176471          -270.6816   \n",
       "\n",
       "      Cost_of_Product  \n",
       "36           238.8830  \n",
       "75           -96.8176  \n",
       "76           -84.4672  \n",
       "84           179.3309  \n",
       "130          -28.0360  \n",
       "...               ...  \n",
       "9876         769.7576  \n",
       "9877         -84.9200  \n",
       "9878          46.8584  \n",
       "9912         316.4564  \n",
       "9962         351.1360  \n",
       "\n",
       "[293 rows x 27 columns]"
      ]
     },
     "execution_count": 85,
     "metadata": {},
     "output_type": "execute_result"
    }
   ],
   "source": [
    "walmart_df.loc[(walmart_df[\"Profit\"] < 0) & (walmart_df[\"Ship Mode\"] == \"First Class\")]"
   ]
  },
  {
   "cell_type": "markdown",
   "metadata": {},
   "source": [
    "##### The table below shows trannsacrions that include the records of where column profit is less than zero, and column ship mode is equal first class column. And then sum the profit from the each of the transactions (observations). We then go ahead in the liine below to do same for other classes under \"Ship Mode\"."
   ]
  },
  {
   "cell_type": "code",
   "execution_count": 86,
   "metadata": {},
   "outputs": [
    {
     "data": {
      "text/plain": [
       "-22660.270900000003"
      ]
     },
     "execution_count": 86,
     "metadata": {},
     "output_type": "execute_result"
    }
   ],
   "source": [
    "walmart_df.loc[(walmart_df[\"Profit\"] < 0) & (walmart_df[\"Ship Mode\"] == \"First Class\"), \"Profit\"].sum()"
   ]
  },
  {
   "cell_type": "code",
   "execution_count": 87,
   "metadata": {},
   "outputs": [
    {
     "data": {
      "text/plain": [
       "-100348.53650000002"
      ]
     },
     "execution_count": 87,
     "metadata": {},
     "output_type": "execute_result"
    }
   ],
   "source": [
    "walmart_df.loc[(walmart_df[\"Profit\"] < 0) & (walmart_df[\"Ship Mode\"] == \"Standard Class\"), \"Profit\"].sum()"
   ]
  },
  {
   "cell_type": "code",
   "execution_count": 88,
   "metadata": {},
   "outputs": [
    {
     "data": {
      "text/plain": [
       "-24224.372900000002"
      ]
     },
     "execution_count": 88,
     "metadata": {},
     "output_type": "execute_result"
    }
   ],
   "source": [
    "walmart_df.loc[(walmart_df[\"Profit\"] < 0) & (walmart_df[\"Ship Mode\"] == \"Second Class\"), \"Profit\"].sum()"
   ]
  },
  {
   "cell_type": "markdown",
   "metadata": {},
   "source": [
    "#### We do same here as well but instead of summing the profit, we check for the shape of all the ship mode column classes."
   ]
  },
  {
   "cell_type": "code",
   "execution_count": 89,
   "metadata": {},
   "outputs": [
    {
     "data": {
      "text/plain": [
       "(293,)"
      ]
     },
     "execution_count": 89,
     "metadata": {},
     "output_type": "execute_result"
    }
   ],
   "source": [
    "walmart_df.loc[(walmart_df[\"Profit\"] < 0) & (walmart_df[\"Ship Mode\"] == \"First Class\"), \"Profit\"].shape"
   ]
  },
  {
   "cell_type": "code",
   "execution_count": 90,
   "metadata": {},
   "outputs": [
    {
     "data": {
      "text/plain": [
       "(307,)"
      ]
     },
     "execution_count": 90,
     "metadata": {},
     "output_type": "execute_result"
    }
   ],
   "source": [
    "walmart_df.loc[(walmart_df[\"Profit\"] < 0) & (walmart_df[\"Ship Mode\"] == \"Second Class\"), \"Profit\"].shape"
   ]
  },
  {
   "cell_type": "code",
   "execution_count": 91,
   "metadata": {},
   "outputs": [
    {
     "data": {
      "text/plain": [
       "(1173,)"
      ]
     },
     "execution_count": 91,
     "metadata": {},
     "output_type": "execute_result"
    }
   ],
   "source": [
    "walmart_df.loc[(walmart_df[\"Profit\"] < 0) & (walmart_df[\"Ship Mode\"] == \"Standard Class\"), \"Profit\"].shape"
   ]
  },
  {
   "cell_type": "code",
   "execution_count": 92,
   "metadata": {},
   "outputs": [
    {
     "data": {
      "text/html": [
       "<div>\n",
       "<style scoped>\n",
       "    .dataframe tbody tr th:only-of-type {\n",
       "        vertical-align: middle;\n",
       "    }\n",
       "\n",
       "    .dataframe tbody tr th {\n",
       "        vertical-align: top;\n",
       "    }\n",
       "\n",
       "    .dataframe thead th {\n",
       "        text-align: right;\n",
       "    }\n",
       "</style>\n",
       "<table border=\"1\" class=\"dataframe\">\n",
       "  <thead>\n",
       "    <tr style=\"text-align: right;\">\n",
       "      <th></th>\n",
       "      <th>Row ID</th>\n",
       "      <th>Order ID</th>\n",
       "      <th>Order Date</th>\n",
       "      <th>Ship Date</th>\n",
       "      <th>Ship Mode</th>\n",
       "      <th>Customer ID</th>\n",
       "      <th>Customer Name</th>\n",
       "      <th>Segment</th>\n",
       "      <th>Country</th>\n",
       "      <th>City</th>\n",
       "      <th>...</th>\n",
       "      <th>Sales</th>\n",
       "      <th>Quantity</th>\n",
       "      <th>Discount</th>\n",
       "      <th>Profit</th>\n",
       "      <th>Profit_per_quantity</th>\n",
       "      <th>Quantity_per_Sales</th>\n",
       "      <th>Price_per_Product</th>\n",
       "      <th>Profit_by_Sales</th>\n",
       "      <th>Calculated Profit</th>\n",
       "      <th>Cost_of_Product</th>\n",
       "    </tr>\n",
       "  </thead>\n",
       "  <tbody>\n",
       "    <tr>\n",
       "      <th>36</th>\n",
       "      <td>37</td>\n",
       "      <td>CA-2016-117590</td>\n",
       "      <td>2016-12-08</td>\n",
       "      <td>2016-12-10</td>\n",
       "      <td>First Class</td>\n",
       "      <td>GH-14485</td>\n",
       "      <td>Gene Hale</td>\n",
       "      <td>Corporate</td>\n",
       "      <td>United States</td>\n",
       "      <td>Richardson</td>\n",
       "      <td>...</td>\n",
       "      <td>190.920</td>\n",
       "      <td>5</td>\n",
       "      <td>0.6</td>\n",
       "      <td>-147.9630</td>\n",
       "      <td>-29.5926</td>\n",
       "      <td>0.026189</td>\n",
       "      <td>38.184</td>\n",
       "      <td>-0.7750</td>\n",
       "      <td>-739.8150</td>\n",
       "      <td>238.8830</td>\n",
       "    </tr>\n",
       "    <tr>\n",
       "      <th>76</th>\n",
       "      <td>77</td>\n",
       "      <td>US-2017-118038</td>\n",
       "      <td>2017-12-09</td>\n",
       "      <td>2017-12-11</td>\n",
       "      <td>First Class</td>\n",
       "      <td>KB-16600</td>\n",
       "      <td>Ken Brennan</td>\n",
       "      <td>Corporate</td>\n",
       "      <td>United States</td>\n",
       "      <td>Houston</td>\n",
       "      <td>...</td>\n",
       "      <td>9.708</td>\n",
       "      <td>3</td>\n",
       "      <td>0.6</td>\n",
       "      <td>-5.8248</td>\n",
       "      <td>-1.9416</td>\n",
       "      <td>0.309023</td>\n",
       "      <td>3.236</td>\n",
       "      <td>-0.6000</td>\n",
       "      <td>-17.4744</td>\n",
       "      <td>-84.4672</td>\n",
       "    </tr>\n",
       "    <tr>\n",
       "      <th>78</th>\n",
       "      <td>79</td>\n",
       "      <td>US-2014-147606</td>\n",
       "      <td>2014-11-26</td>\n",
       "      <td>2014-12-01</td>\n",
       "      <td>Second Class</td>\n",
       "      <td>JE-15745</td>\n",
       "      <td>Joel Eaton</td>\n",
       "      <td>Consumer</td>\n",
       "      <td>United States</td>\n",
       "      <td>Houston</td>\n",
       "      <td>...</td>\n",
       "      <td>19.300</td>\n",
       "      <td>5</td>\n",
       "      <td>0.6</td>\n",
       "      <td>-14.4750</td>\n",
       "      <td>-2.8950</td>\n",
       "      <td>0.259067</td>\n",
       "      <td>3.860</td>\n",
       "      <td>-0.7500</td>\n",
       "      <td>-72.3750</td>\n",
       "      <td>-66.2250</td>\n",
       "    </tr>\n",
       "    <tr>\n",
       "      <th>104</th>\n",
       "      <td>105</td>\n",
       "      <td>US-2015-156867</td>\n",
       "      <td>2015-11-13</td>\n",
       "      <td>2015-11-17</td>\n",
       "      <td>Standard Class</td>\n",
       "      <td>LC-16870</td>\n",
       "      <td>Lena Cacioppo</td>\n",
       "      <td>Consumer</td>\n",
       "      <td>United States</td>\n",
       "      <td>Aurora</td>\n",
       "      <td>...</td>\n",
       "      <td>102.360</td>\n",
       "      <td>3</td>\n",
       "      <td>0.2</td>\n",
       "      <td>-3.8385</td>\n",
       "      <td>-1.2795</td>\n",
       "      <td>0.029308</td>\n",
       "      <td>34.120</td>\n",
       "      <td>-0.0375</td>\n",
       "      <td>-11.5155</td>\n",
       "      <td>6.1985</td>\n",
       "    </tr>\n",
       "    <tr>\n",
       "      <th>238</th>\n",
       "      <td>239</td>\n",
       "      <td>CA-2016-157749</td>\n",
       "      <td>2016-06-04</td>\n",
       "      <td>2016-06-09</td>\n",
       "      <td>Second Class</td>\n",
       "      <td>KL-16645</td>\n",
       "      <td>Ken Lonsdale</td>\n",
       "      <td>Consumer</td>\n",
       "      <td>United States</td>\n",
       "      <td>Chicago</td>\n",
       "      <td>...</td>\n",
       "      <td>419.680</td>\n",
       "      <td>5</td>\n",
       "      <td>0.6</td>\n",
       "      <td>-356.7280</td>\n",
       "      <td>-71.3456</td>\n",
       "      <td>0.011914</td>\n",
       "      <td>83.936</td>\n",
       "      <td>-0.8500</td>\n",
       "      <td>-1783.6400</td>\n",
       "      <td>676.4080</td>\n",
       "    </tr>\n",
       "  </tbody>\n",
       "</table>\n",
       "<p>5 rows × 27 columns</p>\n",
       "</div>"
      ],
      "text/plain": [
       "     Row ID        Order ID Order Date  Ship Date       Ship Mode Customer ID  \\\n",
       "36       37  CA-2016-117590 2016-12-08 2016-12-10     First Class    GH-14485   \n",
       "76       77  US-2017-118038 2017-12-09 2017-12-11     First Class    KB-16600   \n",
       "78       79  US-2014-147606 2014-11-26 2014-12-01    Second Class    JE-15745   \n",
       "104     105  US-2015-156867 2015-11-13 2015-11-17  Standard Class    LC-16870   \n",
       "238     239  CA-2016-157749 2016-06-04 2016-06-09    Second Class    KL-16645   \n",
       "\n",
       "     Customer Name    Segment        Country        City  ...    Sales  \\\n",
       "36       Gene Hale  Corporate  United States  Richardson  ...  190.920   \n",
       "76     Ken Brennan  Corporate  United States     Houston  ...    9.708   \n",
       "78      Joel Eaton   Consumer  United States     Houston  ...   19.300   \n",
       "104  Lena Cacioppo   Consumer  United States      Aurora  ...  102.360   \n",
       "238   Ken Lonsdale   Consumer  United States     Chicago  ...  419.680   \n",
       "\n",
       "     Quantity Discount    Profit Profit_per_quantity Quantity_per_Sales  \\\n",
       "36          5      0.6 -147.9630            -29.5926           0.026189   \n",
       "76          3      0.6   -5.8248             -1.9416           0.309023   \n",
       "78          5      0.6  -14.4750             -2.8950           0.259067   \n",
       "104         3      0.2   -3.8385             -1.2795           0.029308   \n",
       "238         5      0.6 -356.7280            -71.3456           0.011914   \n",
       "\n",
       "    Price_per_Product  Profit_by_Sales  Calculated Profit  Cost_of_Product  \n",
       "36             38.184          -0.7750          -739.8150         238.8830  \n",
       "76              3.236          -0.6000           -17.4744         -84.4672  \n",
       "78              3.860          -0.7500           -72.3750         -66.2250  \n",
       "104            34.120          -0.0375           -11.5155           6.1985  \n",
       "238            83.936          -0.8500         -1783.6400         676.4080  \n",
       "\n",
       "[5 rows x 27 columns]"
      ]
     },
     "execution_count": 92,
     "metadata": {},
     "output_type": "execute_result"
    }
   ],
   "source": [
    "walmart_df.loc[(walmart_df[\"Sub-Category\"] == \"Furnishings\") & (walmart_df[\"Profit\"] < 0)].head()"
   ]
  },
  {
   "cell_type": "code",
   "execution_count": 93,
   "metadata": {},
   "outputs": [
    {
     "data": {
      "text/plain": [
       "Binders        1523\n",
       "Paper          1370\n",
       "Furnishings     957\n",
       "Phones          889\n",
       "Storage         846\n",
       "Art             796\n",
       "Accessories     775\n",
       "Chairs          617\n",
       "Appliances      466\n",
       "Labels          364\n",
       "Tables          319\n",
       "Envelopes       254\n",
       "Bookcases       228\n",
       "Fasteners       217\n",
       "Supplies        190\n",
       "Machines        115\n",
       "Copiers          68\n",
       "Name: Sub-Category, dtype: int64"
      ]
     },
     "execution_count": 93,
     "metadata": {},
     "output_type": "execute_result"
    }
   ],
   "source": [
    "walmart_df[\"Sub-Category\"].value_counts()"
   ]
  },
  {
   "cell_type": "code",
   "execution_count": null,
   "metadata": {},
   "outputs": [],
   "source": []
  }
 ],
 "metadata": {
  "kernelspec": {
   "display_name": "Python 3",
   "language": "python",
   "name": "python3"
  },
  "language_info": {
   "codemirror_mode": {
    "name": "ipython",
    "version": 3
   },
   "file_extension": ".py",
   "mimetype": "text/x-python",
   "name": "python",
   "nbconvert_exporter": "python",
   "pygments_lexer": "ipython3",
   "version": "3.7.6"
  }
 },
 "nbformat": 4,
 "nbformat_minor": 4
}
